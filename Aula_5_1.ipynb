{
 "cells": [
  {
   "cell_type": "markdown",
   "metadata": {},
   "source": [
    "# SageMath para estudantes de física\n",
    "***\n",
    "Rogério T. C."
   ]
  },
  {
   "cell_type": "markdown",
   "metadata": {},
   "source": [
    "## Aula V.1\n",
    "Exemplo baseado [nesse paper](https://arxiv.org/abs/1703.09738)"
   ]
  },
  {
   "cell_type": "markdown",
   "metadata": {},
   "source": [
    "## Equação de Klein-Gordon no espaço-tempo de Schwarzschild"
   ]
  },
  {
   "cell_type": "code",
   "execution_count": 1,
   "metadata": {},
   "outputs": [],
   "source": [
    "reset()\n",
    "%display latex"
   ]
  },
  {
   "cell_type": "markdown",
   "metadata": {},
   "source": [
    "### Espaço-tempo"
   ]
  },
  {
   "cell_type": "code",
   "execution_count": 2,
   "metadata": {},
   "outputs": [
    {
     "data": {
      "text/html": [
       "<html><script type=\"math/tex; mode=display\">\\newcommand{\\Bold}[1]{\\mathbf{#1}}m</script></html>"
      ],
      "text/latex": [
       "\\begin{math}\n",
       "\\newcommand{\\Bold}[1]{\\mathbf{#1}}m\n",
       "\\end{math}"
      ],
      "text/plain": [
       "m"
      ]
     },
     "execution_count": 2,
     "metadata": {},
     "output_type": "execute_result"
    }
   ],
   "source": [
    "var('m', domain='positive')"
   ]
  },
  {
   "cell_type": "code",
   "execution_count": 3,
   "metadata": {},
   "outputs": [],
   "source": [
    "M = Manifold(4, 'M', structure='Lorentzian')\n",
    "SD.<t, r, th, ph> = M.chart(r\"t r:(0,+oo) th:(0,pi):\\theta ph:(0,2*pi):\\phi:periodic\")"
   ]
  },
  {
   "cell_type": "code",
   "execution_count": 4,
   "metadata": {},
   "outputs": [
    {
     "data": {
      "text/html": [
       "<html><script type=\"math/tex; mode=display\">\\newcommand{\\Bold}[1]{\\mathbf{#1}}g = \\left( \\frac{2 \\, m}{r} - 1 \\right) \\mathrm{d} t\\otimes \\mathrm{d} t + \\left( -\\frac{1}{\\frac{2 \\, m}{r} - 1} \\right) \\mathrm{d} r\\otimes \\mathrm{d} r + r^{2} \\mathrm{d} {\\theta}\\otimes \\mathrm{d} {\\theta} + r^{2} \\sin\\left({\\theta}\\right)^{2} \\mathrm{d} {\\phi}\\otimes \\mathrm{d} {\\phi}</script></html>"
      ],
      "text/latex": [
       "\\begin{math}\n",
       "\\newcommand{\\Bold}[1]{\\mathbf{#1}}g = \\left( \\frac{2 \\, m}{r} - 1 \\right) \\mathrm{d} t\\otimes \\mathrm{d} t + \\left( -\\frac{1}{\\frac{2 \\, m}{r} - 1} \\right) \\mathrm{d} r\\otimes \\mathrm{d} r + r^{2} \\mathrm{d} {\\theta}\\otimes \\mathrm{d} {\\theta} + r^{2} \\sin\\left({\\theta}\\right)^{2} \\mathrm{d} {\\phi}\\otimes \\mathrm{d} {\\phi}\n",
       "\\end{math}"
      ],
      "text/plain": [
       "g = (2*m/r - 1) dt*dt - 1/(2*m/r - 1) dr*dr + r^2 dth*dth + r^2*sin(th)^2 dph*dph"
      ]
     },
     "execution_count": 4,
     "metadata": {},
     "output_type": "execute_result"
    }
   ],
   "source": [
    "g = M.metric()\n",
    "g[0, 0] = - (1 - 2*m/r)\n",
    "g[1, 1] = 1/(1 - 2*m/r)\n",
    "g[2, 2] = r^2\n",
    "g[3, 3] = r^2*sin(th)^2\n",
    "g.display()"
   ]
  },
  {
   "cell_type": "code",
   "execution_count": 5,
   "metadata": {},
   "outputs": [
    {
     "name": "stdout",
     "output_type": "stream",
     "text": [
      "CPU times: user 5.25 s, sys: 160 ms, total: 5.41 s\n",
      "Wall time: 4.51 s\n"
     ]
    }
   ],
   "source": [
    "%time nabla = g.connection()"
   ]
  },
  {
   "cell_type": "markdown",
   "metadata": {},
   "source": [
    "### Campos escalar"
   ]
  },
  {
   "cell_type": "code",
   "execution_count": 6,
   "metadata": {},
   "outputs": [],
   "source": [
    "var ('omega ,k')\n",
    "R = M.scalar_field(function('R')(r))\n",
    "S = M.scalar_field(function('S')(th))"
   ]
  },
  {
   "cell_type": "code",
   "execution_count": 7,
   "metadata": {},
   "outputs": [],
   "source": [
    "Phi = exp(-I*omega*t)*exp(I*k*ph)*R*S"
   ]
  },
  {
   "cell_type": "code",
   "execution_count": 8,
   "metadata": {},
   "outputs": [],
   "source": [
    "Phi.set_name(name='Phi', latex_name=r'\\Phi')"
   ]
  },
  {
   "cell_type": "code",
   "execution_count": 9,
   "metadata": {},
   "outputs": [
    {
     "data": {
      "text/html": [
       "<html><script type=\"math/tex; mode=display\">\\newcommand{\\Bold}[1]{\\mathbf{#1}}\\begin{array}{llcl} \\Phi:& M & \\longrightarrow & \\mathbb{R} \\\\ & \\left(t, r, {\\theta}, {\\phi}\\right) & \\longmapsto & R\\left(r\\right) S\\left({\\theta}\\right) e^{\\left(i \\, k {\\phi} - i \\, \\omega t\\right)} \\end{array}</script></html>"
      ],
      "text/latex": [
       "\\begin{math}\n",
       "\\newcommand{\\Bold}[1]{\\mathbf{#1}}\\begin{array}{llcl} \\Phi:& M & \\longrightarrow & \\mathbb{R} \\\\ & \\left(t, r, {\\theta}, {\\phi}\\right) & \\longmapsto & R\\left(r\\right) S\\left({\\theta}\\right) e^{\\left(i \\, k {\\phi} - i \\, \\omega t\\right)} \\end{array}\n",
       "\\end{math}"
      ],
      "text/plain": [
       "Phi: M --> R\n",
       "   (t, r, th, ph) |--> R(r)*S(th)*e^(I*k*ph - I*omega*t)"
      ]
     },
     "execution_count": 9,
     "metadata": {},
     "output_type": "execute_result"
    }
   ],
   "source": [
    "Phi.display()"
   ]
  },
  {
   "cell_type": "markdown",
   "metadata": {},
   "source": [
    "#### Equação $\\quad\\nabla^\\mu \\nabla_\\mu \\Phi = 0$"
   ]
  },
  {
   "cell_type": "code",
   "execution_count": 10,
   "metadata": {
    "scrolled": true
   },
   "outputs": [
    {
     "name": "stdout",
     "output_type": "stream",
     "text": [
      "CPU times: user 11 s, sys: 175 ms, total: 11.1 s\n",
      "Wall time: 7.71 s\n"
     ]
    }
   ],
   "source": [
    "%time KG = nabla(nabla(Phi).up(g)).trace()"
   ]
  },
  {
   "cell_type": "code",
   "execution_count": 11,
   "metadata": {},
   "outputs": [
    {
     "data": {
      "text/html": [
       "<html><script type=\"math/tex; mode=display\">\\newcommand{\\Bold}[1]{\\mathbf{#1}}\\begin{array}{llcl} & M & \\longrightarrow & \\mathbb{R} \\\\ & \\left(t, r, {\\theta}, {\\phi}\\right) & \\longmapsto & \\frac{{\\left({\\left(2 \\, m e^{\\left(i \\, k {\\phi}\\right)} - r e^{\\left(i \\, k {\\phi}\\right)}\\right)} R\\left(r\\right) \\cos\\left({\\theta}\\right) \\sin\\left({\\theta}\\right) \\frac{\\partial\\,S}{\\partial {\\theta}} + {\\left(2 \\, m e^{\\left(i \\, k {\\phi}\\right)} - r e^{\\left(i \\, k {\\phi}\\right)}\\right)} R\\left(r\\right) \\sin\\left({\\theta}\\right)^{2} \\frac{\\partial^2\\,S}{\\partial {\\theta} ^ 2} - {\\left(\\omega^{2} r^{3} R\\left(r\\right) e^{\\left(i \\, k {\\phi}\\right)} + 2 \\, {\\left(2 \\, m^{2} e^{\\left(i \\, k {\\phi}\\right)} - 3 \\, m r e^{\\left(i \\, k {\\phi}\\right)} + r^{2} e^{\\left(i \\, k {\\phi}\\right)}\\right)} \\frac{\\partial\\,R}{\\partial r} + {\\left(4 \\, m^{2} r e^{\\left(i \\, k {\\phi}\\right)} - 4 \\, m r^{2} e^{\\left(i \\, k {\\phi}\\right)} + r^{3} e^{\\left(i \\, k {\\phi}\\right)}\\right)} \\frac{\\partial^2\\,R}{\\partial r ^ 2}\\right)} S\\left({\\theta}\\right) \\sin\\left({\\theta}\\right)^{2} - {\\left(2 \\, k^{2} m e^{\\left(i \\, k {\\phi}\\right)} - k^{2} r e^{\\left(i \\, k {\\phi}\\right)}\\right)} R\\left(r\\right) S\\left({\\theta}\\right)\\right)} e^{\\left(-i \\, \\omega t\\right)}}{{\\left(2 \\, m r^{2} - r^{3}\\right)} \\sin\\left({\\theta}\\right)^{2}} \\end{array}</script></html>"
      ],
      "text/latex": [
       "\\begin{math}\n",
       "\\newcommand{\\Bold}[1]{\\mathbf{#1}}\\begin{array}{llcl} & M & \\longrightarrow & \\mathbb{R} \\\\ & \\left(t, r, {\\theta}, {\\phi}\\right) & \\longmapsto & \\frac{{\\left({\\left(2 \\, m e^{\\left(i \\, k {\\phi}\\right)} - r e^{\\left(i \\, k {\\phi}\\right)}\\right)} R\\left(r\\right) \\cos\\left({\\theta}\\right) \\sin\\left({\\theta}\\right) \\frac{\\partial\\,S}{\\partial {\\theta}} + {\\left(2 \\, m e^{\\left(i \\, k {\\phi}\\right)} - r e^{\\left(i \\, k {\\phi}\\right)}\\right)} R\\left(r\\right) \\sin\\left({\\theta}\\right)^{2} \\frac{\\partial^2\\,S}{\\partial {\\theta} ^ 2} - {\\left(\\omega^{2} r^{3} R\\left(r\\right) e^{\\left(i \\, k {\\phi}\\right)} + 2 \\, {\\left(2 \\, m^{2} e^{\\left(i \\, k {\\phi}\\right)} - 3 \\, m r e^{\\left(i \\, k {\\phi}\\right)} + r^{2} e^{\\left(i \\, k {\\phi}\\right)}\\right)} \\frac{\\partial\\,R}{\\partial r} + {\\left(4 \\, m^{2} r e^{\\left(i \\, k {\\phi}\\right)} - 4 \\, m r^{2} e^{\\left(i \\, k {\\phi}\\right)} + r^{3} e^{\\left(i \\, k {\\phi}\\right)}\\right)} \\frac{\\partial^2\\,R}{\\partial r ^ 2}\\right)} S\\left({\\theta}\\right) \\sin\\left({\\theta}\\right)^{2} - {\\left(2 \\, k^{2} m e^{\\left(i \\, k {\\phi}\\right)} - k^{2} r e^{\\left(i \\, k {\\phi}\\right)}\\right)} R\\left(r\\right) S\\left({\\theta}\\right)\\right)} e^{\\left(-i \\, \\omega t\\right)}}{{\\left(2 \\, m r^{2} - r^{3}\\right)} \\sin\\left({\\theta}\\right)^{2}} \\end{array}\n",
       "\\end{math}"
      ],
      "text/plain": [
       "M --> R\n",
       "(t, r, th, ph) |--> ((2*m*e^(I*k*ph) - r*e^(I*k*ph))*R(r)*cos(th)*sin(th)*d(S)/dth + (2*m*e^(I*k*ph) - r*e^(I*k*ph))*R(r)*sin(th)^2*d^2(S)/dth^2 - (omega^2*r^3*R(r)*e^(I*k*ph) + 2*(2*m^2*e^(I*k*ph) - 3*m*r*e^(I*k*ph) + r^2*e^(I*k*ph))*d(R)/dr + (4*m^2*r*e^(I*k*ph) - 4*m*r^2*e^(I*k*ph) + r^3*e^(I*k*ph))*d^2(R)/dr^2)*S(th)*sin(th)^2 - (2*k^2*m*e^(I*k*ph) - k^2*r*e^(I*k*ph))*R(r)*S(th))*e^(-I*omega*t)/((2*m*r^2 - r^3)*sin(th)^2)"
      ]
     },
     "execution_count": 11,
     "metadata": {},
     "output_type": "execute_result"
    }
   ],
   "source": [
    "KG.display()"
   ]
  },
  {
   "cell_type": "code",
   "execution_count": 12,
   "metadata": {},
   "outputs": [],
   "source": [
    "KG = (KG/Phi).expr()"
   ]
  },
  {
   "cell_type": "code",
   "execution_count": 13,
   "metadata": {},
   "outputs": [
    {
     "data": {
      "text/html": [
       "<html><script type=\"math/tex; mode=display\">\\newcommand{\\Bold}[1]{\\mathbf{#1}}-\\frac{\\omega^{2} r^{3}}{2 \\, m r^{2} - r^{3}} - \\frac{4 \\, m^{2} r \\frac{\\partial^{2}}{(\\partial r)^{2}}R\\left(r\\right)}{{\\left(2 \\, m r^{2} - r^{3}\\right)} R\\left(r\\right)} + \\frac{4 \\, m r^{2} \\frac{\\partial^{2}}{(\\partial r)^{2}}R\\left(r\\right)}{{\\left(2 \\, m r^{2} - r^{3}\\right)} R\\left(r\\right)} - \\frac{r^{3} \\frac{\\partial^{2}}{(\\partial r)^{2}}R\\left(r\\right)}{{\\left(2 \\, m r^{2} - r^{3}\\right)} R\\left(r\\right)} - \\frac{4 \\, m^{2} \\frac{\\partial}{\\partial r}R\\left(r\\right)}{{\\left(2 \\, m r^{2} - r^{3}\\right)} R\\left(r\\right)} + \\frac{6 \\, m r \\frac{\\partial}{\\partial r}R\\left(r\\right)}{{\\left(2 \\, m r^{2} - r^{3}\\right)} R\\left(r\\right)} - \\frac{2 \\, r^{2} \\frac{\\partial}{\\partial r}R\\left(r\\right)}{{\\left(2 \\, m r^{2} - r^{3}\\right)} R\\left(r\\right)} - \\frac{2 \\, k^{2} m}{{\\left(2 \\, m r^{2} - r^{3}\\right)} \\sin\\left({\\theta}\\right)^{2}} + \\frac{k^{2} r}{{\\left(2 \\, m r^{2} - r^{3}\\right)} \\sin\\left({\\theta}\\right)^{2}} + \\frac{2 \\, m \\cos\\left({\\theta}\\right) \\frac{\\partial}{\\partial {\\theta}}S\\left({\\theta}\\right)}{{\\left(2 \\, m r^{2} - r^{3}\\right)} S\\left({\\theta}\\right) \\sin\\left({\\theta}\\right)} - \\frac{r \\cos\\left({\\theta}\\right) \\frac{\\partial}{\\partial {\\theta}}S\\left({\\theta}\\right)}{{\\left(2 \\, m r^{2} - r^{3}\\right)} S\\left({\\theta}\\right) \\sin\\left({\\theta}\\right)} + \\frac{2 \\, m \\frac{\\partial^{2}}{(\\partial {\\theta})^{2}}S\\left({\\theta}\\right)}{{\\left(2 \\, m r^{2} - r^{3}\\right)} S\\left({\\theta}\\right)} - \\frac{r \\frac{\\partial^{2}}{(\\partial {\\theta})^{2}}S\\left({\\theta}\\right)}{{\\left(2 \\, m r^{2} - r^{3}\\right)} S\\left({\\theta}\\right)}</script></html>"
      ],
      "text/latex": [
       "\\begin{math}\n",
       "\\newcommand{\\Bold}[1]{\\mathbf{#1}}-\\frac{\\omega^{2} r^{3}}{2 \\, m r^{2} - r^{3}} - \\frac{4 \\, m^{2} r \\frac{\\partial^{2}}{(\\partial r)^{2}}R\\left(r\\right)}{{\\left(2 \\, m r^{2} - r^{3}\\right)} R\\left(r\\right)} + \\frac{4 \\, m r^{2} \\frac{\\partial^{2}}{(\\partial r)^{2}}R\\left(r\\right)}{{\\left(2 \\, m r^{2} - r^{3}\\right)} R\\left(r\\right)} - \\frac{r^{3} \\frac{\\partial^{2}}{(\\partial r)^{2}}R\\left(r\\right)}{{\\left(2 \\, m r^{2} - r^{3}\\right)} R\\left(r\\right)} - \\frac{4 \\, m^{2} \\frac{\\partial}{\\partial r}R\\left(r\\right)}{{\\left(2 \\, m r^{2} - r^{3}\\right)} R\\left(r\\right)} + \\frac{6 \\, m r \\frac{\\partial}{\\partial r}R\\left(r\\right)}{{\\left(2 \\, m r^{2} - r^{3}\\right)} R\\left(r\\right)} - \\frac{2 \\, r^{2} \\frac{\\partial}{\\partial r}R\\left(r\\right)}{{\\left(2 \\, m r^{2} - r^{3}\\right)} R\\left(r\\right)} - \\frac{2 \\, k^{2} m}{{\\left(2 \\, m r^{2} - r^{3}\\right)} \\sin\\left({\\theta}\\right)^{2}} + \\frac{k^{2} r}{{\\left(2 \\, m r^{2} - r^{3}\\right)} \\sin\\left({\\theta}\\right)^{2}} + \\frac{2 \\, m \\cos\\left({\\theta}\\right) \\frac{\\partial}{\\partial {\\theta}}S\\left({\\theta}\\right)}{{\\left(2 \\, m r^{2} - r^{3}\\right)} S\\left({\\theta}\\right) \\sin\\left({\\theta}\\right)} - \\frac{r \\cos\\left({\\theta}\\right) \\frac{\\partial}{\\partial {\\theta}}S\\left({\\theta}\\right)}{{\\left(2 \\, m r^{2} - r^{3}\\right)} S\\left({\\theta}\\right) \\sin\\left({\\theta}\\right)} + \\frac{2 \\, m \\frac{\\partial^{2}}{(\\partial {\\theta})^{2}}S\\left({\\theta}\\right)}{{\\left(2 \\, m r^{2} - r^{3}\\right)} S\\left({\\theta}\\right)} - \\frac{r \\frac{\\partial^{2}}{(\\partial {\\theta})^{2}}S\\left({\\theta}\\right)}{{\\left(2 \\, m r^{2} - r^{3}\\right)} S\\left({\\theta}\\right)}\n",
       "\\end{math}"
      ],
      "text/plain": [
       "-omega^2*r^3/(2*m*r^2 - r^3) - 4*m^2*r*diff(R(r), r, r)/((2*m*r^2 - r^3)*R(r)) + 4*m*r^2*diff(R(r), r, r)/((2*m*r^2 - r^3)*R(r)) - r^3*diff(R(r), r, r)/((2*m*r^2 - r^3)*R(r)) - 4*m^2*diff(R(r), r)/((2*m*r^2 - r^3)*R(r)) + 6*m*r*diff(R(r), r)/((2*m*r^2 - r^3)*R(r)) - 2*r^2*diff(R(r), r)/((2*m*r^2 - r^3)*R(r)) - 2*k^2*m/((2*m*r^2 - r^3)*sin(th)^2) + k^2*r/((2*m*r^2 - r^3)*sin(th)^2) + 2*m*cos(th)*diff(S(th), th)/((2*m*r^2 - r^3)*S(th)*sin(th)) - r*cos(th)*diff(S(th), th)/((2*m*r^2 - r^3)*S(th)*sin(th)) + 2*m*diff(S(th), th, th)/((2*m*r^2 - r^3)*S(th)) - r*diff(S(th), th, th)/((2*m*r^2 - r^3)*S(th))"
      ]
     },
     "execution_count": 13,
     "metadata": {},
     "output_type": "execute_result"
    }
   ],
   "source": [
    "KG.expand()"
   ]
  },
  {
   "cell_type": "code",
   "execution_count": 14,
   "metadata": {},
   "outputs": [],
   "source": [
    "KG = KG*(2*m*r^2-r^3)/(2*m-r)"
   ]
  },
  {
   "cell_type": "code",
   "execution_count": 15,
   "metadata": {},
   "outputs": [
    {
     "data": {
      "text/html": [
       "<html><script type=\"math/tex; mode=display\">\\newcommand{\\Bold}[1]{\\mathbf{#1}}-\\frac{\\omega^{2} r^{3}}{2 \\, m - r} - \\frac{4 \\, m^{2} r \\frac{\\partial^{2}}{(\\partial r)^{2}}R\\left(r\\right) - 4 \\, m r^{2} \\frac{\\partial^{2}}{(\\partial r)^{2}}R\\left(r\\right) + r^{3} \\frac{\\partial^{2}}{(\\partial r)^{2}}R\\left(r\\right) + 4 \\, m^{2} \\frac{\\partial}{\\partial r}R\\left(r\\right) - 6 \\, m r \\frac{\\partial}{\\partial r}R\\left(r\\right) + 2 \\, r^{2} \\frac{\\partial}{\\partial r}R\\left(r\\right)}{{\\left(2 \\, m - r\\right)} R\\left(r\\right)} + \\frac{2 \\, m \\frac{\\partial^{2}}{(\\partial {\\theta})^{2}}S\\left({\\theta}\\right) - r \\frac{\\partial^{2}}{(\\partial {\\theta})^{2}}S\\left({\\theta}\\right)}{{\\left(2 \\, m - r\\right)} S\\left({\\theta}\\right)} - \\frac{2 \\, k^{2} m - k^{2} r}{{\\left(2 \\, m - r\\right)} \\sin\\left({\\theta}\\right)^{2}} + \\frac{2 \\, m \\cos\\left({\\theta}\\right) \\frac{\\partial}{\\partial {\\theta}}S\\left({\\theta}\\right) - r \\cos\\left({\\theta}\\right) \\frac{\\partial}{\\partial {\\theta}}S\\left({\\theta}\\right)}{{\\left(2 \\, m - r\\right)} S\\left({\\theta}\\right) \\sin\\left({\\theta}\\right)}</script></html>"
      ],
      "text/latex": [
       "\\begin{math}\n",
       "\\newcommand{\\Bold}[1]{\\mathbf{#1}}-\\frac{\\omega^{2} r^{3}}{2 \\, m - r} - \\frac{4 \\, m^{2} r \\frac{\\partial^{2}}{(\\partial r)^{2}}R\\left(r\\right) - 4 \\, m r^{2} \\frac{\\partial^{2}}{(\\partial r)^{2}}R\\left(r\\right) + r^{3} \\frac{\\partial^{2}}{(\\partial r)^{2}}R\\left(r\\right) + 4 \\, m^{2} \\frac{\\partial}{\\partial r}R\\left(r\\right) - 6 \\, m r \\frac{\\partial}{\\partial r}R\\left(r\\right) + 2 \\, r^{2} \\frac{\\partial}{\\partial r}R\\left(r\\right)}{{\\left(2 \\, m - r\\right)} R\\left(r\\right)} + \\frac{2 \\, m \\frac{\\partial^{2}}{(\\partial {\\theta})^{2}}S\\left({\\theta}\\right) - r \\frac{\\partial^{2}}{(\\partial {\\theta})^{2}}S\\left({\\theta}\\right)}{{\\left(2 \\, m - r\\right)} S\\left({\\theta}\\right)} - \\frac{2 \\, k^{2} m - k^{2} r}{{\\left(2 \\, m - r\\right)} \\sin\\left({\\theta}\\right)^{2}} + \\frac{2 \\, m \\cos\\left({\\theta}\\right) \\frac{\\partial}{\\partial {\\theta}}S\\left({\\theta}\\right) - r \\cos\\left({\\theta}\\right) \\frac{\\partial}{\\partial {\\theta}}S\\left({\\theta}\\right)}{{\\left(2 \\, m - r\\right)} S\\left({\\theta}\\right) \\sin\\left({\\theta}\\right)}\n",
       "\\end{math}"
      ],
      "text/plain": [
       "-omega^2*r^3/(2*m - r) - (4*m^2*r*diff(R(r), r, r) - 4*m*r^2*diff(R(r), r, r) + r^3*diff(R(r), r, r) + 4*m^2*diff(R(r), r) - 6*m*r*diff(R(r), r) + 2*r^2*diff(R(r), r))/((2*m - r)*R(r)) + (2*m*diff(S(th), th, th) - r*diff(S(th), th, th))/((2*m - r)*S(th)) - (2*k^2*m - k^2*r)/((2*m - r)*sin(th)^2) + (2*m*cos(th)*diff(S(th), th) - r*cos(th)*diff(S(th), th))/((2*m - r)*S(th)*sin(th))"
      ]
     },
     "execution_count": 15,
     "metadata": {},
     "output_type": "execute_result"
    }
   ],
   "source": [
    "KG.expand().combine()"
   ]
  },
  {
   "cell_type": "code",
   "execution_count": 16,
   "metadata": {},
   "outputs": [
    {
     "data": {
      "text/html": [
       "<html><script type=\"math/tex; mode=display\">\\newcommand{\\Bold}[1]{\\mathbf{#1}}\\left[-\\frac{\\omega^{2} r^{3}}{2 \\, m - r}, -\\frac{4 \\, m^{2} r \\frac{\\partial^{2}}{(\\partial r)^{2}}R\\left(r\\right) - 4 \\, m r^{2} \\frac{\\partial^{2}}{(\\partial r)^{2}}R\\left(r\\right) + r^{3} \\frac{\\partial^{2}}{(\\partial r)^{2}}R\\left(r\\right) + 4 \\, m^{2} \\frac{\\partial}{\\partial r}R\\left(r\\right) - 6 \\, m r \\frac{\\partial}{\\partial r}R\\left(r\\right) + 2 \\, r^{2} \\frac{\\partial}{\\partial r}R\\left(r\\right)}{{\\left(2 \\, m - r\\right)} R\\left(r\\right)}, \\frac{2 \\, m \\frac{\\partial^{2}}{(\\partial {\\theta})^{2}}S\\left({\\theta}\\right) - r \\frac{\\partial^{2}}{(\\partial {\\theta})^{2}}S\\left({\\theta}\\right)}{{\\left(2 \\, m - r\\right)} S\\left({\\theta}\\right)}, -\\frac{2 \\, k^{2} m - k^{2} r}{{\\left(2 \\, m - r\\right)} \\sin\\left({\\theta}\\right)^{2}}, \\frac{2 \\, m \\cos\\left({\\theta}\\right) \\frac{\\partial}{\\partial {\\theta}}S\\left({\\theta}\\right) - r \\cos\\left({\\theta}\\right) \\frac{\\partial}{\\partial {\\theta}}S\\left({\\theta}\\right)}{{\\left(2 \\, m - r\\right)} S\\left({\\theta}\\right) \\sin\\left({\\theta}\\right)}\\right]</script></html>"
      ],
      "text/latex": [
       "\\begin{math}\n",
       "\\newcommand{\\Bold}[1]{\\mathbf{#1}}\\left[-\\frac{\\omega^{2} r^{3}}{2 \\, m - r}, -\\frac{4 \\, m^{2} r \\frac{\\partial^{2}}{(\\partial r)^{2}}R\\left(r\\right) - 4 \\, m r^{2} \\frac{\\partial^{2}}{(\\partial r)^{2}}R\\left(r\\right) + r^{3} \\frac{\\partial^{2}}{(\\partial r)^{2}}R\\left(r\\right) + 4 \\, m^{2} \\frac{\\partial}{\\partial r}R\\left(r\\right) - 6 \\, m r \\frac{\\partial}{\\partial r}R\\left(r\\right) + 2 \\, r^{2} \\frac{\\partial}{\\partial r}R\\left(r\\right)}{{\\left(2 \\, m - r\\right)} R\\left(r\\right)}, \\frac{2 \\, m \\frac{\\partial^{2}}{(\\partial {\\theta})^{2}}S\\left({\\theta}\\right) - r \\frac{\\partial^{2}}{(\\partial {\\theta})^{2}}S\\left({\\theta}\\right)}{{\\left(2 \\, m - r\\right)} S\\left({\\theta}\\right)}, -\\frac{2 \\, k^{2} m - k^{2} r}{{\\left(2 \\, m - r\\right)} \\sin\\left({\\theta}\\right)^{2}}, \\frac{2 \\, m \\cos\\left({\\theta}\\right) \\frac{\\partial}{\\partial {\\theta}}S\\left({\\theta}\\right) - r \\cos\\left({\\theta}\\right) \\frac{\\partial}{\\partial {\\theta}}S\\left({\\theta}\\right)}{{\\left(2 \\, m - r\\right)} S\\left({\\theta}\\right) \\sin\\left({\\theta}\\right)}\\right]\n",
       "\\end{math}"
      ],
      "text/plain": [
       "[-omega^2*r^3/(2*m - r),\n",
       " -(4*m^2*r*diff(R(r), r, r) - 4*m*r^2*diff(R(r), r, r) + r^3*diff(R(r), r, r) + 4*m^2*diff(R(r), r) - 6*m*r*diff(R(r), r) + 2*r^2*diff(R(r), r))/((2*m - r)*R(r)),\n",
       " (2*m*diff(S(th), th, th) - r*diff(S(th), th, th))/((2*m - r)*S(th)),\n",
       " -(2*k^2*m - k^2*r)/((2*m - r)*sin(th)^2),\n",
       " (2*m*cos(th)*diff(S(th), th) - r*cos(th)*diff(S(th), th))/((2*m - r)*S(th)*sin(th))]"
      ]
     },
     "execution_count": 16,
     "metadata": {},
     "output_type": "execute_result"
    }
   ],
   "source": [
    "termos = KG.expand().combine().operands();termos"
   ]
  },
  {
   "cell_type": "code",
   "execution_count": 17,
   "metadata": {},
   "outputs": [
    {
     "data": {
      "text/html": [
       "<html><script type=\"math/tex; mode=display\">\\newcommand{\\Bold}[1]{\\mathbf{#1}}-\\frac{4 \\, m^{2} r \\frac{\\partial^{2}}{(\\partial r)^{2}}R\\left(r\\right) - 4 \\, m r^{2} \\frac{\\partial^{2}}{(\\partial r)^{2}}R\\left(r\\right) + r^{3} \\frac{\\partial^{2}}{(\\partial r)^{2}}R\\left(r\\right) + 4 \\, m^{2} \\frac{\\partial}{\\partial r}R\\left(r\\right) - 6 \\, m r \\frac{\\partial}{\\partial r}R\\left(r\\right) + 2 \\, r^{2} \\frac{\\partial}{\\partial r}R\\left(r\\right)}{{\\left(2 \\, m - r\\right)} R\\left(r\\right)}</script></html>"
      ],
      "text/latex": [
       "\\begin{math}\n",
       "\\newcommand{\\Bold}[1]{\\mathbf{#1}}-\\frac{4 \\, m^{2} r \\frac{\\partial^{2}}{(\\partial r)^{2}}R\\left(r\\right) - 4 \\, m r^{2} \\frac{\\partial^{2}}{(\\partial r)^{2}}R\\left(r\\right) + r^{3} \\frac{\\partial^{2}}{(\\partial r)^{2}}R\\left(r\\right) + 4 \\, m^{2} \\frac{\\partial}{\\partial r}R\\left(r\\right) - 6 \\, m r \\frac{\\partial}{\\partial r}R\\left(r\\right) + 2 \\, r^{2} \\frac{\\partial}{\\partial r}R\\left(r\\right)}{{\\left(2 \\, m - r\\right)} R\\left(r\\right)}\n",
       "\\end{math}"
      ],
      "text/plain": [
       "-(4*m^2*r*diff(R(r), r, r) - 4*m*r^2*diff(R(r), r, r) + r^3*diff(R(r), r, r) + 4*m^2*diff(R(r), r) - 6*m*r*diff(R(r), r) + 2*r^2*diff(R(r), r))/((2*m - r)*R(r))"
      ]
     },
     "execution_count": 17,
     "metadata": {},
     "output_type": "execute_result"
    }
   ],
   "source": [
    "termos[1]"
   ]
  },
  {
   "cell_type": "code",
   "execution_count": 18,
   "metadata": {},
   "outputs": [],
   "source": [
    "gam = var('gamma')\n",
    "KG_radial = sum(termos[:2]).canonicalize_radical() == gam\n",
    "KG_angular = sum(termos[2:]).canonicalize_radical() == gam"
   ]
  },
  {
   "cell_type": "code",
   "execution_count": 19,
   "metadata": {},
   "outputs": [
    {
     "data": {
      "text/html": [
       "<html><script type=\"math/tex; mode=display\">\\newcommand{\\Bold}[1]{\\mathbf{#1}}-\\frac{\\omega^{2} r^{3} R\\left(r\\right) + 2 \\, {\\left(2 \\, m^{2} - 3 \\, m r + r^{2}\\right)} \\frac{\\partial}{\\partial r}R\\left(r\\right) + {\\left(4 \\, m^{2} r - 4 \\, m r^{2} + r^{3}\\right)} \\frac{\\partial^{2}}{(\\partial r)^{2}}R\\left(r\\right)}{{\\left(2 \\, m - r\\right)} R\\left(r\\right)} = \\gamma</script></html>"
      ],
      "text/latex": [
       "\\begin{math}\n",
       "\\newcommand{\\Bold}[1]{\\mathbf{#1}}-\\frac{\\omega^{2} r^{3} R\\left(r\\right) + 2 \\, {\\left(2 \\, m^{2} - 3 \\, m r + r^{2}\\right)} \\frac{\\partial}{\\partial r}R\\left(r\\right) + {\\left(4 \\, m^{2} r - 4 \\, m r^{2} + r^{3}\\right)} \\frac{\\partial^{2}}{(\\partial r)^{2}}R\\left(r\\right)}{{\\left(2 \\, m - r\\right)} R\\left(r\\right)} = \\gamma\n",
       "\\end{math}"
      ],
      "text/plain": [
       "-(omega^2*r^3*R(r) + 2*(2*m^2 - 3*m*r + r^2)*diff(R(r), r) + (4*m^2*r - 4*m*r^2 + r^3)*diff(R(r), r, r))/((2*m - r)*R(r)) == gamma"
      ]
     },
     "execution_count": 19,
     "metadata": {},
     "output_type": "execute_result"
    }
   ],
   "source": [
    "KG_radial"
   ]
  },
  {
   "cell_type": "code",
   "execution_count": 20,
   "metadata": {},
   "outputs": [
    {
     "data": {
      "text/html": [
       "<html><script type=\"math/tex; mode=display\">\\newcommand{\\Bold}[1]{\\mathbf{#1}}-\\omega^{2} r^{3} R\\left(r\\right) - \\gamma {\\left(2 \\, m - r\\right)} R\\left(r\\right) - 2 \\, {\\left(2 \\, m^{2} - 3 \\, m r + r^{2}\\right)} \\frac{\\partial}{\\partial r}R\\left(r\\right) - {\\left(4 \\, m^{2} r - 4 \\, m r^{2} + r^{3}\\right)} \\frac{\\partial^{2}}{(\\partial r)^{2}}R\\left(r\\right) = 0</script></html>"
      ],
      "text/latex": [
       "\\begin{math}\n",
       "\\newcommand{\\Bold}[1]{\\mathbf{#1}}-\\omega^{2} r^{3} R\\left(r\\right) - \\gamma {\\left(2 \\, m - r\\right)} R\\left(r\\right) - 2 \\, {\\left(2 \\, m^{2} - 3 \\, m r + r^{2}\\right)} \\frac{\\partial}{\\partial r}R\\left(r\\right) - {\\left(4 \\, m^{2} r - 4 \\, m r^{2} + r^{3}\\right)} \\frac{\\partial^{2}}{(\\partial r)^{2}}R\\left(r\\right) = 0\n",
       "\\end{math}"
      ],
      "text/plain": [
       "-omega^2*r^3*R(r) - gamma*(2*m - r)*R(r) - 2*(2*m^2 - 3*m*r + r^2)*diff(R(r), r) - (4*m^2*r - 4*m*r^2 + r^3)*diff(R(r), r, r) == 0"
      ]
     },
     "execution_count": 20,
     "metadata": {},
     "output_type": "execute_result"
    }
   ],
   "source": [
    "KG_radial = KG_radial*(2*m-r)*R.expr()-gam*(2*m-r)*R.expr();KG_radial"
   ]
  },
  {
   "cell_type": "code",
   "execution_count": 21,
   "metadata": {},
   "outputs": [
    {
     "data": {
      "text/html": [
       "<html><script type=\"math/tex; mode=display\">\\newcommand{\\Bold}[1]{\\mathbf{#1}}-\\frac{k^{2} S\\left({\\theta}\\right) - \\cos\\left({\\theta}\\right) \\sin\\left({\\theta}\\right) \\frac{\\partial}{\\partial {\\theta}}S\\left({\\theta}\\right) - \\sin\\left({\\theta}\\right)^{2} \\frac{\\partial^{2}}{(\\partial {\\theta})^{2}}S\\left({\\theta}\\right)}{S\\left({\\theta}\\right) \\sin\\left({\\theta}\\right)^{2}} = \\gamma</script></html>"
      ],
      "text/latex": [
       "\\begin{math}\n",
       "\\newcommand{\\Bold}[1]{\\mathbf{#1}}-\\frac{k^{2} S\\left({\\theta}\\right) - \\cos\\left({\\theta}\\right) \\sin\\left({\\theta}\\right) \\frac{\\partial}{\\partial {\\theta}}S\\left({\\theta}\\right) - \\sin\\left({\\theta}\\right)^{2} \\frac{\\partial^{2}}{(\\partial {\\theta})^{2}}S\\left({\\theta}\\right)}{S\\left({\\theta}\\right) \\sin\\left({\\theta}\\right)^{2}} = \\gamma\n",
       "\\end{math}"
      ],
      "text/plain": [
       "-(k^2*S(th) - cos(th)*sin(th)*diff(S(th), th) - sin(th)^2*diff(S(th), th, th))/(S(th)*sin(th)^2) == gamma"
      ]
     },
     "execution_count": 21,
     "metadata": {},
     "output_type": "execute_result"
    }
   ],
   "source": [
    "KG_angular"
   ]
  },
  {
   "cell_type": "code",
   "execution_count": 22,
   "metadata": {},
   "outputs": [
    {
     "data": {
      "text/html": [
       "<html><script type=\"math/tex; mode=display\">\\newcommand{\\Bold}[1]{\\mathbf{#1}}0</script></html>"
      ],
      "text/latex": [
       "\\begin{math}\n",
       "\\newcommand{\\Bold}[1]{\\mathbf{#1}}0\n",
       "\\end{math}"
      ],
      "text/plain": [
       "0"
      ]
     },
     "execution_count": 22,
     "metadata": {},
     "output_type": "execute_result"
    }
   ],
   "source": [
    "desolve(KG_radial, R.expr(), ivar=r, algorithm='fricas')"
   ]
  },
  {
   "cell_type": "markdown",
   "metadata": {},
   "source": [
    "#### Solução numérica"
   ]
  },
  {
   "cell_type": "code",
   "execution_count": 23,
   "metadata": {},
   "outputs": [],
   "source": [
    "DR = function('DR')(r)"
   ]
  },
  {
   "cell_type": "code",
   "execution_count": 24,
   "metadata": {},
   "outputs": [],
   "source": [
    "KG_rad = [diff(R.expr(),r)-DR==0,KG_radial.subs({diff(R.expr(),r):DR(r), diff(R.expr(),r,2):diff(DR(r),r)})]"
   ]
  },
  {
   "cell_type": "code",
   "execution_count": 25,
   "metadata": {},
   "outputs": [
    {
     "data": {
      "text/html": [
       "<html><script type=\"math/tex; mode=display\">\\newcommand{\\Bold}[1]{\\mathbf{#1}}\\left[-{\\rm DR}\\left(r\\right) + \\frac{\\partial}{\\partial r}R\\left(r\\right) = 0, -\\omega^{2} r^{3} R\\left(r\\right) - \\gamma {\\left(2 \\, m - r\\right)} R\\left(r\\right) - 2 \\, {\\left(2 \\, m^{2} - 3 \\, m r + r^{2}\\right)} {\\rm DR}\\left(r\\right) - {\\left(4 \\, m^{2} r - 4 \\, m r^{2} + r^{3}\\right)} \\frac{\\partial}{\\partial r}{\\rm DR}\\left(r\\right) = 0\\right]</script></html>"
      ],
      "text/latex": [
       "\\begin{math}\n",
       "\\newcommand{\\Bold}[1]{\\mathbf{#1}}\\left[-{\\rm DR}\\left(r\\right) + \\frac{\\partial}{\\partial r}R\\left(r\\right) = 0, -\\omega^{2} r^{3} R\\left(r\\right) - \\gamma {\\left(2 \\, m - r\\right)} R\\left(r\\right) - 2 \\, {\\left(2 \\, m^{2} - 3 \\, m r + r^{2}\\right)} {\\rm DR}\\left(r\\right) - {\\left(4 \\, m^{2} r - 4 \\, m r^{2} + r^{3}\\right)} \\frac{\\partial}{\\partial r}{\\rm DR}\\left(r\\right) = 0\\right]\n",
       "\\end{math}"
      ],
      "text/plain": [
       "[-DR(r) + diff(R(r), r) == 0,\n",
       " -omega^2*r^3*R(r) - gamma*(2*m - r)*R(r) - 2*(2*m^2 - 3*m*r + r^2)*DR(r) - (4*m^2*r - 4*m*r^2 + r^3)*diff(DR(r), r) == 0]"
      ]
     },
     "execution_count": 25,
     "metadata": {},
     "output_type": "execute_result"
    }
   ],
   "source": [
    "KG_rad"
   ]
  },
  {
   "cell_type": "code",
   "execution_count": 26,
   "metadata": {},
   "outputs": [
    {
     "data": {
      "text/html": [
       "<html><script type=\"math/tex; mode=display\">\\newcommand{\\Bold}[1]{\\mathbf{#1}}-0.0400000000000000 \\, r^{3} R\\left(r\\right) - 2 \\, {\\left(r^{2} - 0.300000000000000 \\, r + 0.0200000000000000\\right)} {\\rm DR}\\left(r\\right) + 2.00000000000000 \\, {\\left(r - 0.200000000000000\\right)} R\\left(r\\right) - {\\left(r^{3} - 0.400000000000000 \\, r^{2} + 0.0400000000000000 \\, r\\right)} \\frac{\\partial}{\\partial r}{\\rm DR}\\left(r\\right) = 0</script></html>"
      ],
      "text/latex": [
       "\\begin{math}\n",
       "\\newcommand{\\Bold}[1]{\\mathbf{#1}}-0.0400000000000000 \\, r^{3} R\\left(r\\right) - 2 \\, {\\left(r^{2} - 0.300000000000000 \\, r + 0.0200000000000000\\right)} {\\rm DR}\\left(r\\right) + 2.00000000000000 \\, {\\left(r - 0.200000000000000\\right)} R\\left(r\\right) - {\\left(r^{3} - 0.400000000000000 \\, r^{2} + 0.0400000000000000 \\, r\\right)} \\frac{\\partial}{\\partial r}{\\rm DR}\\left(r\\right) = 0\n",
       "\\end{math}"
      ],
      "text/plain": [
       "-0.0400000000000000*r^3*R(r) - 2*(r^2 - 0.300000000000000*r + 0.0200000000000000)*DR(r) + 2.00000000000000*(r - 0.200000000000000)*R(r) - (r^3 - 0.400000000000000*r^2 + 0.0400000000000000*r)*diff(DR(r), r) == 0"
      ]
     },
     "execution_count": 26,
     "metadata": {},
     "output_type": "execute_result"
    }
   ],
   "source": [
    "KG_rad[1] = KG_rad[1].subs(m=0.1, omega=.2, gamma=2.0);KG_rad[1]"
   ]
  },
  {
   "cell_type": "code",
   "execution_count": 27,
   "metadata": {},
   "outputs": [],
   "source": [
    "KG_rad[0] = solve(KG_rad[0],diff(R.expr(),r))[0].right()\n",
    "KG_rad[1] = solve(KG_rad[1],diff(DR(r),r))[0].right()"
   ]
  },
  {
   "cell_type": "code",
   "execution_count": 28,
   "metadata": {},
   "outputs": [
    {
     "data": {
      "text/html": [
       "<html><script type=\"math/tex; mode=display\">\\newcommand{\\Bold}[1]{\\mathbf{#1}}\\left[{\\rm DR}\\left(r\\right), -\\frac{{\\left(50 \\, r^{2} - 15 \\, r + 1\\right)} {\\rm DR}\\left(r\\right) + {\\left(r^{3} - 50 \\, r + 10\\right)} R\\left(r\\right)}{25 \\, r^{3} - 10 \\, r^{2} + r}\\right]</script></html>"
      ],
      "text/latex": [
       "\\begin{math}\n",
       "\\newcommand{\\Bold}[1]{\\mathbf{#1}}\\left[{\\rm DR}\\left(r\\right), -\\frac{{\\left(50 \\, r^{2} - 15 \\, r + 1\\right)} {\\rm DR}\\left(r\\right) + {\\left(r^{3} - 50 \\, r + 10\\right)} R\\left(r\\right)}{25 \\, r^{3} - 10 \\, r^{2} + r}\\right]\n",
       "\\end{math}"
      ],
      "text/plain": [
       "[DR(r),\n",
       " -((50*r^2 - 15*r + 1)*DR(r) + (r^3 - 50*r + 10)*R(r))/(25*r^3 - 10*r^2 + r)]"
      ]
     },
     "execution_count": 28,
     "metadata": {},
     "output_type": "execute_result"
    }
   ],
   "source": [
    "KG_rad"
   ]
  },
  {
   "cell_type": "code",
   "execution_count": 29,
   "metadata": {},
   "outputs": [
    {
     "data": {
      "text/html": [
       "<html><script type=\"math/tex; mode=display\">\\newcommand{\\Bold}[1]{\\mathbf{#1}}\\left(x, y\\right)</script></html>"
      ],
      "text/latex": [
       "\\begin{math}\n",
       "\\newcommand{\\Bold}[1]{\\mathbf{#1}}\\left(x, y\\right)\n",
       "\\end{math}"
      ],
      "text/plain": [
       "(x, y)"
      ]
     },
     "execution_count": 29,
     "metadata": {},
     "output_type": "execute_result"
    }
   ],
   "source": [
    "var('x,y')"
   ]
  },
  {
   "cell_type": "code",
   "execution_count": 30,
   "metadata": {},
   "outputs": [],
   "source": [
    "KG_rad[0] = KG_rad[0].subs({DR(r):y})\n",
    "KG_rad[1] = KG_rad[1].subs({DR(r):y, R.expr():x})"
   ]
  },
  {
   "cell_type": "code",
   "execution_count": 31,
   "metadata": {},
   "outputs": [
    {
     "data": {
      "text/html": [
       "<html><script type=\"math/tex; mode=display\">\\newcommand{\\Bold}[1]{\\mathbf{#1}}\\left[y, -\\frac{{\\left(r^{3} - 50 \\, r + 10\\right)} x + {\\left(50 \\, r^{2} - 15 \\, r + 1\\right)} y}{25 \\, r^{3} - 10 \\, r^{2} + r}\\right]</script></html>"
      ],
      "text/latex": [
       "\\begin{math}\n",
       "\\newcommand{\\Bold}[1]{\\mathbf{#1}}\\left[y, -\\frac{{\\left(r^{3} - 50 \\, r + 10\\right)} x + {\\left(50 \\, r^{2} - 15 \\, r + 1\\right)} y}{25 \\, r^{3} - 10 \\, r^{2} + r}\\right]\n",
       "\\end{math}"
      ],
      "text/plain": [
       "[y, -((r^3 - 50*r + 10)*x + (50*r^2 - 15*r + 1)*y)/(25*r^3 - 10*r^2 + r)]"
      ]
     },
     "execution_count": 31,
     "metadata": {},
     "output_type": "execute_result"
    }
   ],
   "source": [
    "KG_rad"
   ]
  },
  {
   "cell_type": "code",
   "execution_count": 32,
   "metadata": {
    "scrolled": true
   },
   "outputs": [],
   "source": [
    "radsol = desolve_system_rk4(KG_rad, [x,y], ics =[0.3 ,1 ,0.5], ivar=r, end_points=100, step=0.01)"
   ]
  },
  {
   "cell_type": "code",
   "execution_count": 33,
   "metadata": {},
   "outputs": [
    {
     "data": {
      "text/html": [
       "<html><script type=\"math/tex; mode=display\">\\newcommand{\\Bold}[1]{\\mathbf{#1}}9971</script></html>"
      ],
      "text/latex": [
       "\\begin{math}\n",
       "\\newcommand{\\Bold}[1]{\\mathbf{#1}}9971\n",
       "\\end{math}"
      ],
      "text/plain": [
       "9971"
      ]
     },
     "execution_count": 33,
     "metadata": {},
     "output_type": "execute_result"
    }
   ],
   "source": [
    "len(radsol)"
   ]
  },
  {
   "cell_type": "code",
   "execution_count": 34,
   "metadata": {},
   "outputs": [],
   "source": [
    "points =[[ i , j ] for i ,j,k  in radsol ]"
   ]
  },
  {
   "cell_type": "code",
   "execution_count": 35,
   "metadata": {},
   "outputs": [
    {
     "data": {
      "image/png": "[encoded data removed]",
      "text/plain": [
       "Graphics object consisting of 1 graphics primitive"
      ]
     },
     "execution_count": 35,
     "metadata": {},
     "output_type": "execute_result"
    }
   ],
   "source": [
    "list_plot(points, axes_labels =['$r$' , '$R$'], color='darkred', legend_label = 'Solução numérica',\n",
    "           gridlines=True, frame=True, axes=False)"
   ]
  },
  {
   "cell_type": "markdown",
   "metadata": {},
   "source": [
    "#### Variando $\\omega$ entre 0,1 e 2,5"
   ]
  },
  {
   "cell_type": "code",
   "execution_count": null,
   "metadata": {},
   "outputs": [],
   "source": [
    "pl = []\n",
    "for om in srange(0.1,2.6,.3):\n",
    "    KG_rad = [diff(R.expr(),r)-DR==0,KG_radial.subs({diff(R.expr(),r):DR(r), diff(R.expr(),r,2):diff(DR(r),r)})]\n",
    "    KG_rad[0] = solve(KG_rad[0],diff(R.expr(),r))[0].right().subs({DR(r):y})\n",
    "    KG_rad[1] = solve(KG_rad[1].subs(m=0.1, omega=om, gamma=2.0),diff(DR(r),r))[0].right().subs({DR(r):y, R.expr():x})\n",
    "    radsol = desolve_system_rk4 (KG_rad, [x,y], ics =[0.3 ,1 ,0.5], ivar=r, end_points=100, step=0.01)\n",
    "    pl.append(list_plot([[i,j] for i,j,k in radsol], axes_labels =['$r$' , '$R$'], color='darkred', \n",
    "              legend_label = r'$\\omega='+str(om.n(digits=3))+'$', gridlines=True, frame=True, axes=False))"
   ]
  },
  {
   "cell_type": "code",
   "execution_count": null,
   "metadata": {},
   "outputs": [],
   "source": [
    "ga = graphics_array(pl, nrows=3)\n",
    "ga.show(figsize=[15,12])"
   ]
  },
  {
   "cell_type": "code",
   "execution_count": null,
   "metadata": {},
   "outputs": [],
   "source": []
  }
 ],
 "metadata": {
  "kernelspec": {
   "display_name": "SageMath 9.2",
   "language": "sage",
   "name": "sagemath"
  },
  "language_info": {
   "codemirror_mode": {
    "name": "ipython",
    "version": 3
   },
   "file_extension": ".py",
   "mimetype": "text/x-python",
   "name": "python",
   "nbconvert_exporter": "python",
   "pygments_lexer": "ipython3",
   "version": "3.8.5"
  }
 },
 "nbformat": 4,
 "nbformat_minor": 4
}
