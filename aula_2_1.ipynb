{
 "cells": [
  {
   "cell_type": "markdown",
   "metadata": {},
   "source": [
    "# SageMath para estudantes de física\n",
    "***\n",
    "Rogério T. C."
   ]
  },
  {
   "cell_type": "markdown",
   "metadata": {},
   "source": [
    "## Aula II.1"
   ]
  },
  {
   "cell_type": "markdown",
   "metadata": {},
   "source": [
    "## O problema de Kepler"
   ]
  },
  {
   "cell_type": "markdown",
   "metadata": {},
   "source": [
    "Na mecânica clássica, o problema de Kepler é um caso especial do problema de dois corpos, no qual os dois corpos interagem por uma força central que varia em intensidade com o inverso do quadrado da distância $\\mathbf{r}$ entre eles. O problema consiste em encontrar a posição dos dois corpos ao longo do tempo, dadas suas massas, posições e velocidades. "
   ]
  },
  {
   "cell_type": "markdown",
   "metadata": {},
   "source": [
    "Vamos considerar o caso em que a posição de uma das massas coincide com a do centro de massa (como no sistema sol+planeta). Por se tratar um problema de força central, o movimento é confinado em um plano. Isso nos permite descrevê-lo em coordenadas polares."
   ]
  },
  {
   "cell_type": "markdown",
   "metadata": {},
   "source": [
    "O potencial e a energia cinética são dados respectivamente por\n",
    "$$V(r) = -\\frac{GMm}{r} \\quad \\text{e} \\quad T = \\frac{1}{2}m\\left(\\dot{r}^2+r^2\\dot{\\phi}^2\\right).$$"
   ]
  },
  {
   "cell_type": "code",
   "execution_count": 1,
   "metadata": {},
   "outputs": [],
   "source": [
    "%display latex\n",
    "reset()"
   ]
  },
  {
   "cell_type": "markdown",
   "metadata": {},
   "source": [
    "Variáveis dinâmicas"
   ]
  },
  {
   "cell_type": "code",
   "execution_count": 2,
   "metadata": {},
   "outputs": [],
   "source": [
    "var('t m G M', domain='positive')\n",
    "phi(t) = function('phi')(t)\n",
    "r(t) = function('r')(t)"
   ]
  },
  {
   "cell_type": "code",
   "execution_count": 3,
   "metadata": {},
   "outputs": [],
   "source": [
    "assume(r(t)>0)"
   ]
  },
  {
   "cell_type": "code",
   "execution_count": 4,
   "metadata": {},
   "outputs": [
    {
     "data": {
      "text/html": [
       "<html><script type=\"math/tex; mode=display\">\\newcommand{\\Bold}[1]{\\mathbf{#1}}\\left[t > 0, m > 0, G > 0, M > 0, r\\left(t\\right) > 0\\right]</script></html>"
      ],
      "text/latex": [
       "\\begin{math}\n",
       "\\newcommand{\\Bold}[1]{\\mathbf{#1}}\\left[t > 0, m > 0, G > 0, M > 0, r\\left(t\\right) > 0\\right]\n",
       "\\end{math}"
      ],
      "text/plain": [
       "[t > 0, m > 0, G > 0, M > 0, r(t) > 0]"
      ]
     },
     "execution_count": 4,
     "metadata": {},
     "output_type": "execute_result"
    }
   ],
   "source": [
    "assumptions()"
   ]
  },
  {
   "cell_type": "markdown",
   "metadata": {},
   "source": [
    "Vetor posição"
   ]
  },
  {
   "cell_type": "code",
   "execution_count": 5,
   "metadata": {},
   "outputs": [
    {
     "data": {
      "text/html": [
       "<html><script type=\"math/tex; mode=display\">\\newcommand{\\Bold}[1]{\\mathbf{#1}}\\left(\\cos\\left(\\phi\\left(t\\right)\\right) r\\left(t\\right),\\,r\\left(t\\right) \\sin\\left(\\phi\\left(t\\right)\\right)\\right)</script></html>"
      ],
      "text/latex": [
       "\\begin{math}\n",
       "\\newcommand{\\Bold}[1]{\\mathbf{#1}}\\left(\\cos\\left(\\phi\\left(t\\right)\\right) r\\left(t\\right),\\,r\\left(t\\right) \\sin\\left(\\phi\\left(t\\right)\\right)\\right)\n",
       "\\end{math}"
      ],
      "text/plain": [
       "(cos(phi(t))*r(t), r(t)*sin(phi(t)))"
      ]
     },
     "execution_count": 5,
     "metadata": {},
     "output_type": "execute_result"
    }
   ],
   "source": [
    "R = vector([r(t)*cos(phi(t)),r(t)*sin(phi(t))]);R"
   ]
  },
  {
   "cell_type": "code",
   "execution_count": 6,
   "metadata": {},
   "outputs": [
    {
     "data": {
      "text/html": [
       "<html><script type=\"math/tex; mode=display\">\\newcommand{\\Bold}[1]{\\mathbf{#1}}r\\left(t\\right)</script></html>"
      ],
      "text/latex": [
       "\\begin{math}\n",
       "\\newcommand{\\Bold}[1]{\\mathbf{#1}}r\\left(t\\right)\n",
       "\\end{math}"
      ],
      "text/plain": [
       "r(t)"
      ]
     },
     "execution_count": 6,
     "metadata": {},
     "output_type": "execute_result"
    }
   ],
   "source": [
    "R.norm().simplify_trig().canonicalize_radical()"
   ]
  },
  {
   "cell_type": "markdown",
   "metadata": {},
   "source": [
    "Potencial"
   ]
  },
  {
   "cell_type": "code",
   "execution_count": 7,
   "metadata": {},
   "outputs": [
    {
     "data": {
      "text/html": [
       "<html><script type=\"math/tex; mode=display\">\\newcommand{\\Bold}[1]{\\mathbf{#1}}-\\frac{G M m}{r\\left(t\\right)}</script></html>"
      ],
      "text/latex": [
       "\\begin{math}\n",
       "\\newcommand{\\Bold}[1]{\\mathbf{#1}}-\\frac{G M m}{r\\left(t\\right)}\n",
       "\\end{math}"
      ],
      "text/plain": [
       "-G*M*m/r(t)"
      ]
     },
     "execution_count": 7,
     "metadata": {},
     "output_type": "execute_result"
    }
   ],
   "source": [
    "V = -G*M*m/(r(t));V"
   ]
  },
  {
   "cell_type": "markdown",
   "metadata": {},
   "source": [
    "Energia cinética"
   ]
  },
  {
   "cell_type": "code",
   "execution_count": 8,
   "metadata": {},
   "outputs": [
    {
     "data": {
      "text/html": [
       "<html><script type=\"math/tex; mode=display\">\\newcommand{\\Bold}[1]{\\mathbf{#1}}\\frac{1}{2} \\, {\\left(\\cos\\left(\\phi\\left(t\\right)\\right) r\\left(t\\right) \\frac{\\partial}{\\partial t}\\phi\\left(t\\right) + \\sin\\left(\\phi\\left(t\\right)\\right) \\frac{\\partial}{\\partial t}r\\left(t\\right)\\right)}^{2} m + \\frac{1}{2} \\, {\\left(r\\left(t\\right) \\sin\\left(\\phi\\left(t\\right)\\right) \\frac{\\partial}{\\partial t}\\phi\\left(t\\right) - \\cos\\left(\\phi\\left(t\\right)\\right) \\frac{\\partial}{\\partial t}r\\left(t\\right)\\right)}^{2} m</script></html>"
      ],
      "text/latex": [
       "\\begin{math}\n",
       "\\newcommand{\\Bold}[1]{\\mathbf{#1}}\\frac{1}{2} \\, {\\left(\\cos\\left(\\phi\\left(t\\right)\\right) r\\left(t\\right) \\frac{\\partial}{\\partial t}\\phi\\left(t\\right) + \\sin\\left(\\phi\\left(t\\right)\\right) \\frac{\\partial}{\\partial t}r\\left(t\\right)\\right)}^{2} m + \\frac{1}{2} \\, {\\left(r\\left(t\\right) \\sin\\left(\\phi\\left(t\\right)\\right) \\frac{\\partial}{\\partial t}\\phi\\left(t\\right) - \\cos\\left(\\phi\\left(t\\right)\\right) \\frac{\\partial}{\\partial t}r\\left(t\\right)\\right)}^{2} m\n",
       "\\end{math}"
      ],
      "text/plain": [
       "1/2*(cos(phi(t))*r(t)*diff(phi(t), t) + sin(phi(t))*diff(r(t), t))^2*m + 1/2*(r(t)*sin(phi(t))*diff(phi(t), t) - cos(phi(t))*diff(r(t), t))^2*m"
      ]
     },
     "execution_count": 8,
     "metadata": {},
     "output_type": "execute_result"
    }
   ],
   "source": [
    "T = m/2*diff(R,t)*diff(R,t);T"
   ]
  },
  {
   "cell_type": "code",
   "execution_count": 9,
   "metadata": {},
   "outputs": [
    {
     "data": {
      "text/html": [
       "<html><script type=\"math/tex; mode=display\">\\newcommand{\\Bold}[1]{\\mathbf{#1}}\\frac{1}{2} \\, m r\\left(t\\right)^{2} \\frac{\\partial}{\\partial t}\\phi\\left(t\\right)^{2} + \\frac{1}{2} \\, m \\frac{\\partial}{\\partial t}r\\left(t\\right)^{2}</script></html>"
      ],
      "text/latex": [
       "\\begin{math}\n",
       "\\newcommand{\\Bold}[1]{\\mathbf{#1}}\\frac{1}{2} \\, m r\\left(t\\right)^{2} \\frac{\\partial}{\\partial t}\\phi\\left(t\\right)^{2} + \\frac{1}{2} \\, m \\frac{\\partial}{\\partial t}r\\left(t\\right)^{2}\n",
       "\\end{math}"
      ],
      "text/plain": [
       "1/2*m*r(t)^2*diff(phi(t), t)^2 + 1/2*m*diff(r(t), t)^2"
      ]
     },
     "execution_count": 9,
     "metadata": {},
     "output_type": "execute_result"
    }
   ],
   "source": [
    "T = T.simplify_trig();T"
   ]
  },
  {
   "cell_type": "markdown",
   "metadata": {},
   "source": [
    "Lagrangiana"
   ]
  },
  {
   "cell_type": "code",
   "execution_count": 10,
   "metadata": {},
   "outputs": [
    {
     "data": {
      "text/html": [
       "<html><script type=\"math/tex; mode=display\">\\newcommand{\\Bold}[1]{\\mathbf{#1}}\\frac{1}{2} \\, m r\\left(t\\right)^{2} \\frac{\\partial}{\\partial t}\\phi\\left(t\\right)^{2} + \\frac{1}{2} \\, m \\frac{\\partial}{\\partial t}r\\left(t\\right)^{2} + \\frac{G M m}{r\\left(t\\right)}</script></html>"
      ],
      "text/latex": [
       "\\begin{math}\n",
       "\\newcommand{\\Bold}[1]{\\mathbf{#1}}\\frac{1}{2} \\, m r\\left(t\\right)^{2} \\frac{\\partial}{\\partial t}\\phi\\left(t\\right)^{2} + \\frac{1}{2} \\, m \\frac{\\partial}{\\partial t}r\\left(t\\right)^{2} + \\frac{G M m}{r\\left(t\\right)}\n",
       "\\end{math}"
      ],
      "text/plain": [
       "1/2*m*r(t)^2*diff(phi(t), t)^2 + 1/2*m*diff(r(t), t)^2 + G*M*m/r(t)"
      ]
     },
     "execution_count": 10,
     "metadata": {},
     "output_type": "execute_result"
    }
   ],
   "source": [
    "L = T-V;L"
   ]
  },
  {
   "cell_type": "markdown",
   "metadata": {},
   "source": [
    "Equações de Euler-Lagrange\n",
    "$$ \\displaystyle {\\frac {\\partial L}{\\partial q_{i}}}(t,{\\boldsymbol {q}}(t),{\\dot {\\boldsymbol {q}}}(t))-{\\frac {\\mathrm {d} }{\\mathrm {d} t}}{\\frac {\\partial L}{\\partial {\\dot {q}}_{i}}}(t,{\\boldsymbol {q}}(t),{\\dot {\\boldsymbol {q}}}(t))=0$$"
   ]
  },
  {
   "cell_type": "markdown",
   "metadata": {},
   "source": [
    "$$\\frac {\\partial L}{\\partial q_{i}}(t,{\\boldsymbol {q}}(t),{\\dot {\\boldsymbol {q}}}(t))=0 \\Rightarrow {\\frac {\\partial L}{\\partial {\\dot {q}}_{i}}}(t,{\\boldsymbol {q}}(t),{\\dot {\\boldsymbol {q}}}(t))=C$$"
   ]
  },
  {
   "cell_type": "markdown",
   "metadata": {},
   "source": [
    "Usaremos as quantidades conservadas no lugar das equações de Euler-Lagrange"
   ]
  },
  {
   "cell_type": "markdown",
   "metadata": {},
   "source": [
    "Variáveis simbólicas para energia e momento angular"
   ]
  },
  {
   "cell_type": "code",
   "execution_count": 11,
   "metadata": {},
   "outputs": [
    {
     "data": {
      "text/html": [
       "<html><script type=\"math/tex; mode=display\">\\newcommand{\\Bold}[1]{\\mathbf{#1}}{\\ell}</script></html>"
      ],
      "text/latex": [
       "\\begin{math}\n",
       "\\newcommand{\\Bold}[1]{\\mathbf{#1}}{\\ell}\n",
       "\\end{math}"
      ],
      "text/plain": [
       "l"
      ]
     },
     "execution_count": 11,
     "metadata": {},
     "output_type": "execute_result"
    }
   ],
   "source": [
    "var('E', domain='real')\n",
    "var('l', latex_name=r'\\ell', domain='positive')"
   ]
  },
  {
   "cell_type": "markdown",
   "metadata": {},
   "source": [
    "Energia conservada"
   ]
  },
  {
   "cell_type": "code",
   "execution_count": 12,
   "metadata": {},
   "outputs": [
    {
     "data": {
      "text/html": [
       "<html><script type=\"math/tex; mode=display\">\\newcommand{\\Bold}[1]{\\mathbf{#1}}E = \\frac{1}{2} \\, m r\\left(t\\right)^{2} \\frac{\\partial}{\\partial t}\\phi\\left(t\\right)^{2} + \\frac{1}{2} \\, m \\frac{\\partial}{\\partial t}r\\left(t\\right)^{2} - \\frac{G M m}{r\\left(t\\right)}</script></html>"
      ],
      "text/latex": [
       "\\begin{math}\n",
       "\\newcommand{\\Bold}[1]{\\mathbf{#1}}E = \\frac{1}{2} \\, m r\\left(t\\right)^{2} \\frac{\\partial}{\\partial t}\\phi\\left(t\\right)^{2} + \\frac{1}{2} \\, m \\frac{\\partial}{\\partial t}r\\left(t\\right)^{2} - \\frac{G M m}{r\\left(t\\right)}\n",
       "\\end{math}"
      ],
      "text/plain": [
       "E == 1/2*m*r(t)^2*diff(phi(t), t)^2 + 1/2*m*diff(r(t), t)^2 - G*M*m/r(t)"
      ]
     },
     "execution_count": 12,
     "metadata": {},
     "output_type": "execute_result"
    }
   ],
   "source": [
    "eq_E = E == T+V;eq_E"
   ]
  },
  {
   "cell_type": "code",
   "execution_count": 13,
   "metadata": {},
   "outputs": [],
   "source": [
    "def formal_derivative(f, x):\n",
    "    r\"\"\"\n",
    "    The formal derivative of `f` with respect to the symbolic function `x`.\n",
    "    \"\"\"\n",
    "    tempX = SR.symbol()\n",
    "    return f.subs({x: tempX}).diff(tempX).subs({tempX: x})"
   ]
  },
  {
   "cell_type": "code",
   "execution_count": 14,
   "metadata": {},
   "outputs": [
    {
     "data": {
      "text/html": [
       "<html><script type=\"math/tex; mode=display\">\\newcommand{\\Bold}[1]{\\mathbf{#1}}0</script></html>"
      ],
      "text/latex": [
       "\\begin{math}\n",
       "\\newcommand{\\Bold}[1]{\\mathbf{#1}}0\n",
       "\\end{math}"
      ],
      "text/plain": [
       "0"
      ]
     },
     "execution_count": 14,
     "metadata": {},
     "output_type": "execute_result"
    }
   ],
   "source": [
    "formal_derivative(L,phi)"
   ]
  },
  {
   "cell_type": "markdown",
   "metadata": {},
   "source": [
    "Momento angular conservado"
   ]
  },
  {
   "cell_type": "code",
   "execution_count": 15,
   "metadata": {},
   "outputs": [
    {
     "data": {
      "text/html": [
       "<html><script type=\"math/tex; mode=display\">\\newcommand{\\Bold}[1]{\\mathbf{#1}}m r\\left(t\\right)^{2} \\frac{\\partial}{\\partial t}\\phi\\left(t\\right) = {\\ell}</script></html>"
      ],
      "text/latex": [
       "\\begin{math}\n",
       "\\newcommand{\\Bold}[1]{\\mathbf{#1}}m r\\left(t\\right)^{2} \\frac{\\partial}{\\partial t}\\phi\\left(t\\right) = {\\ell}\n",
       "\\end{math}"
      ],
      "text/plain": [
       "m*r(t)^2*diff(phi(t), t) == l"
      ]
     },
     "execution_count": 15,
     "metadata": {},
     "output_type": "execute_result"
    }
   ],
   "source": [
    "eq_phi = formal_derivative(L,diff(phi,t)) ==l;eq_phi"
   ]
  },
  {
   "cell_type": "code",
   "execution_count": 16,
   "metadata": {},
   "outputs": [
    {
     "data": {
      "text/html": [
       "<html><script type=\"math/tex; mode=display\">\\newcommand{\\Bold}[1]{\\mathbf{#1}}\\frac{\\partial}{\\partial t}\\phi\\left(t\\right) = \\frac{{\\ell}}{m r\\left(t\\right)^{2}}</script></html>"
      ],
      "text/latex": [
       "\\begin{math}\n",
       "\\newcommand{\\Bold}[1]{\\mathbf{#1}}\\frac{\\partial}{\\partial t}\\phi\\left(t\\right) = \\frac{{\\ell}}{m r\\left(t\\right)^{2}}\n",
       "\\end{math}"
      ],
      "text/plain": [
       "diff(phi(t), t) == l/(m*r(t)^2)"
      ]
     },
     "execution_count": 16,
     "metadata": {},
     "output_type": "execute_result"
    }
   ],
   "source": [
    "eq_phi1 = solve(eq_phi,diff(phi(t),t))[0];eq_phi1"
   ]
  },
  {
   "cell_type": "markdown",
   "metadata": {},
   "source": [
    "Substituindo o momento angular na energia conservada"
   ]
  },
  {
   "cell_type": "code",
   "execution_count": 17,
   "metadata": {},
   "outputs": [
    {
     "data": {
      "text/html": [
       "<html><script type=\"math/tex; mode=display\">\\newcommand{\\Bold}[1]{\\mathbf{#1}}E = \\frac{1}{2} \\, m \\frac{\\partial}{\\partial t}r\\left(t\\right)^{2} - \\frac{G M m}{r\\left(t\\right)} + \\frac{{\\ell}^{2}}{2 \\, m r\\left(t\\right)^{2}}</script></html>"
      ],
      "text/latex": [
       "\\begin{math}\n",
       "\\newcommand{\\Bold}[1]{\\mathbf{#1}}E = \\frac{1}{2} \\, m \\frac{\\partial}{\\partial t}r\\left(t\\right)^{2} - \\frac{G M m}{r\\left(t\\right)} + \\frac{{\\ell}^{2}}{2 \\, m r\\left(t\\right)^{2}}\n",
       "\\end{math}"
      ],
      "text/plain": [
       "E == 1/2*m*diff(r(t), t)^2 - G*M*m/r(t) + 1/2*l^2/(m*r(t)^2)"
      ]
     },
     "execution_count": 17,
     "metadata": {},
     "output_type": "execute_result"
    }
   ],
   "source": [
    "eq_E1 = eq_E.subs(eq_phi1);eq_E1"
   ]
  },
  {
   "cell_type": "code",
   "execution_count": 18,
   "metadata": {},
   "outputs": [
    {
     "data": {
      "text/html": [
       "<html><script type=\"math/tex; mode=display\">\\newcommand{\\Bold}[1]{\\mathbf{#1}}\\frac{\\partial}{\\partial t}r\\left(t\\right) = \\frac{\\sqrt{2 \\, G M m^{2} r\\left(t\\right) + 2 \\, E m r\\left(t\\right)^{2} - {\\ell}^{2}}}{m r\\left(t\\right)}</script></html>"
      ],
      "text/latex": [
       "\\begin{math}\n",
       "\\newcommand{\\Bold}[1]{\\mathbf{#1}}\\frac{\\partial}{\\partial t}r\\left(t\\right) = \\frac{\\sqrt{2 \\, G M m^{2} r\\left(t\\right) + 2 \\, E m r\\left(t\\right)^{2} - {\\ell}^{2}}}{m r\\left(t\\right)}\n",
       "\\end{math}"
      ],
      "text/plain": [
       "diff(r(t), t) == sqrt(2*G*M*m^2*r(t) + 2*E*m*r(t)^2 - l^2)/(m*r(t))"
      ]
     },
     "execution_count": 18,
     "metadata": {},
     "output_type": "execute_result"
    }
   ],
   "source": [
    "eq_r = solve(eq_E1,diff(r(t),t))[1];eq_r"
   ]
  },
  {
   "cell_type": "markdown",
   "metadata": {},
   "source": [
    "Pela regra da cadeia,\n",
    "$$\\frac{d\\phi}{dr}=\\frac{\\frac{d\\phi}{dt}}{\\frac{dr}{dt}}$$"
   ]
  },
  {
   "cell_type": "markdown",
   "metadata": {},
   "source": [
    "$$\\displaystyle \\phi = \\int \\frac{d\\phi}{dt}\\left(\\frac{dr}{dt}\\right)^{-1}dr$$"
   ]
  },
  {
   "cell_type": "markdown",
   "metadata": {},
   "source": [
    "Usaremos a variável simbólica $\\varphi$ no lugar da função $\\phi$ e uma variável simbólica para a função $r(t)$."
   ]
  },
  {
   "cell_type": "code",
   "execution_count": 19,
   "metadata": {},
   "outputs": [],
   "source": [
    "vr = var('vr', latex_name='r', domain='positive')\n",
    "vp = var('vp', latex_name=r'\\varphi')"
   ]
  },
  {
   "cell_type": "code",
   "execution_count": 20,
   "metadata": {},
   "outputs": [
    {
     "data": {
      "text/html": [
       "<html><script type=\"math/tex; mode=display\">\\newcommand{\\Bold}[1]{\\mathbf{#1}}{r}</script></html>"
      ],
      "text/latex": [
       "\\begin{math}\n",
       "\\newcommand{\\Bold}[1]{\\mathbf{#1}}{r}\n",
       "\\end{math}"
      ],
      "text/plain": [
       "vr"
      ]
     },
     "execution_count": 20,
     "metadata": {},
     "output_type": "execute_result"
    }
   ],
   "source": [
    "vr"
   ]
  },
  {
   "cell_type": "markdown",
   "metadata": {},
   "source": [
    "$$\\int \\frac{d\\phi}{dt}\\left(\\frac{dr}{dt}\\right)^{-1}dr$$"
   ]
  },
  {
   "cell_type": "code",
   "execution_count": 21,
   "metadata": {},
   "outputs": [
    {
     "data": {
      "text/html": [
       "<html><script type=\"math/tex; mode=display\">\\newcommand{\\Bold}[1]{\\mathbf{#1}}\\int \\frac{{\\ell}}{\\sqrt{2 \\, G M m^{2} {r} + 2 \\, E m {r}^{2} - {\\ell}^{2}} {r}}\\,{d {r}}</script></html>"
      ],
      "text/latex": [
       "\\begin{math}\n",
       "\\newcommand{\\Bold}[1]{\\mathbf{#1}}\\int \\frac{{\\ell}}{\\sqrt{2 \\, G M m^{2} {r} + 2 \\, E m {r}^{2} - {\\ell}^{2}} {r}}\\,{d {r}}\n",
       "\\end{math}"
      ],
      "text/plain": [
       "integrate(l/(sqrt(2*G*M*m^2*vr + 2*E*m*vr^2 - l^2)*vr), vr)"
      ]
     },
     "execution_count": 21,
     "metadata": {},
     "output_type": "execute_result"
    }
   ],
   "source": [
    "phrt = integral((eq_phi1.rhs()/eq_r.rhs()).subs({r(t):vr}),vr, hold=True);phrt"
   ]
  },
  {
   "cell_type": "markdown",
   "metadata": {},
   "source": [
    "Calculando a integral"
   ]
  },
  {
   "cell_type": "code",
   "execution_count": 22,
   "metadata": {},
   "outputs": [
    {
     "data": {
      "text/html": [
       "<html><script type=\"math/tex; mode=display\">\\newcommand{\\Bold}[1]{\\mathbf{#1}}-\\arcsin\\left(-\\frac{G M m^{2}}{\\sqrt{G^{2} M^{2} m^{4} + 2 \\, E {\\ell}^{2} m}} + \\frac{{\\ell}^{2}}{\\sqrt{G^{2} M^{2} m^{4} + 2 \\, E {\\ell}^{2} m} {r}}\\right)</script></html>"
      ],
      "text/latex": [
       "\\begin{math}\n",
       "\\newcommand{\\Bold}[1]{\\mathbf{#1}}-\\arcsin\\left(-\\frac{G M m^{2}}{\\sqrt{G^{2} M^{2} m^{4} + 2 \\, E {\\ell}^{2} m}} + \\frac{{\\ell}^{2}}{\\sqrt{G^{2} M^{2} m^{4} + 2 \\, E {\\ell}^{2} m} {r}}\\right)\n",
       "\\end{math}"
      ],
      "text/plain": [
       "-arcsin(-G*M*m^2/sqrt(G^2*M^2*m^4 + 2*E*l^2*m) + l^2/(sqrt(G^2*M^2*m^4 + 2*E*l^2*m)*vr))"
      ]
     },
     "execution_count": 22,
     "metadata": {},
     "output_type": "execute_result"
    }
   ],
   "source": [
    "assume(G^2*M^2*m^3+2*E*l^2>0)\n",
    "phrt.unhold()"
   ]
  },
  {
   "cell_type": "markdown",
   "metadata": {},
   "source": [
    "Solução em termos de $\\varphi$"
   ]
  },
  {
   "cell_type": "code",
   "execution_count": 23,
   "metadata": {},
   "outputs": [
    {
     "data": {
      "text/html": [
       "<html><script type=\"math/tex; mode=display\">\\newcommand{\\Bold}[1]{\\mathbf{#1}}{\\varphi} = -\\arcsin\\left(-\\frac{G M m^{2}}{\\sqrt{G^{2} M^{2} m^{4} + 2 \\, E {\\ell}^{2} m}} + \\frac{{\\ell}^{2}}{\\sqrt{G^{2} M^{2} m^{4} + 2 \\, E {\\ell}^{2} m} {r}}\\right)</script></html>"
      ],
      "text/latex": [
       "\\begin{math}\n",
       "\\newcommand{\\Bold}[1]{\\mathbf{#1}}{\\varphi} = -\\arcsin\\left(-\\frac{G M m^{2}}{\\sqrt{G^{2} M^{2} m^{4} + 2 \\, E {\\ell}^{2} m}} + \\frac{{\\ell}^{2}}{\\sqrt{G^{2} M^{2} m^{4} + 2 \\, E {\\ell}^{2} m} {r}}\\right)\n",
       "\\end{math}"
      ],
      "text/plain": [
       "vp == -arcsin(-G*M*m^2/sqrt(G^2*M^2*m^4 + 2*E*l^2*m) + l^2/(sqrt(G^2*M^2*m^4 + 2*E*l^2*m)*vr))"
      ]
     },
     "execution_count": 23,
     "metadata": {},
     "output_type": "execute_result"
    }
   ],
   "source": [
    "eq_vp = vp ==phrt.unhold();eq_vp"
   ]
  },
  {
   "cell_type": "code",
   "execution_count": 24,
   "metadata": {},
   "outputs": [
    {
     "data": {
      "text/html": [
       "<html><script type=\"math/tex; mode=display\">\\newcommand{\\Bold}[1]{\\mathbf{#1}}\\sin\\left({\\varphi}\\right) = \\sin\\left(-\\arcsin\\left(-\\frac{G M m^{2}}{\\sqrt{G^{2} M^{2} m^{4} + 2 \\, E {\\ell}^{2} m}} + \\frac{{\\ell}^{2}}{\\sqrt{G^{2} M^{2} m^{4} + 2 \\, E {\\ell}^{2} m} {r}}\\right)\\right)</script></html>"
      ],
      "text/latex": [
       "\\begin{math}\n",
       "\\newcommand{\\Bold}[1]{\\mathbf{#1}}\\sin\\left({\\varphi}\\right) = \\sin\\left(-\\arcsin\\left(-\\frac{G M m^{2}}{\\sqrt{G^{2} M^{2} m^{4} + 2 \\, E {\\ell}^{2} m}} + \\frac{{\\ell}^{2}}{\\sqrt{G^{2} M^{2} m^{4} + 2 \\, E {\\ell}^{2} m} {r}}\\right)\\right)\n",
       "\\end{math}"
      ],
      "text/plain": [
       "sin(vp) == sin(-arcsin(-G*M*m^2/sqrt(G^2*M^2*m^4 + 2*E*l^2*m) + l^2/(sqrt(G^2*M^2*m^4 + 2*E*l^2*m)*vr)))"
      ]
     },
     "execution_count": 24,
     "metadata": {},
     "output_type": "execute_result"
    }
   ],
   "source": [
    "sol_vp = sin(eq_vp.lhs()) == sin(eq_vp.rhs());sol_vp"
   ]
  },
  {
   "cell_type": "code",
   "execution_count": 25,
   "metadata": {},
   "outputs": [
    {
     "data": {
      "text/html": [
       "<html><script type=\"math/tex; mode=display\">\\newcommand{\\Bold}[1]{\\mathbf{#1}}\\sin\\left({\\varphi}\\right) = \\frac{G M m^{2} {r} - {\\ell}^{2}}{\\sqrt{G^{2} M^{2} m^{4} + 2 \\, E {\\ell}^{2} m} {r}}</script></html>"
      ],
      "text/latex": [
       "\\begin{math}\n",
       "\\newcommand{\\Bold}[1]{\\mathbf{#1}}\\sin\\left({\\varphi}\\right) = \\frac{G M m^{2} {r} - {\\ell}^{2}}{\\sqrt{G^{2} M^{2} m^{4} + 2 \\, E {\\ell}^{2} m} {r}}\n",
       "\\end{math}"
      ],
      "text/plain": [
       "sin(vp) == (G*M*m^2*vr - l^2)/(sqrt(G^2*M^2*m^4 + 2*E*l^2*m)*vr)"
      ]
     },
     "execution_count": 25,
     "metadata": {},
     "output_type": "execute_result"
    }
   ],
   "source": [
    "sol_vp = sol_vp.trig_simplify();sol_vp"
   ]
  },
  {
   "cell_type": "markdown",
   "metadata": {},
   "source": [
    "Isolando o $r$"
   ]
  },
  {
   "cell_type": "code",
   "execution_count": 26,
   "metadata": {},
   "outputs": [
    {
     "data": {
      "text/html": [
       "<html><script type=\"math/tex; mode=display\">\\newcommand{\\Bold}[1]{\\mathbf{#1}}{r} = \\frac{{\\ell}^{2}}{G M m^{2} - \\sqrt{G^{2} M^{2} m^{4} + 2 \\, E {\\ell}^{2} m} \\sin\\left({\\varphi}\\right)}</script></html>"
      ],
      "text/latex": [
       "\\begin{math}\n",
       "\\newcommand{\\Bold}[1]{\\mathbf{#1}}{r} = \\frac{{\\ell}^{2}}{G M m^{2} - \\sqrt{G^{2} M^{2} m^{4} + 2 \\, E {\\ell}^{2} m} \\sin\\left({\\varphi}\\right)}\n",
       "\\end{math}"
      ],
      "text/plain": [
       "vr == l^2/(G*M*m^2 - sqrt(G^2*M^2*m^4 + 2*E*l^2*m)*sin(vp))"
      ]
     },
     "execution_count": 26,
     "metadata": {},
     "output_type": "execute_result"
    }
   ],
   "source": [
    "sol_r = solve(sol_vp,vr)[0];sol_r"
   ]
  },
  {
   "cell_type": "markdown",
   "metadata": {},
   "source": [
    "Solução de livro texto em termos da excentricidade $\\epsilon$ da órbita"
   ]
  },
  {
   "cell_type": "code",
   "execution_count": 27,
   "metadata": {},
   "outputs": [
    {
     "data": {
      "text/html": [
       "<html><script type=\"math/tex; mode=display\">\\newcommand{\\Bold}[1]{\\mathbf{#1}}\\epsilon</script></html>"
      ],
      "text/latex": [
       "\\begin{math}\n",
       "\\newcommand{\\Bold}[1]{\\mathbf{#1}}\\epsilon\n",
       "\\end{math}"
      ],
      "text/plain": [
       "epsilon"
      ]
     },
     "execution_count": 27,
     "metadata": {},
     "output_type": "execute_result"
    }
   ],
   "source": [
    "ep = var('epsilon', domain='real');ep"
   ]
  },
  {
   "cell_type": "code",
   "execution_count": 28,
   "metadata": {},
   "outputs": [
    {
     "data": {
      "text/html": [
       "<html><script type=\"math/tex; mode=display\">\\newcommand{\\Bold}[1]{\\mathbf{#1}}\\epsilon = \\sqrt{\\frac{2 \\, E {\\ell}^{2}}{G^{2} M^{2} m^{3}} + 1}</script></html>"
      ],
      "text/latex": [
       "\\begin{math}\n",
       "\\newcommand{\\Bold}[1]{\\mathbf{#1}}\\epsilon = \\sqrt{\\frac{2 \\, E {\\ell}^{2}}{G^{2} M^{2} m^{3}} + 1}\n",
       "\\end{math}"
      ],
      "text/plain": [
       "epsilon == sqrt(2*E*l^2/(G^2*M^2*m^3) + 1)"
      ]
     },
     "execution_count": 28,
     "metadata": {},
     "output_type": "execute_result"
    }
   ],
   "source": [
    "eq_ep = ep == sqrt(1+2*l^2*E/(m*(G*m*M)^2));eq_ep"
   ]
  },
  {
   "cell_type": "markdown",
   "metadata": {},
   "source": [
    "Para incluir a excentricidade na solução, isolamos $E$ na expressão da excentricidade"
   ]
  },
  {
   "cell_type": "code",
   "execution_count": 29,
   "metadata": {},
   "outputs": [
    {
     "data": {
      "text/html": [
       "<html><script type=\"math/tex; mode=display\">\\newcommand{\\Bold}[1]{\\mathbf{#1}}E = \\frac{{\\left(G^{2} M^{2} \\epsilon^{2} - G^{2} M^{2}\\right)} m^{3}}{2 \\, {\\ell}^{2}}</script></html>"
      ],
      "text/latex": [
       "\\begin{math}\n",
       "\\newcommand{\\Bold}[1]{\\mathbf{#1}}E = \\frac{{\\left(G^{2} M^{2} \\epsilon^{2} - G^{2} M^{2}\\right)} m^{3}}{2 \\, {\\ell}^{2}}\n",
       "\\end{math}"
      ],
      "text/plain": [
       "E == 1/2*(G^2*M^2*epsilon^2 - G^2*M^2)*m^3/l^2"
      ]
     },
     "execution_count": 29,
     "metadata": {},
     "output_type": "execute_result"
    }
   ],
   "source": [
    "assume(ep>0)\n",
    "sub_E = solve(eq_ep,E)[0]\n",
    "forget(ep>0)\n",
    "sub_E"
   ]
  },
  {
   "cell_type": "markdown",
   "metadata": {},
   "source": [
    "e substituimos na solução"
   ]
  },
  {
   "cell_type": "code",
   "execution_count": 30,
   "metadata": {},
   "outputs": [
    {
     "data": {
      "text/html": [
       "<html><script type=\"math/tex; mode=display\">\\newcommand{\\Bold}[1]{\\mathbf{#1}}{r} = -\\frac{{\\ell}^{2}}{{\\left(\\epsilon \\sin\\left({\\varphi}\\right) - 1\\right)} G M m^{2}}</script></html>"
      ],
      "text/latex": [
       "\\begin{math}\n",
       "\\newcommand{\\Bold}[1]{\\mathbf{#1}}{r} = -\\frac{{\\ell}^{2}}{{\\left(\\epsilon \\sin\\left({\\varphi}\\right) - 1\\right)} G M m^{2}}\n",
       "\\end{math}"
      ],
      "text/plain": [
       "vr == -l^2/((epsilon*sin(vp) - 1)*G*M*m^2)"
      ]
     },
     "execution_count": 30,
     "metadata": {},
     "output_type": "execute_result"
    }
   ],
   "source": [
    "sol_r = sol_r.subs(sub_E).canonicalize_radical().factor();sol_r"
   ]
  },
  {
   "cell_type": "markdown",
   "metadata": {},
   "source": [
    "Faremos $\\varphi \\to \\varphi - \\pi/2$ pra deixar com a cara mais usual nos livros texto."
   ]
  },
  {
   "cell_type": "code",
   "execution_count": 31,
   "metadata": {
    "scrolled": true
   },
   "outputs": [
    {
     "data": {
      "text/html": [
       "<html><script type=\"math/tex; mode=display\">\\newcommand{\\Bold}[1]{\\mathbf{#1}}{r} = \\frac{{\\ell}^{2}}{{\\left(\\epsilon \\cos\\left({\\varphi}\\right) + 1\\right)} G M m^{2}}</script></html>"
      ],
      "text/latex": [
       "\\begin{math}\n",
       "\\newcommand{\\Bold}[1]{\\mathbf{#1}}{r} = \\frac{{\\ell}^{2}}{{\\left(\\epsilon \\cos\\left({\\varphi}\\right) + 1\\right)} G M m^{2}}\n",
       "\\end{math}"
      ],
      "text/plain": [
       "vr == l^2/((epsilon*cos(vp) + 1)*G*M*m^2)"
      ]
     },
     "execution_count": 31,
     "metadata": {},
     "output_type": "execute_result"
    }
   ],
   "source": [
    "sol_r = sol_r.subs(vp=vp-pi/2).expand_trig();sol_r"
   ]
  },
  {
   "cell_type": "markdown",
   "metadata": {},
   "source": [
    "Deixando os dois lados sem dimensão"
   ]
  },
  {
   "cell_type": "code",
   "execution_count": 32,
   "metadata": {},
   "outputs": [
    {
     "data": {
      "text/html": [
       "<html><script type=\"math/tex; mode=display\">\\newcommand{\\Bold}[1]{\\mathbf{#1}}\\frac{G M m^{2} {r}}{{\\ell}^{2}} = \\frac{1}{\\epsilon \\cos\\left({\\varphi}\\right) + 1}</script></html>"
      ],
      "text/latex": [
       "\\begin{math}\n",
       "\\newcommand{\\Bold}[1]{\\mathbf{#1}}\\frac{G M m^{2} {r}}{{\\ell}^{2}} = \\frac{1}{\\epsilon \\cos\\left({\\varphi}\\right) + 1}\n",
       "\\end{math}"
      ],
      "text/plain": [
       "G*M*m^2*vr/l^2 == (1/(epsilon*cos(vp) + 1))"
      ]
     },
     "execution_count": 32,
     "metadata": {},
     "output_type": "execute_result"
    }
   ],
   "source": [
    "sol_r = sol_r*G*M*m^2/l^2;sol_r"
   ]
  },
  {
   "cell_type": "markdown",
   "metadata": {},
   "source": [
    "Vejamos os gráficos das órbitas em coordenadas polares (polar=True)"
   ]
  },
  {
   "cell_type": "code",
   "execution_count": 33,
   "metadata": {},
   "outputs": [],
   "source": [
    "orbita_0 = plot(sol_r.rhs().subs(ep==0),(vp,0,2*pi),polar=True,aspect_ratio=1, color='red', axes=False, frame=True, title=r'Órbita circular ($\\epsilon=0$)')"
   ]
  },
  {
   "cell_type": "code",
   "execution_count": 34,
   "metadata": {},
   "outputs": [
    {
     "data": {
      "image/png": "[encoded data removed]",
      "text/plain": [
       "Graphics object consisting of 1 graphics primitive"
      ]
     },
     "execution_count": 34,
     "metadata": {},
     "output_type": "execute_result"
    }
   ],
   "source": [
    "orbita_0"
   ]
  },
  {
   "cell_type": "code",
   "execution_count": 35,
   "metadata": {},
   "outputs": [],
   "source": [
    "centro = circle((0,0),.01, fill=True, color='black', axes=False)"
   ]
  },
  {
   "cell_type": "code",
   "execution_count": 36,
   "metadata": {},
   "outputs": [
    {
     "data": {
      "image/png": "[encoded data removed]",
      "text/plain": [
       "Graphics object consisting of 2 graphics primitives"
      ]
     },
     "execution_count": 36,
     "metadata": {},
     "output_type": "execute_result"
    }
   ],
   "source": [
    "centro+orbita_0"
   ]
  },
  {
   "cell_type": "code",
   "execution_count": 37,
   "metadata": {
    "scrolled": true
   },
   "outputs": [],
   "source": [
    "orbita_1 = plot(sol_r.rhs().subs(ep==1),(vp,-.07*pi,.07*pi), polar=True, color='red', axes=False, frame=True, title=r'Órbita parabólica ($\\epsilon=1$)')"
   ]
  },
  {
   "cell_type": "code",
   "execution_count": 38,
   "metadata": {},
   "outputs": [
    {
     "data": {
      "image/png": "[encoded data removed]",
      "text/plain": [
       "Graphics object consisting of 1 graphics primitive"
      ]
     },
     "execution_count": 38,
     "metadata": {},
     "output_type": "execute_result"
    }
   ],
   "source": [
    "orbita_1"
   ]
  },
  {
   "cell_type": "code",
   "execution_count": 39,
   "metadata": {},
   "outputs": [],
   "source": [
    "orbita_m = plot(sol_r.rhs().subs(ep==.8),(vp,-pi,pi),aspect_ratio=1, polar=True, color='red', axes=False, frame=True, title=r'Órbita elíptica ($\\epsilon<1$)')"
   ]
  },
  {
   "cell_type": "code",
   "execution_count": 40,
   "metadata": {},
   "outputs": [
    {
     "data": {
      "image/png": "[encoded data removed]",
      "text/plain": [
       "Graphics object consisting of 2 graphics primitives"
      ]
     },
     "execution_count": 40,
     "metadata": {},
     "output_type": "execute_result"
    }
   ],
   "source": [
    "centro + orbita_m"
   ]
  },
  {
   "cell_type": "code",
   "execution_count": 41,
   "metadata": {},
   "outputs": [],
   "source": [
    "orbita_M = plot(sol_r.rhs().subs(ep==2),(vp,-sqrt(2)/3,sqrt(2)/3), polar=True, color='red', axes=False, frame=True, title=r'Órbita hiperbólica ($\\epsilon<1$)')"
   ]
  },
  {
   "cell_type": "code",
   "execution_count": 42,
   "metadata": {
    "scrolled": false
   },
   "outputs": [
    {
     "data": {
      "image/png": "[encoded data removed]",
      "text/plain": [
       "Graphics object consisting of 1 graphics primitive"
      ]
     },
     "execution_count": 42,
     "metadata": {},
     "output_type": "execute_result"
    }
   ],
   "source": [
    "orbita_M"
   ]
  },
  {
   "cell_type": "code",
   "execution_count": 43,
   "metadata": {},
   "outputs": [
    {
     "data": {
      "image/png": "[encoded data removed]",
      "text/plain": [
       "Graphics object consisting of 5 graphics primitives"
      ]
     },
     "execution_count": 43,
     "metadata": {},
     "output_type": "execute_result"
    }
   ],
   "source": [
    "orbita_0+centro+orbita_m+orbita_M+orbita_1"
   ]
  },
  {
   "cell_type": "markdown",
   "metadata": {},
   "source": [
    "## Calculando a Constante na Lei de Deslocamento de Wien"
   ]
  },
  {
   "cell_type": "markdown",
   "metadata": {},
   "source": [
    "A [lei do deslocamento de Wien](https://en.wikipedia.org/wiki/Wien%27s_displacement_law) é a lei da física que relaciona o comprimento de onda do pico de emissão de radiação eletromagnética de corpo negro e sua temperatura:\n",
    "$$\n",
    "{\\displaystyle \\lambda _{\\text{max}}={\\frac {b}{T}}}\n",
    "$$\n",
    "onde \n",
    "\n",
    "- $\\displaystyle \\lambda _{\\text{max}}$ é o comprimento de onda do pico de intensidade da radiação eletromagnética;\n",
    "\n",
    "- ${\\displaystyle T\\,}$ é a temperatura absoluta do corpo negro;\n",
    "\n",
    "- ${\\displaystyle b\\,}$ é a constante de proporcionalidade, chamada *constante de dispersão de Wien*.\n",
    "\n",
    "Vamos calcular a constante $b$ usando a  lei de Planck para a radiação de um corpo negro \n",
    "$$\n",
    "{\\displaystyle u(\\lambda ,T)={2hc^{2} \\over \\lambda ^{5}}{1 \\over e^{hc/\\lambda kT}-1}.}\n",
    "$$\n"
   ]
  },
  {
   "cell_type": "markdown",
   "metadata": {},
   "source": [
    "| Constantes           |                            | Unidade          |\n",
    "| :-----------------:  | :------------------------- | :--------------- |\n",
    "| ${\\displaystyle h}$  | constante de Planck        | J$\\cdot$s        |\n",
    "| ${\\displaystyle c}$  | velocidade da luz no vácuo | m$\\cdot$s$^{-1}$ |\n",
    "| ${\\displaystyle e}$  | número de Euler            | sem dimensão     |\n",
    "| ${\\displaystyle k}$  | constante de Boltzmann     | J$\\cdot$K$^{-1}$ |"
   ]
  },
  {
   "cell_type": "code",
   "execution_count": 44,
   "metadata": {},
   "outputs": [],
   "source": [
    "var('h c k', domain='positive')\n",
    "la = var('la', latex_name = r'\\lambda', domain='positive')\n",
    "lam = var('lam', latex_name = r'\\lambda_{\\text{max}}', domain='positive')\n",
    "u(la ,T) = 2*h*c^2/(la^5)*1/(e^(h*c/(k*la*T))-1)"
   ]
  },
  {
   "cell_type": "code",
   "execution_count": 45,
   "metadata": {},
   "outputs": [
    {
     "data": {
      "text/html": [
       "<html><script type=\"math/tex; mode=display\">\\newcommand{\\Bold}[1]{\\mathbf{#1}}\\frac{2 \\, c^{2} h}{{\\lambda}^{5} {\\left(e^{\\left(\\frac{c h}{T k {\\lambda}}\\right)} - 1\\right)}}</script></html>"
      ],
      "text/latex": [
       "\\begin{math}\n",
       "\\newcommand{\\Bold}[1]{\\mathbf{#1}}\\frac{2 \\, c^{2} h}{{\\lambda}^{5} {\\left(e^{\\left(\\frac{c h}{T k {\\lambda}}\\right)} - 1\\right)}}\n",
       "\\end{math}"
      ],
      "text/plain": [
       "2*c^2*h/(la^5*(e^(c*h/(T*k*la)) - 1))"
      ]
     },
     "execution_count": 45,
     "metadata": {},
     "output_type": "execute_result"
    }
   ],
   "source": [
    "u(la,T)"
   ]
  },
  {
   "cell_type": "code",
   "execution_count": 46,
   "metadata": {},
   "outputs": [
    {
     "data": {
      "text/html": [
       "<html><script type=\"math/tex; mode=display\">\\newcommand{\\Bold}[1]{\\mathbf{#1}}-\\frac{10 \\, c^{2} h}{{\\lambda_{\\text{max}}}^{6} {\\left(e^{\\left(\\frac{c h}{T k {\\lambda_{\\text{max}}}}\\right)} - 1\\right)}} + \\frac{2 \\, c^{3} h^{2} e^{\\left(\\frac{c h}{T k {\\lambda_{\\text{max}}}}\\right)}}{T k {\\lambda_{\\text{max}}}^{7} {\\left(e^{\\left(\\frac{c h}{T k {\\lambda_{\\text{max}}}}\\right)} - 1\\right)}^{2}} = 0</script></html>"
      ],
      "text/latex": [
       "\\begin{math}\n",
       "\\newcommand{\\Bold}[1]{\\mathbf{#1}}-\\frac{10 \\, c^{2} h}{{\\lambda_{\\text{max}}}^{6} {\\left(e^{\\left(\\frac{c h}{T k {\\lambda_{\\text{max}}}}\\right)} - 1\\right)}} + \\frac{2 \\, c^{3} h^{2} e^{\\left(\\frac{c h}{T k {\\lambda_{\\text{max}}}}\\right)}}{T k {\\lambda_{\\text{max}}}^{7} {\\left(e^{\\left(\\frac{c h}{T k {\\lambda_{\\text{max}}}}\\right)} - 1\\right)}^{2}} = 0\n",
       "\\end{math}"
      ],
      "text/plain": [
       "-10*c^2*h/(lam^6*(e^(c*h/(T*k*lam)) - 1)) + 2*c^3*h^2*e^(c*h/(T*k*lam))/(T*k*lam^7*(e^(c*h/(T*k*lam)) - 1)^2) == 0"
      ]
     },
     "execution_count": 46,
     "metadata": {},
     "output_type": "execute_result"
    }
   ],
   "source": [
    "u0 = diff(u(lam,T),lam)==0;u0"
   ]
  },
  {
   "cell_type": "code",
   "execution_count": 47,
   "metadata": {},
   "outputs": [
    {
     "data": {
      "text/html": [
       "<html><script type=\"math/tex; mode=display\">\\newcommand{\\Bold}[1]{\\mathbf{#1}}\\left[{\\lambda_{\\text{max}}} = \\frac{c h e^{\\left(\\frac{c h}{T k {\\lambda_{\\text{max}}}}\\right)}}{5 \\, {\\left(T k e^{\\left(\\frac{c h}{T k {\\lambda_{\\text{max}}}}\\right)} - T k\\right)}}\\right]</script></html>"
      ],
      "text/latex": [
       "\\begin{math}\n",
       "\\newcommand{\\Bold}[1]{\\mathbf{#1}}\\left[{\\lambda_{\\text{max}}} = \\frac{c h e^{\\left(\\frac{c h}{T k {\\lambda_{\\text{max}}}}\\right)}}{5 \\, {\\left(T k e^{\\left(\\frac{c h}{T k {\\lambda_{\\text{max}}}}\\right)} - T k\\right)}}\\right]\n",
       "\\end{math}"
      ],
      "text/plain": [
       "[lam == 1/5*c*h*e^(c*h/(T*k*lam))/(T*k*e^(c*h/(T*k*lam)) - T*k)]"
      ]
     },
     "execution_count": 47,
     "metadata": {},
     "output_type": "execute_result"
    }
   ],
   "source": [
    "solve(u0,lam)"
   ]
  },
  {
   "cell_type": "code",
   "execution_count": 48,
   "metadata": {},
   "outputs": [
    {
     "data": {
      "text/html": [
       "<html><script type=\"math/tex; mode=display\">\\newcommand{\\Bold}[1]{\\mathbf{#1}}-\\frac{10 \\, c^{2} h}{e^{\\left(\\frac{c h}{T k {\\lambda_{\\text{max}}}}\\right)} - 1} + \\frac{2 \\, c^{3} h^{2} e^{\\left(\\frac{c h}{T k {\\lambda_{\\text{max}}}}\\right)}}{T k {\\lambda_{\\text{max}}} {\\left(e^{\\left(\\frac{2 \\, c h}{T k {\\lambda_{\\text{max}}}}\\right)} - 2 \\, e^{\\left(\\frac{c h}{T k {\\lambda_{\\text{max}}}}\\right)} + 1\\right)}} = 0</script></html>"
      ],
      "text/latex": [
       "\\begin{math}\n",
       "\\newcommand{\\Bold}[1]{\\mathbf{#1}}-\\frac{10 \\, c^{2} h}{e^{\\left(\\frac{c h}{T k {\\lambda_{\\text{max}}}}\\right)} - 1} + \\frac{2 \\, c^{3} h^{2} e^{\\left(\\frac{c h}{T k {\\lambda_{\\text{max}}}}\\right)}}{T k {\\lambda_{\\text{max}}} {\\left(e^{\\left(\\frac{2 \\, c h}{T k {\\lambda_{\\text{max}}}}\\right)} - 2 \\, e^{\\left(\\frac{c h}{T k {\\lambda_{\\text{max}}}}\\right)} + 1\\right)}} = 0\n",
       "\\end{math}"
      ],
      "text/plain": [
       "-10*c^2*h/(e^(c*h/(T*k*lam)) - 1) + 2*c^3*h^2*e^(c*h/(T*k*lam))/(T*k*lam*(e^(2*c*h/(T*k*lam)) - 2*e^(c*h/(T*k*lam)) + 1)) == 0"
      ]
     },
     "execution_count": 48,
     "metadata": {},
     "output_type": "execute_result"
    }
   ],
   "source": [
    "u1 = (u0*lam^6).expand();u1"
   ]
  },
  {
   "cell_type": "code",
   "execution_count": 49,
   "metadata": {},
   "outputs": [
    {
     "data": {
      "text/html": [
       "<html><script type=\"math/tex; mode=display\">\\newcommand{\\Bold}[1]{\\mathbf{#1}}x = \\frac{c h}{T k {\\lambda_{\\text{max}}}}</script></html>"
      ],
      "text/latex": [
       "\\begin{math}\n",
       "\\newcommand{\\Bold}[1]{\\mathbf{#1}}x = \\frac{c h}{T k {\\lambda_{\\text{max}}}}\n",
       "\\end{math}"
      ],
      "text/plain": [
       "x == c*h/(T*k*lam)"
      ]
     },
     "execution_count": 49,
     "metadata": {},
     "output_type": "execute_result"
    }
   ],
   "source": [
    "eqx = x == c*h/(lam*T*k);eqx"
   ]
  },
  {
   "cell_type": "code",
   "execution_count": 50,
   "metadata": {},
   "outputs": [
    {
     "data": {
      "text/html": [
       "<html><script type=\"math/tex; mode=display\">\\newcommand{\\Bold}[1]{\\mathbf{#1}}{\\lambda_{\\text{max}}} = \\frac{c h}{T k x}</script></html>"
      ],
      "text/latex": [
       "\\begin{math}\n",
       "\\newcommand{\\Bold}[1]{\\mathbf{#1}}{\\lambda_{\\text{max}}} = \\frac{c h}{T k x}\n",
       "\\end{math}"
      ],
      "text/plain": [
       "lam == c*h/(T*k*x)"
      ]
     },
     "execution_count": 50,
     "metadata": {},
     "output_type": "execute_result"
    }
   ],
   "source": [
    "eql = solve(eqx,lam)[0];eql"
   ]
  },
  {
   "cell_type": "code",
   "execution_count": 51,
   "metadata": {},
   "outputs": [
    {
     "data": {
      "text/html": [
       "<html><script type=\"math/tex; mode=display\">\\newcommand{\\Bold}[1]{\\mathbf{#1}}\\frac{2 \\, c^{2} h x e^{x}}{e^{\\left(2 \\, x\\right)} - 2 \\, e^{x} + 1} - \\frac{10 \\, c^{2} h}{e^{x} - 1} = 0</script></html>"
      ],
      "text/latex": [
       "\\begin{math}\n",
       "\\newcommand{\\Bold}[1]{\\mathbf{#1}}\\frac{2 \\, c^{2} h x e^{x}}{e^{\\left(2 \\, x\\right)} - 2 \\, e^{x} + 1} - \\frac{10 \\, c^{2} h}{e^{x} - 1} = 0\n",
       "\\end{math}"
      ],
      "text/plain": [
       "2*c^2*h*x*e^x/(e^(2*x) - 2*e^x + 1) - 10*c^2*h/(e^x - 1) == 0"
      ]
     },
     "execution_count": 51,
     "metadata": {},
     "output_type": "execute_result"
    }
   ],
   "source": [
    "u2 = u1.subs(eql);u2"
   ]
  },
  {
   "cell_type": "code",
   "execution_count": 52,
   "metadata": {},
   "outputs": [
    {
     "data": {
      "text/html": [
       "<html><script type=\"math/tex; mode=display\">\\newcommand{\\Bold}[1]{\\mathbf{#1}}x = 5 \\, {\\left(e^{x} - 1\\right)} e^{\\left(-x\\right)}</script></html>"
      ],
      "text/latex": [
       "\\begin{math}\n",
       "\\newcommand{\\Bold}[1]{\\mathbf{#1}}x = 5 \\, {\\left(e^{x} - 1\\right)} e^{\\left(-x\\right)}\n",
       "\\end{math}"
      ],
      "text/plain": [
       "x == 5*(e^x - 1)*e^(-x)"
      ]
     },
     "execution_count": 52,
     "metadata": {},
     "output_type": "execute_result"
    }
   ],
   "source": [
    "eqx2 = solve(u2,x)[0];eqx2"
   ]
  },
  {
   "cell_type": "markdown",
   "metadata": {},
   "source": [
    "***"
   ]
  },
  {
   "cell_type": "markdown",
   "metadata": {},
   "source": [
    "### Exercício"
   ]
  },
  {
   "cell_type": "markdown",
   "metadata": {},
   "source": [
    "Encontre uma solução numérica para a equação\n",
    "$$x = 5 \\, {\\left(e^{x} - 1\\right)} e^{\\left(-x\\right)}$$"
   ]
  },
  {
   "cell_type": "markdown",
   "metadata": {},
   "source": [
    "** `find_root(equação, min, max)`"
   ]
  },
  {
   "cell_type": "markdown",
   "metadata": {},
   "source": [
    "***"
   ]
  },
  {
   "cell_type": "code",
   "execution_count": 53,
   "metadata": {},
   "outputs": [
    {
     "data": {
      "image/png": "[encoded data removed]",
      "text/plain": [
       "Graphics object consisting of 1 graphics primitive"
      ]
     },
     "execution_count": 53,
     "metadata": {},
     "output_type": "execute_result"
    }
   ],
   "source": [
    "plot(eqx2,x,(x,0,10))"
   ]
  },
  {
   "cell_type": "code",
   "execution_count": 54,
   "metadata": {},
   "outputs": [
    {
     "data": {
      "text/html": [
       "<html><script type=\"math/tex; mode=display\">\\newcommand{\\Bold}[1]{\\mathbf{#1}}x = 4.96511423174416</script></html>"
      ],
      "text/latex": [
       "\\begin{math}\n",
       "\\newcommand{\\Bold}[1]{\\mathbf{#1}}x = 4.96511423174416\n",
       "\\end{math}"
      ],
      "text/plain": [
       "x == 4.96511423174416"
      ]
     },
     "execution_count": 54,
     "metadata": {},
     "output_type": "execute_result"
    }
   ],
   "source": [
    "eqx3 = x == find_root(eqx2,4,6);eqx3"
   ]
  },
  {
   "cell_type": "code",
   "execution_count": 55,
   "metadata": {},
   "outputs": [
    {
     "data": {
      "text/html": [
       "<html><script type=\"math/tex; mode=display\">\\newcommand{\\Bold}[1]{\\mathbf{#1}}T {\\lambda_{\\text{max}}} = \\frac{0.20140523527264692 \\, c h}{k}</script></html>"
      ],
      "text/latex": [
       "\\begin{math}\n",
       "\\newcommand{\\Bold}[1]{\\mathbf{#1}}T {\\lambda_{\\text{max}}} = \\frac{0.20140523527264692 \\, c h}{k}\n",
       "\\end{math}"
      ],
      "text/plain": [
       "T*lam == 0.20140523527264692*c*h/k"
      ]
     },
     "execution_count": 55,
     "metadata": {},
     "output_type": "execute_result"
    }
   ],
   "source": [
    "eql2 = (eql*T).subs(eqx3);eql2"
   ]
  },
  {
   "cell_type": "code",
   "execution_count": 56,
   "metadata": {},
   "outputs": [],
   "source": [
    "from scipy.constants import c as nc\n",
    "from scipy.constants import h as nh\n",
    "from scipy.constants import k as nk"
   ]
  },
  {
   "cell_type": "code",
   "execution_count": 57,
   "metadata": {},
   "outputs": [],
   "source": [
    "constantes = {c:nc, k:nk, h:nh}"
   ]
  },
  {
   "cell_type": "code",
   "execution_count": 58,
   "metadata": {},
   "outputs": [
    {
     "data": {
      "text/html": [
       "<html><script type=\"math/tex; mode=display\">\\newcommand{\\Bold}[1]{\\mathbf{#1}}\\left\\{c : 299792458.0, k : 1.380649 \\times 10^{-23}, h : 6.62607015 \\times 10^{-34}\\right\\}</script></html>"
      ],
      "text/latex": [
       "\\begin{math}\n",
       "\\newcommand{\\Bold}[1]{\\mathbf{#1}}\\left\\{c : 299792458.0, k : 1.380649 \\times 10^{-23}, h : 6.62607015 \\times 10^{-34}\\right\\}\n",
       "\\end{math}"
      ],
      "text/plain": [
       "{c: 299792458.0, k: 1.380649e-23, h: 6.62607015e-34}"
      ]
     },
     "execution_count": 58,
     "metadata": {},
     "output_type": "execute_result"
    }
   ],
   "source": [
    "constantes"
   ]
  },
  {
   "cell_type": "code",
   "execution_count": 59,
   "metadata": {},
   "outputs": [
    {
     "data": {
      "text/html": [
       "<html><script type=\"math/tex; mode=display\">\\newcommand{\\Bold}[1]{\\mathbf{#1}}T {\\lambda_{\\text{max}}} = 0.0028977719551852403</script></html>"
      ],
      "text/latex": [
       "\\begin{math}\n",
       "\\newcommand{\\Bold}[1]{\\mathbf{#1}}T {\\lambda_{\\text{max}}} = 0.0028977719551852403\n",
       "\\end{math}"
      ],
      "text/plain": [
       "T*lam == 0.0028977719551852403"
      ]
     },
     "execution_count": 59,
     "metadata": {},
     "output_type": "execute_result"
    }
   ],
   "source": [
    "eql2.subs(constantes)"
   ]
  },
  {
   "cell_type": "markdown",
   "metadata": {},
   "source": [
    "Logo,\n",
    "$$b \\approx 2,89777\\, \\text{mm}\\cdot\\text{K}$$"
   ]
  },
  {
   "cell_type": "code",
   "execution_count": 60,
   "metadata": {},
   "outputs": [
    {
     "data": {
      "text/html": [
       "<html><script type=\"math/tex; mode=display\">\\newcommand{\\Bold}[1]{\\mathbf{#1}}6377929856000.104</script></html>"
      ],
      "text/latex": [
       "\\begin{math}\n",
       "\\newcommand{\\Bold}[1]{\\mathbf{#1}}6377929856000.104\n",
       "\\end{math}"
      ],
      "text/plain": [
       "6377929856000.104"
      ]
     },
     "execution_count": 60,
     "metadata": {},
     "output_type": "execute_result"
    }
   ],
   "source": [
    "u(500/(10^9),4500).subs(constantes)"
   ]
  },
  {
   "cell_type": "code",
   "execution_count": 61,
   "metadata": {},
   "outputs": [
    {
     "data": {
      "image/png": "[encoded data removed]",
      "text/plain": [
       "Graphics object consisting of 1 graphics primitive"
      ]
     },
     "execution_count": 61,
     "metadata": {},
     "output_type": "execute_result"
    }
   ],
   "source": [
    "plot(u(la/(10^9),4500).subs(constantes),0,3000, frame=True, axes=False)"
   ]
  },
  {
   "cell_type": "code",
   "execution_count": 62,
   "metadata": {},
   "outputs": [
    {
     "data": {
      "image/png": "[encoded data removed]",
      "text/plain": [
       "Graphics object consisting of 1 graphics primitive"
      ]
     },
     "execution_count": 62,
     "metadata": {},
     "output_type": "execute_result"
    }
   ],
   "source": [
    "plot(u(la/(10^9),4500).subs(constantes),0,3000, color=colors.darkgreen,axes=False, frame=True, gridlines=True, axes_labels=[r'$\\lambda\\, (nm)$',r'$u(\\lambda)$'], legend_label='$T=4500$')"
   ]
  },
  {
   "cell_type": "code",
   "execution_count": 63,
   "metadata": {},
   "outputs": [],
   "source": [
    "lista_u = [u(la/(10^9),k).subs(constantes) for k in [3500, 4000, 4500, 5000, 5500]]"
   ]
  },
  {
   "cell_type": "code",
   "execution_count": 64,
   "metadata": {},
   "outputs": [
    {
     "data": {
      "text/html": [
       "<html><script type=\"math/tex; mode=display\">\\newcommand{\\Bold}[1]{\\mathbf{#1}}\\left[\\frac{1.1910429723971882 \\times 10^{29}}{{\\lambda}^{5} {\\left(e^{\\frac{4110.791078582668}{{\\lambda}}} - 1\\right)}}, \\frac{1.1910429723971882 \\times 10^{29}}{{\\lambda}^{5} {\\left(e^{\\frac{3596.9421937598345}{{\\lambda}}} - 1\\right)}}, \\frac{1.1910429723971882 \\times 10^{29}}{{\\lambda}^{5} {\\left(e^{\\frac{3197.2819500087417}{{\\lambda}}} - 1\\right)}}, \\frac{1.1910429723971882 \\times 10^{29}}{{\\lambda}^{5} {\\left(e^{\\frac{2877.553755007867}{{\\lambda}}} - 1\\right)}}, \\frac{1.1910429723971882 \\times 10^{29}}{{\\lambda}^{5} {\\left(e^{\\frac{2615.9579590980616}{{\\lambda}}} - 1\\right)}}\\right]</script></html>"
      ],
      "text/latex": [
       "\\begin{math}\n",
       "\\newcommand{\\Bold}[1]{\\mathbf{#1}}\\left[\\frac{1.1910429723971882 \\times 10^{29}}{{\\lambda}^{5} {\\left(e^{\\frac{4110.791078582668}{{\\lambda}}} - 1\\right)}}, \\frac{1.1910429723971882 \\times 10^{29}}{{\\lambda}^{5} {\\left(e^{\\frac{3596.9421937598345}{{\\lambda}}} - 1\\right)}}, \\frac{1.1910429723971882 \\times 10^{29}}{{\\lambda}^{5} {\\left(e^{\\frac{3197.2819500087417}{{\\lambda}}} - 1\\right)}}, \\frac{1.1910429723971882 \\times 10^{29}}{{\\lambda}^{5} {\\left(e^{\\frac{2877.553755007867}{{\\lambda}}} - 1\\right)}}, \\frac{1.1910429723971882 \\times 10^{29}}{{\\lambda}^{5} {\\left(e^{\\frac{2615.9579590980616}{{\\lambda}}} - 1\\right)}}\\right]\n",
       "\\end{math}"
      ],
      "text/plain": [
       "[(1.1910429723971882e+29)/(la^5*(e^(4110.791078582668/la) - 1)),\n",
       " (1.1910429723971882e+29)/(la^5*(e^(3596.9421937598345/la) - 1)),\n",
       " (1.1910429723971882e+29)/(la^5*(e^(3197.2819500087417/la) - 1)),\n",
       " (1.1910429723971882e+29)/(la^5*(e^(2877.553755007867/la) - 1)),\n",
       " (1.1910429723971882e+29)/(la^5*(e^(2615.9579590980616/la) - 1))]"
      ]
     },
     "execution_count": 64,
     "metadata": {},
     "output_type": "execute_result"
    }
   ],
   "source": [
    "lista_u"
   ]
  },
  {
   "cell_type": "code",
   "execution_count": 65,
   "metadata": {},
   "outputs": [
    {
     "data": {
      "image/png": "[encoded data removed]",
      "text/plain": [
       "Graphics object consisting of 5 graphics primitives"
      ]
     },
     "execution_count": 65,
     "metadata": {},
     "output_type": "execute_result"
    }
   ],
   "source": [
    "plot(lista_u,0,3000, axes=False, frame=True, gridlines=True, axes_labels=[r'$\\lambda\\, (nm)$',r'$u(\\lambda)$'])"
   ]
  }
 ],
 "metadata": {
  "kernelspec": {
   "display_name": "SageMath 9.2",
   "language": "sage",
   "name": "sagemath"
  },
  "language_info": {
   "codemirror_mode": {
    "name": "ipython",
    "version": 3
   },
   "file_extension": ".py",
   "mimetype": "text/x-python",
   "name": "python",
   "nbconvert_exporter": "python",
   "pygments_lexer": "ipython3",
   "version": "3.8.5"
  }
 },
 "nbformat": 4,
 "nbformat_minor": 4
}
