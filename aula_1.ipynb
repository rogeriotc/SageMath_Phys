{
 "cells": [
  {
   "cell_type": "markdown",
   "metadata": {
    "slideshow": {
     "slide_type": "slide"
    }
   },
   "source": [
    "# SageMath para estudantes de física\n",
    "***\n",
    "Rogério T. C."
   ]
  },
  {
   "cell_type": "markdown",
   "metadata": {
    "slideshow": {
     "slide_type": "slide"
    }
   },
   "source": [
    "**SageMath** (ou simplesmente Sage) é um sistema de computação algébrica. Dentre outras, algumas vantágens de usar sistemas desse tipo são:"
   ]
  },
  {
   "cell_type": "markdown",
   "metadata": {
    "slideshow": {
     "slide_type": "fragment"
    }
   },
   "source": [
    "- Você pode se concentrar mais nas idéias (modelo, formulação, teoria) e menos nas \"contas\";"
   ]
  },
  {
   "cell_type": "markdown",
   "metadata": {
    "slideshow": {
     "slide_type": "fragment"
    }
   },
   "source": [
    "- Os resultados estendidos, generalizados e analisados com facilidade;"
   ]
  },
  {
   "cell_type": "markdown",
   "metadata": {
    "slideshow": {
     "slide_type": "fragment"
    }
   },
   "source": [
    "- Você pode explorar a estrutura matemática em torno do seu problema, o Sage é ótimo para isso;"
   ]
  },
  {
   "cell_type": "markdown",
   "metadata": {
    "slideshow": {
     "slide_type": "subslide"
    }
   },
   "source": [
    "- Seus resultados podem ser compartilhados de uma forma reproduzível;"
   ]
  },
  {
   "cell_type": "markdown",
   "metadata": {
    "slideshow": {
     "slide_type": "fragment"
    }
   },
   "source": [
    "- Depois de investir algum tempo aprendendo o básico, você poderá resolver problema de forma muito mais rápido e com mais ferramentas;"
   ]
  },
  {
   "cell_type": "markdown",
   "metadata": {
    "slideshow": {
     "slide_type": "fragment"
    }
   },
   "source": [
    "- Você só precisa saber um conjunto básico de comandos e sintaxe, e para todo o restante pode usar os recursos de ajuda e a documentação;"
   ]
  },
  {
   "cell_type": "markdown",
   "metadata": {
    "slideshow": {
     "slide_type": "slide"
    }
   },
   "source": [
    "Tópicos da aula de hoje"
   ]
  },
  {
   "cell_type": "markdown",
   "metadata": {
    "slideshow": {
     "slide_type": "fragment"
    }
   },
   "source": [
    "1. Pré-documento;\n",
    "2. Operações básicas;\n",
    "3. Variáveis simbólicas;\n",
    "4. Expressões simbólicas;\n",
    "5. Equações, inequações e sistemas\n",
    "6. Ferramentas de cálculo\n",
    "7. Substituições em expressões simbólicas\n",
    "8. Equações diferenciais ordinárias"
   ]
  },
  {
   "cell_type": "markdown",
   "metadata": {
    "slideshow": {
     "slide_type": "slide"
    }
   },
   "source": [
    "## Aula I"
   ]
  },
  {
   "cell_type": "markdown",
   "metadata": {
    "slideshow": {
     "slide_type": "slide"
    }
   },
   "source": [
    "## 1. Pré-documento"
   ]
  },
  {
   "cell_type": "markdown",
   "metadata": {
    "slideshow": {
     "slide_type": "fragment"
    }
   },
   "source": [
    "Você pode fazer o jupyter exibir as equações no formato $\\LaTeX{}$ digitando `%display latex` em uma célula."
   ]
  },
  {
   "cell_type": "code",
   "execution_count": 1,
   "metadata": {
    "slideshow": {
     "slide_type": "fragment"
    }
   },
   "outputs": [],
   "source": [
    "%display latex # outras opções são plane, ascii_art e unicode_art"
   ]
  },
  {
   "cell_type": "code",
   "execution_count": 2,
   "metadata": {
    "slideshow": {
     "slide_type": "fragment"
    }
   },
   "outputs": [],
   "source": [
    "reset() #inicializa todas as variáveis"
   ]
  },
  {
   "cell_type": "markdown",
   "metadata": {
    "slideshow": {
     "slide_type": "slide"
    }
   },
   "source": [
    "## 2. Operações Básicas"
   ]
  },
  {
   "cell_type": "markdown",
   "metadata": {
    "slideshow": {
     "slide_type": "fragment"
    }
   },
   "source": [
    "No Sage as operações básicas com números reais, complexos, racionais, etc., são realizadas como nas calculadoras científicas. Frações e raízes são automaticamente simplificadas"
   ]
  },
  {
   "cell_type": "code",
   "execution_count": 3,
   "metadata": {
    "slideshow": {
     "slide_type": "fragment"
    }
   },
   "outputs": [
    {
     "data": {
      "text/html": [
       "<html><script type=\"math/tex; mode=display\">\\newcommand{\\Bold}[1]{\\mathbf{#1}}\\frac{21}{10}</script></html>"
      ],
      "text/latex": [
       "\\begin{math}\n",
       "\\newcommand{\\Bold}[1]{\\mathbf{#1}}\\frac{21}{10}\n",
       "\\end{math}"
      ],
      "text/plain": [
       "21/10"
      ]
     },
     "execution_count": 3,
     "metadata": {},
     "output_type": "execute_result"
    }
   ],
   "source": [
    "15/25+3/2"
   ]
  },
  {
   "cell_type": "code",
   "execution_count": 4,
   "metadata": {
    "slideshow": {
     "slide_type": "fragment"
    }
   },
   "outputs": [
    {
     "data": {
      "text/html": [
       "<html><script type=\"math/tex; mode=display\">\\newcommand{\\Bold}[1]{\\mathbf{#1}}\\frac{2 \\, \\sqrt{5}}{\\pi}</script></html>"
      ],
      "text/latex": [
       "\\begin{math}\n",
       "\\newcommand{\\Bold}[1]{\\mathbf{#1}}\\frac{2 \\, \\sqrt{5}}{\\pi}\n",
       "\\end{math}"
      ],
      "text/plain": [
       "2*sqrt(5)/pi"
      ]
     },
     "execution_count": 4,
     "metadata": {},
     "output_type": "execute_result"
    }
   ],
   "source": [
    "sqrt(20)/pi"
   ]
  },
  {
   "cell_type": "markdown",
   "metadata": {},
   "source": [
    "Aproximação numérica"
   ]
  },
  {
   "cell_type": "code",
   "execution_count": 5,
   "metadata": {
    "slideshow": {
     "slide_type": "subslide"
    }
   },
   "outputs": [
    {
     "data": {
      "text/html": [
       "<html><script type=\"math/tex; mode=display\">\\newcommand{\\Bold}[1]{\\mathbf{#1}}4.47213595499958</script></html>"
      ],
      "text/latex": [
       "\\begin{math}\n",
       "\\newcommand{\\Bold}[1]{\\mathbf{#1}}4.47213595499958\n",
       "\\end{math}"
      ],
      "text/plain": [
       "4.47213595499958"
      ]
     },
     "execution_count": 5,
     "metadata": {},
     "output_type": "execute_result"
    }
   ],
   "source": [
    "sqrt(20).n()"
   ]
  },
  {
   "cell_type": "code",
   "execution_count": 6,
   "metadata": {
    "slideshow": {
     "slide_type": "fragment"
    }
   },
   "outputs": [
    {
     "data": {
      "text/html": [
       "<html><script type=\"math/tex; mode=display\">\\newcommand{\\Bold}[1]{\\mathbf{#1}}4.47213595499958</script></html>"
      ],
      "text/latex": [
       "\\begin{math}\n",
       "\\newcommand{\\Bold}[1]{\\mathbf{#1}}4.47213595499958\n",
       "\\end{math}"
      ],
      "text/plain": [
       "4.47213595499958"
      ]
     },
     "execution_count": 6,
     "metadata": {},
     "output_type": "execute_result"
    }
   ],
   "source": [
    "sqrt(20.0)"
   ]
  },
  {
   "cell_type": "markdown",
   "metadata": {
    "slideshow": {
     "slide_type": "slide"
    }
   },
   "source": [
    "Algumas operações e funções básicas do Sage:\n",
    "\n",
    "|Operação|Sintáxe|\n",
    "|:-:|:-:|\n",
    "|4 operações | `a+b, a-b, a*b, a/b`|\n",
    "|Potêmcia | `a**b ou a^b`|\n",
    "|Raiz quadrada | `sqrt(a)`|\n",
    "|Divisão inteira | `a//b`|\n",
    "|Resto na divisão | `a%b`|\n",
    "|Fatorial | `factorial(a)`|\n",
    "|Coeficiente binômial $\\begin{pmatrix} a\\\\ b\\end{pmatrix}$ | `binomial(a,b)`|\n",
    "|Parte inteira | `floor(a)`|\n",
    "|Valor absoluto | `abs(a)`|\n",
    "|Aproximação numérica | `N(a) ou a.n()`|"
   ]
  },
  {
   "cell_type": "markdown",
   "metadata": {
    "slideshow": {
     "slide_type": "slide"
    }
   },
   "source": [
    "## 3. Variáveis simbólicas"
   ]
  },
  {
   "cell_type": "markdown",
   "metadata": {
    "slideshow": {
     "slide_type": "fragment"
    }
   },
   "source": [
    "Existem dois tipos básicos de variáveis no sage:"
   ]
  },
  {
   "cell_type": "markdown",
   "metadata": {
    "slideshow": {
     "slide_type": "fragment"
    }
   },
   "source": [
    "* As variáveis simbólicas, usadas nos cálculos simbólicos;"
   ]
  },
  {
   "cell_type": "markdown",
   "metadata": {
    "slideshow": {
     "slide_type": "fragment"
    }
   },
   "source": [
    "* Variáveis python, que são usadas para guardas alguma informação na memória. "
   ]
  },
  {
   "cell_type": "markdown",
   "metadata": {
    "slideshow": {
     "slide_type": "subslide"
    }
   },
   "source": [
    "Variáveis simbólicas precisam ser declaradas. Exceto `x`, que já vem pré-declarada."
   ]
  },
  {
   "cell_type": "code",
   "execution_count": 7,
   "metadata": {
    "slideshow": {
     "slide_type": "fragment"
    }
   },
   "outputs": [
    {
     "data": {
      "text/html": [
       "<html><script type=\"math/tex; mode=display\">\\newcommand{\\Bold}[1]{\\mathbf{#1}}\\left(u, y, w, a, b, c\\right)</script></html>"
      ],
      "text/latex": [
       "\\begin{math}\n",
       "\\newcommand{\\Bold}[1]{\\mathbf{#1}}\\left(u, y, w, a, b, c\\right)\n",
       "\\end{math}"
      ],
      "text/plain": [
       "(u, y, w, a, b, c)"
      ]
     },
     "execution_count": 7,
     "metadata": {},
     "output_type": "execute_result"
    }
   ],
   "source": [
    "var('u y w a b c') "
   ]
  },
  {
   "cell_type": "markdown",
   "metadata": {
    "slideshow": {
     "slide_type": "slide"
    }
   },
   "source": [
    "Uma lista de varáveis simbólicas indexadas pode ser criada com:"
   ]
  },
  {
   "cell_type": "code",
   "execution_count": 8,
   "metadata": {
    "slideshow": {
     "slide_type": "fragment"
    }
   },
   "outputs": [
    {
     "data": {
      "text/html": [
       "<html><script type=\"math/tex; mode=display\">\\newcommand{\\Bold}[1]{\\mathbf{#1}}\\left(x_{0}, x_{1}, x_{2}, x_{3}\\right)</script></html>"
      ],
      "text/latex": [
       "\\begin{math}\n",
       "\\newcommand{\\Bold}[1]{\\mathbf{#1}}\\left(x_{0}, x_{1}, x_{2}, x_{3}\\right)\n",
       "\\end{math}"
      ],
      "text/plain": [
       "(x0, x1, x2, x3)"
      ]
     },
     "execution_count": 8,
     "metadata": {},
     "output_type": "execute_result"
    }
   ],
   "source": [
    "X = var('x',n=4)\n",
    "X"
   ]
  },
  {
   "cell_type": "code",
   "execution_count": 9,
   "metadata": {
    "slideshow": {
     "slide_type": "fragment"
    }
   },
   "outputs": [
    {
     "data": {
      "text/html": [
       "<html><script type=\"math/tex; mode=display\">\\newcommand{\\Bold}[1]{\\mathbf{#1}}x_{1}</script></html>"
      ],
      "text/latex": [
       "\\begin{math}\n",
       "\\newcommand{\\Bold}[1]{\\mathbf{#1}}x_{1}\n",
       "\\end{math}"
      ],
      "text/plain": [
       "x1"
      ]
     },
     "execution_count": 9,
     "metadata": {},
     "output_type": "execute_result"
    }
   ],
   "source": [
    "X[1]"
   ]
  },
  {
   "cell_type": "markdown",
   "metadata": {},
   "source": [
    "Você pode tammbém definir o domínio e um nome $\\LaTeX{}$ para variáveis simbólicas."
   ]
  },
  {
   "cell_type": "code",
   "execution_count": 10,
   "metadata": {},
   "outputs": [
    {
     "data": {
      "text/html": [
       "<html><script type=\"math/tex; mode=display\">\\newcommand{\\Bold}[1]{\\mathbf{#1}}{\\bar{\\alpha}}</script></html>"
      ],
      "text/latex": [
       "\\begin{math}\n",
       "\\newcommand{\\Bold}[1]{\\mathbf{#1}}{\\bar{\\alpha}}\n",
       "\\end{math}"
      ],
      "text/plain": [
       "alp_bar"
      ]
     },
     "execution_count": 10,
     "metadata": {},
     "output_type": "execute_result"
    }
   ],
   "source": [
    "var('alp_bar', latex_name=r'\\bar{\\alpha}', domain='real')"
   ]
  },
  {
   "cell_type": "code",
   "execution_count": 11,
   "metadata": {},
   "outputs": [
    {
     "data": {
      "text/html": [
       "<html><script type=\"math/tex; mode=display\">\\newcommand{\\Bold}[1]{\\mathbf{#1}}{\\bar{\\alpha}}</script></html>"
      ],
      "text/latex": [
       "\\begin{math}\n",
       "\\newcommand{\\Bold}[1]{\\mathbf{#1}}{\\bar{\\alpha}}\n",
       "\\end{math}"
      ],
      "text/plain": [
       "alp_bar"
      ]
     },
     "execution_count": 11,
     "metadata": {},
     "output_type": "execute_result"
    }
   ],
   "source": [
    "alp_bar"
   ]
  },
  {
   "cell_type": "markdown",
   "metadata": {
    "slideshow": {
     "slide_type": "slide"
    }
   },
   "source": [
    "Variáveis simbólicas são usadas, por exemplo, para declarar funções."
   ]
  },
  {
   "cell_type": "code",
   "execution_count": 12,
   "metadata": {
    "slideshow": {
     "slide_type": "fragment"
    }
   },
   "outputs": [
    {
     "data": {
      "text/html": [
       "<html><script type=\"math/tex; mode=display\">\\newcommand{\\Bold}[1]{\\mathbf{#1}}u \\ {\\mapsto}\\ \\cos\\left(u\\right)^{6} + \\sin\\left(u\\right)^{6} + 3 \\, \\cos\\left(u\\right)^{2} \\sin\\left(u\\right)^{2}</script></html>"
      ],
      "text/latex": [
       "\\begin{math}\n",
       "\\newcommand{\\Bold}[1]{\\mathbf{#1}}u \\ {\\mapsto}\\ \\cos\\left(u\\right)^{6} + \\sin\\left(u\\right)^{6} + 3 \\, \\cos\\left(u\\right)^{2} \\sin\\left(u\\right)^{2}\n",
       "\\end{math}"
      ],
      "text/plain": [
       "u |--> cos(u)^6 + sin(u)^6 + 3*cos(u)^2*sin(u)^2"
      ]
     },
     "execution_count": 12,
     "metadata": {},
     "output_type": "execute_result"
    }
   ],
   "source": [
    "f(u)=cos(u)^6 + sin(u)^6 + 3 * sin(u)^2 * cos(u)^2\n",
    "f"
   ]
  },
  {
   "cell_type": "markdown",
   "metadata": {},
   "source": [
    "Código $\\LaTeX$"
   ]
  },
  {
   "cell_type": "code",
   "execution_count": 13,
   "metadata": {},
   "outputs": [
    {
     "name": "stdout",
     "output_type": "stream",
     "text": [
      "\\cos\\left(u\\right)^{6} + \\sin\\left(u\\right)^{6} + 3 \\, \\cos\\left(u\\right)^{2} \\sin\\left(u\\right)^{2}\n"
     ]
    }
   ],
   "source": [
    "print(latex(f(u)))"
   ]
  },
  {
   "cell_type": "markdown",
   "metadata": {
    "slideshow": {
     "slide_type": "slide"
    }
   },
   "source": [
    "Assim como Python, o Sage usa o paradigma de orientação ao objeto. Se você digitar `.` após o nome de um objeto e apertar a tecla <kbd>Tab</kbd>, será exibda uma lista de métodos associados a este objeto."
   ]
  },
  {
   "cell_type": "code",
   "execution_count": null,
   "metadata": {
    "slideshow": {
     "slide_type": "fragment"
    }
   },
   "outputs": [],
   "source": []
  },
  {
   "cell_type": "markdown",
   "metadata": {
    "slideshow": {
     "slide_type": "slide"
    }
   },
   "source": [
    "* A última saída é armazenada na variável `_` \n",
    "* Penúltima em `__` \n",
    "* Antepenúltima `___`"
   ]
  },
  {
   "cell_type": "code",
   "execution_count": 14,
   "metadata": {
    "slideshow": {
     "slide_type": "fragment"
    }
   },
   "outputs": [
    {
     "data": {
      "text/html": [
       "<html><script type=\"math/tex; mode=display\">\\newcommand{\\Bold}[1]{\\mathbf{#1}}u \\ {\\mapsto}\\ \\cos\\left(u\\right)^{6} + \\sin\\left(u\\right)^{6} + 3 \\, \\cos\\left(u\\right)^{2} \\sin\\left(u\\right)^{2}</script></html>"
      ],
      "text/latex": [
       "\\begin{math}\n",
       "\\newcommand{\\Bold}[1]{\\mathbf{#1}}u \\ {\\mapsto}\\ \\cos\\left(u\\right)^{6} + \\sin\\left(u\\right)^{6} + 3 \\, \\cos\\left(u\\right)^{2} \\sin\\left(u\\right)^{2}\n",
       "\\end{math}"
      ],
      "text/plain": [
       "u |--> cos(u)^6 + sin(u)^6 + 3*cos(u)^2*sin(u)^2"
      ]
     },
     "execution_count": 14,
     "metadata": {},
     "output_type": "execute_result"
    }
   ],
   "source": [
    "_"
   ]
  },
  {
   "cell_type": "markdown",
   "metadata": {
    "slideshow": {
     "slide_type": "fragment"
    }
   },
   "source": [
    "Um `?` após o nome de uma função exibe uma descrição da mesma, geralmente com alguns exemplos."
   ]
  },
  {
   "cell_type": "code",
   "execution_count": null,
   "metadata": {
    "jupyter": {
     "outputs_hidden": true
    },
    "slideshow": {
     "slide_type": "fragment"
    }
   },
   "outputs": [],
   "source": []
  },
  {
   "cell_type": "markdown",
   "metadata": {
    "slideshow": {
     "slide_type": "slide"
    }
   },
   "source": [
    "## 4. Expressões simbólicas"
   ]
  },
  {
   "cell_type": "markdown",
   "metadata": {
    "slideshow": {
     "slide_type": "fragment"
    }
   },
   "source": [
    "Expressões simbólicas podem ser manipuladas de várias formas"
   ]
  },
  {
   "cell_type": "code",
   "execution_count": 16,
   "metadata": {
    "slideshow": {
     "slide_type": "subslide"
    }
   },
   "outputs": [
    {
     "data": {
      "text/html": [
       "<html><script type=\"math/tex; mode=display\">\\newcommand{\\Bold}[1]{\\mathbf{#1}}{\\left(x + y\\right)} {\\left(x + 1\\right)}^{2}</script></html>"
      ],
      "text/latex": [
       "\\begin{math}\n",
       "\\newcommand{\\Bold}[1]{\\mathbf{#1}}{\\left(x + y\\right)} {\\left(x + 1\\right)}^{2}\n",
       "\\end{math}"
      ],
      "text/plain": [
       "(x + y)*(x + 1)^2"
      ]
     },
     "execution_count": 16,
     "metadata": {},
     "output_type": "execute_result"
    }
   ],
   "source": [
    "p = (x+y)*(x+1)^2; p"
   ]
  },
  {
   "cell_type": "code",
   "execution_count": 17,
   "metadata": {
    "slideshow": {
     "slide_type": "subslide"
    }
   },
   "outputs": [
    {
     "data": {
      "text/html": [
       "<html><script type=\"math/tex; mode=display\">\\newcommand{\\Bold}[1]{\\mathbf{#1}}x^{3} + x^{2} y + 2 \\, x^{2} + 2 \\, x y + x + y</script></html>"
      ],
      "text/latex": [
       "\\begin{math}\n",
       "\\newcommand{\\Bold}[1]{\\mathbf{#1}}x^{3} + x^{2} y + 2 \\, x^{2} + 2 \\, x y + x + y\n",
       "\\end{math}"
      ],
      "text/plain": [
       "x^3 + x^2*y + 2*x^2 + 2*x*y + x + y"
      ]
     },
     "execution_count": 17,
     "metadata": {},
     "output_type": "execute_result"
    }
   ],
   "source": [
    "p2 = p.expand(); p2"
   ]
  },
  {
   "cell_type": "code",
   "execution_count": 18,
   "metadata": {
    "slideshow": {
     "slide_type": "subslide"
    }
   },
   "outputs": [
    {
     "data": {
      "text/html": [
       "<html><script type=\"math/tex; mode=display\">\\newcommand{\\Bold}[1]{\\mathbf{#1}}x^{3} + x^{2} {\\left(y + 2\\right)} + x {\\left(2 \\, y + 1\\right)} + y</script></html>"
      ],
      "text/latex": [
       "\\begin{math}\n",
       "\\newcommand{\\Bold}[1]{\\mathbf{#1}}x^{3} + x^{2} {\\left(y + 2\\right)} + x {\\left(2 \\, y + 1\\right)} + y\n",
       "\\end{math}"
      ],
      "text/plain": [
       "x^3 + x^2*(y + 2) + x*(2*y + 1) + y"
      ]
     },
     "execution_count": 18,
     "metadata": {},
     "output_type": "execute_result"
    }
   ],
   "source": [
    "p2.collect(x) #potências da x"
   ]
  },
  {
   "cell_type": "code",
   "execution_count": 19,
   "metadata": {
    "slideshow": {
     "slide_type": "subslide"
    }
   },
   "outputs": [
    {
     "data": {
      "text/html": [
       "<html><script type=\"math/tex; mode=display\">\\newcommand{\\Bold}[1]{\\mathbf{#1}}{\\left(x + y\\right)} {\\left(x + 1\\right)}^{2}</script></html>"
      ],
      "text/latex": [
       "\\begin{math}\n",
       "\\newcommand{\\Bold}[1]{\\mathbf{#1}}{\\left(x + y\\right)} {\\left(x + 1\\right)}^{2}\n",
       "\\end{math}"
      ],
      "text/plain": [
       "(x + y)*(x + 1)^2"
      ]
     },
     "execution_count": 19,
     "metadata": {},
     "output_type": "execute_result"
    }
   ],
   "source": [
    "p2.factor()"
   ]
  },
  {
   "cell_type": "markdown",
   "metadata": {
    "slideshow": {
     "slide_type": "slide"
    }
   },
   "source": [
    "Identidades trigonômétricas podem ser utilizadas com `.expand_trig()`"
   ]
  },
  {
   "cell_type": "code",
   "execution_count": 20,
   "metadata": {
    "slideshow": {
     "slide_type": "fragment"
    }
   },
   "outputs": [
    {
     "data": {
      "text/html": [
       "<html><script type=\"math/tex; mode=display\">\\newcommand{\\Bold}[1]{\\mathbf{#1}}\\cos\\left(y\\right) \\sin\\left(x\\right) + \\cos\\left(x\\right) \\sin\\left(y\\right)</script></html>"
      ],
      "text/latex": [
       "\\begin{math}\n",
       "\\newcommand{\\Bold}[1]{\\mathbf{#1}}\\cos\\left(y\\right) \\sin\\left(x\\right) + \\cos\\left(x\\right) \\sin\\left(y\\right)\n",
       "\\end{math}"
      ],
      "text/plain": [
       "cos(y)*sin(x) + cos(x)*sin(y)"
      ]
     },
     "execution_count": 20,
     "metadata": {},
     "output_type": "execute_result"
    }
   ],
   "source": [
    "sin(x+y).expand_trig()"
   ]
  },
  {
   "cell_type": "code",
   "execution_count": 21,
   "metadata": {
    "slideshow": {
     "slide_type": "fragment"
    }
   },
   "outputs": [
    {
     "data": {
      "text/html": [
       "<html><script type=\"math/tex; mode=display\">\\newcommand{\\Bold}[1]{\\mathbf{#1}}\\frac{\\tanh\\left(x\\right) + \\tanh\\left(y\\right)}{\\tanh\\left(x\\right) \\tanh\\left(y\\right) + 1}</script></html>"
      ],
      "text/latex": [
       "\\begin{math}\n",
       "\\newcommand{\\Bold}[1]{\\mathbf{#1}}\\frac{\\tanh\\left(x\\right) + \\tanh\\left(y\\right)}{\\tanh\\left(x\\right) \\tanh\\left(y\\right) + 1}\n",
       "\\end{math}"
      ],
      "text/plain": [
       "(tanh(x) + tanh(y))/(tanh(x)*tanh(y) + 1)"
      ]
     },
     "execution_count": 21,
     "metadata": {},
     "output_type": "execute_result"
    }
   ],
   "source": [
    "tanh(x+y).expand_trig()"
   ]
  },
  {
   "cell_type": "markdown",
   "metadata": {
    "slideshow": {
     "slide_type": "slide"
    }
   },
   "source": [
    "Ou simplificadas usando `trig_simplify()`"
   ]
  },
  {
   "cell_type": "code",
   "execution_count": 22,
   "metadata": {
    "slideshow": {
     "slide_type": "subslide"
    }
   },
   "outputs": [
    {
     "data": {
      "text/html": [
       "<html><script type=\"math/tex; mode=display\">\\newcommand{\\Bold}[1]{\\mathbf{#1}}\\cos\\left(u\\right)^{6} + \\sin\\left(u\\right)^{6} + 3 \\, \\cos\\left(u\\right)^{2} \\sin\\left(u\\right)^{2}</script></html>"
      ],
      "text/latex": [
       "\\begin{math}\n",
       "\\newcommand{\\Bold}[1]{\\mathbf{#1}}\\cos\\left(u\\right)^{6} + \\sin\\left(u\\right)^{6} + 3 \\, \\cos\\left(u\\right)^{2} \\sin\\left(u\\right)^{2}\n",
       "\\end{math}"
      ],
      "text/plain": [
       "cos(u)^6 + sin(u)^6 + 3*cos(u)^2*sin(u)^2"
      ]
     },
     "execution_count": 22,
     "metadata": {},
     "output_type": "execute_result"
    }
   ],
   "source": [
    "f(u)"
   ]
  },
  {
   "cell_type": "code",
   "execution_count": 23,
   "metadata": {
    "slideshow": {
     "slide_type": "fragment"
    }
   },
   "outputs": [
    {
     "data": {
      "text/html": [
       "<html><script type=\"math/tex; mode=display\">\\newcommand{\\Bold}[1]{\\mathbf{#1}}-6 \\, \\cos\\left(u\\right)^{5} \\sin\\left(u\\right) + 6 \\, \\cos\\left(u\\right) \\sin\\left(u\\right)^{5} + 6 \\, \\cos\\left(u\\right)^{3} \\sin\\left(u\\right) - 6 \\, \\cos\\left(u\\right) \\sin\\left(u\\right)^{3}</script></html>"
      ],
      "text/latex": [
       "\\begin{math}\n",
       "\\newcommand{\\Bold}[1]{\\mathbf{#1}}-6 \\, \\cos\\left(u\\right)^{5} \\sin\\left(u\\right) + 6 \\, \\cos\\left(u\\right) \\sin\\left(u\\right)^{5} + 6 \\, \\cos\\left(u\\right)^{3} \\sin\\left(u\\right) - 6 \\, \\cos\\left(u\\right) \\sin\\left(u\\right)^{3}\n",
       "\\end{math}"
      ],
      "text/plain": [
       "-6*cos(u)^5*sin(u) + 6*cos(u)*sin(u)^5 + 6*cos(u)^3*sin(u) - 6*cos(u)*sin(u)^3"
      ]
     },
     "execution_count": 23,
     "metadata": {},
     "output_type": "execute_result"
    }
   ],
   "source": [
    "f(u).diff()"
   ]
  },
  {
   "cell_type": "code",
   "execution_count": 24,
   "metadata": {
    "slideshow": {
     "slide_type": "subslide"
    }
   },
   "outputs": [
    {
     "data": {
      "text/html": [
       "<html><script type=\"math/tex; mode=display\">\\newcommand{\\Bold}[1]{\\mathbf{#1}}1</script></html>"
      ],
      "text/latex": [
       "\\begin{math}\n",
       "\\newcommand{\\Bold}[1]{\\mathbf{#1}}1\n",
       "\\end{math}"
      ],
      "text/plain": [
       "1"
      ]
     },
     "execution_count": 24,
     "metadata": {},
     "output_type": "execute_result"
    }
   ],
   "source": [
    "f(u).trig_simplify()"
   ]
  },
  {
   "cell_type": "code",
   "execution_count": 25,
   "metadata": {
    "slideshow": {
     "slide_type": "fragment"
    }
   },
   "outputs": [
    {
     "data": {
      "text/html": [
       "<html><script type=\"math/tex; mode=display\">\\newcommand{\\Bold}[1]{\\mathbf{#1}}0</script></html>"
      ],
      "text/latex": [
       "\\begin{math}\n",
       "\\newcommand{\\Bold}[1]{\\mathbf{#1}}0\n",
       "\\end{math}"
      ],
      "text/plain": [
       "0"
      ]
     },
     "execution_count": 25,
     "metadata": {},
     "output_type": "execute_result"
    }
   ],
   "source": [
    "f(u).diff().trig_simplify()"
   ]
  },
  {
   "cell_type": "markdown",
   "metadata": {
    "slideshow": {
     "slide_type": "slide"
    }
   },
   "source": [
    "Manipulação simbólica de polinômios:\n",
    "\n",
    "Função | Comando\n",
    ":--- | :---\n",
    "expandir | `expand()`\n",
    "polinômio em `x` | `collect(x)`\n",
    "Fatorar | `factor()`"
   ]
  },
  {
   "cell_type": "markdown",
   "metadata": {
    "slideshow": {
     "slide_type": "subslide"
    }
   },
   "source": [
    "Funções trigonométricas:\n",
    "\n",
    "Função | Comando\n",
    ":--- | :---\n",
    "Simplificação | `trig_simplify()`\n",
    "Linearização | `reduce_trig()`\n",
    "Expansão | `expand_trig()`"
   ]
  },
  {
   "cell_type": "markdown",
   "metadata": {},
   "source": [
    "Raízes e frações:\n",
    "\n",
    "Função | Comando\n",
    ":--- | :---\n",
    "Somar frações com o mesmo denominador | `combine()`\n",
    "Rotina de simplificações com raízes e frações(muito útil) | `canonicalize_radical()`"
   ]
  },
  {
   "cell_type": "markdown",
   "metadata": {
    "slideshow": {
     "slide_type": "subslide"
    }
   },
   "source": [
    "Geral:\n",
    "\n",
    "Função | Comando\n",
    ":--- | :---\n",
    "Simplificação | `simplify()`\n",
    "Simplificação completa | `full_simplify()`"
   ]
  },
  {
   "cell_type": "markdown",
   "metadata": {
    "slideshow": {
     "slide_type": "slide"
    }
   },
   "source": [
    "## 5. Equações, inequações e sistemas"
   ]
  },
  {
   "cell_type": "markdown",
   "metadata": {
    "slideshow": {
     "slide_type": "fragment"
    }
   },
   "source": [
    "Equações podem ser definidas por expressões simbólicas e guardadas em variáveis python e manipuladas."
   ]
  },
  {
   "cell_type": "code",
   "execution_count": 26,
   "metadata": {
    "slideshow": {
     "slide_type": "subslide"
    }
   },
   "outputs": [
    {
     "data": {
      "text/html": [
       "<html><script type=\"math/tex; mode=display\">\\newcommand{\\Bold}[1]{\\mathbf{#1}}y^{2} - \\frac{2 \\, y}{\\cos\\left(\\phi\\right)} + \\frac{5}{\\cos\\left(\\phi\\right)^{2}} - 4 = 0</script></html>"
      ],
      "text/latex": [
       "\\begin{math}\n",
       "\\newcommand{\\Bold}[1]{\\mathbf{#1}}y^{2} - \\frac{2 \\, y}{\\cos\\left(\\phi\\right)} + \\frac{5}{\\cos\\left(\\phi\\right)^{2}} - 4 = 0\n",
       "\\end{math}"
      ],
      "text/plain": [
       "y^2 - 2*y/cos(phi) + 5/cos(phi)^2 - 4 == 0"
      ]
     },
     "execution_count": 26,
     "metadata": {},
     "output_type": "execute_result"
    }
   ],
   "source": [
    "var('phi')\n",
    "eq0 = y**2 - 2/cos(phi)*y + 5/cos(phi)**2 - 4 == 0; eq0"
   ]
  },
  {
   "cell_type": "markdown",
   "metadata": {
    "slideshow": {
     "slide_type": "fragment"
    }
   },
   "source": [
    "<div class=\"alert alert-block alert-danger\">\n",
    "Note que equações são definidas pelo operador `==`\n",
    "</div>"
   ]
  },
  {
   "cell_type": "code",
   "execution_count": 27,
   "metadata": {
    "slideshow": {
     "slide_type": "subslide"
    }
   },
   "outputs": [
    {
     "data": {
      "text/html": [
       "<html><script type=\"math/tex; mode=display\">\\newcommand{\\Bold}[1]{\\mathbf{#1}}y^{2} \\cos\\left(\\phi\\right)^{2} - 2 \\, y \\cos\\left(\\phi\\right) - 4 \\, \\cos\\left(\\phi\\right)^{2} + 5 = 0</script></html>"
      ],
      "text/latex": [
       "\\begin{math}\n",
       "\\newcommand{\\Bold}[1]{\\mathbf{#1}}y^{2} \\cos\\left(\\phi\\right)^{2} - 2 \\, y \\cos\\left(\\phi\\right) - 4 \\, \\cos\\left(\\phi\\right)^{2} + 5 = 0\n",
       "\\end{math}"
      ],
      "text/plain": [
       "y^2*cos(phi)^2 - 2*y*cos(phi) - 4*cos(phi)^2 + 5 == 0"
      ]
     },
     "execution_count": 27,
     "metadata": {},
     "output_type": "execute_result"
    }
   ],
   "source": [
    "eq1=(eq0*cos(phi)^2).expand(); eq1"
   ]
  },
  {
   "cell_type": "markdown",
   "metadata": {},
   "source": [
    "Para extrair os lados da equação, `.lhs()` ou `.rhs()`"
   ]
  },
  {
   "cell_type": "code",
   "execution_count": 28,
   "metadata": {
    "slideshow": {
     "slide_type": "fragment"
    }
   },
   "outputs": [
    {
     "data": {
      "text/html": [
       "<html><script type=\"math/tex; mode=display\">\\newcommand{\\Bold}[1]{\\mathbf{#1}}y^{2} \\cos\\left(\\phi\\right)^{2} - 2 \\, y \\cos\\left(\\phi\\right) - 4 \\, \\cos\\left(\\phi\\right)^{2} + 5</script></html>"
      ],
      "text/latex": [
       "\\begin{math}\n",
       "\\newcommand{\\Bold}[1]{\\mathbf{#1}}y^{2} \\cos\\left(\\phi\\right)^{2} - 2 \\, y \\cos\\left(\\phi\\right) - 4 \\, \\cos\\left(\\phi\\right)^{2} + 5\n",
       "\\end{math}"
      ],
      "text/plain": [
       "y^2*cos(phi)^2 - 2*y*cos(phi) - 4*cos(phi)^2 + 5"
      ]
     },
     "execution_count": 28,
     "metadata": {},
     "output_type": "execute_result"
    }
   ],
   "source": [
    "eq1.lhs()"
   ]
  },
  {
   "cell_type": "code",
   "execution_count": 29,
   "metadata": {
    "slideshow": {
     "slide_type": "fragment"
    }
   },
   "outputs": [
    {
     "data": {
      "text/html": [
       "<html><script type=\"math/tex; mode=display\">\\newcommand{\\Bold}[1]{\\mathbf{#1}}0</script></html>"
      ],
      "text/latex": [
       "\\begin{math}\n",
       "\\newcommand{\\Bold}[1]{\\mathbf{#1}}0\n",
       "\\end{math}"
      ],
      "text/plain": [
       "0"
      ]
     },
     "execution_count": 29,
     "metadata": {},
     "output_type": "execute_result"
    }
   ],
   "source": [
    "eq1.rhs()"
   ]
  },
  {
   "cell_type": "markdown",
   "metadata": {
    "slideshow": {
     "slide_type": "slide"
    }
   },
   "source": [
    "Equações também podem ser resolvidas diretamente usando o comando `solve`"
   ]
  },
  {
   "cell_type": "code",
   "execution_count": 30,
   "metadata": {
    "slideshow": {
     "slide_type": "subslide"
    }
   },
   "outputs": [
    {
     "data": {
      "text/html": [
       "<html><script type=\"math/tex; mode=display\">\\newcommand{\\Bold}[1]{\\mathbf{#1}}\\left[y = -\\frac{2 \\, \\sqrt{\\cos\\left(\\phi\\right)^{2} - 1} - 1}{\\cos\\left(\\phi\\right)}, y = \\frac{2 \\, \\sqrt{\\cos\\left(\\phi\\right)^{2} - 1} + 1}{\\cos\\left(\\phi\\right)}\\right]</script></html>"
      ],
      "text/latex": [
       "\\begin{math}\n",
       "\\newcommand{\\Bold}[1]{\\mathbf{#1}}\\left[y = -\\frac{2 \\, \\sqrt{\\cos\\left(\\phi\\right)^{2} - 1} - 1}{\\cos\\left(\\phi\\right)}, y = \\frac{2 \\, \\sqrt{\\cos\\left(\\phi\\right)^{2} - 1} + 1}{\\cos\\left(\\phi\\right)}\\right]\n",
       "\\end{math}"
      ],
      "text/plain": [
       "[y == -(2*sqrt(cos(phi)^2 - 1) - 1)/cos(phi), y == (2*sqrt(cos(phi)^2 - 1) + 1)/cos(phi)]"
      ]
     },
     "execution_count": 30,
     "metadata": {},
     "output_type": "execute_result"
    }
   ],
   "source": [
    "solve(eq1,y)"
   ]
  },
  {
   "cell_type": "code",
   "execution_count": 31,
   "metadata": {
    "slideshow": {
     "slide_type": "subslide"
    }
   },
   "outputs": [
    {
     "data": {
      "text/html": [
       "<html><script type=\"math/tex; mode=display\">\\newcommand{\\Bold}[1]{\\mathbf{#1}}\\left[\\phi = \\pi - \\arccos\\left(-\\frac{y}{y^{2} - 4} + \\frac{2 \\, \\sqrt{-y^{2} + 5}}{y^{2} - 4}\\right), \\phi = \\arccos\\left(\\frac{y}{y^{2} - 4} + \\frac{2 \\, \\sqrt{-y^{2} + 5}}{y^{2} - 4}\\right)\\right]</script></html>"
      ],
      "text/latex": [
       "\\begin{math}\n",
       "\\newcommand{\\Bold}[1]{\\mathbf{#1}}\\left[\\phi = \\pi - \\arccos\\left(-\\frac{y}{y^{2} - 4} + \\frac{2 \\, \\sqrt{-y^{2} + 5}}{y^{2} - 4}\\right), \\phi = \\arccos\\left(\\frac{y}{y^{2} - 4} + \\frac{2 \\, \\sqrt{-y^{2} + 5}}{y^{2} - 4}\\right)\\right]\n",
       "\\end{math}"
      ],
      "text/plain": [
       "[phi == pi - arccos(-y/(y^2 - 4) + 2*sqrt(-y^2 + 5)/(y^2 - 4)), phi == arccos(y/(y^2 - 4) + 2*sqrt(-y^2 + 5)/(y^2 - 4))]"
      ]
     },
     "execution_count": 31,
     "metadata": {},
     "output_type": "execute_result"
    }
   ],
   "source": [
    "sol=solve(eq1,phi); sol"
   ]
  },
  {
   "cell_type": "code",
   "execution_count": 32,
   "metadata": {
    "slideshow": {
     "slide_type": "fragment"
    }
   },
   "outputs": [
    {
     "data": {
      "text/html": [
       "<html><script type=\"math/tex; mode=display\">\\newcommand{\\Bold}[1]{\\mathbf{#1}}\\phi = \\pi - \\arccos\\left(-\\frac{y}{y^{2} - 4} + \\frac{2 \\, \\sqrt{-y^{2} + 5}}{y^{2} - 4}\\right)</script></html>"
      ],
      "text/latex": [
       "\\begin{math}\n",
       "\\newcommand{\\Bold}[1]{\\mathbf{#1}}\\phi = \\pi - \\arccos\\left(-\\frac{y}{y^{2} - 4} + \\frac{2 \\, \\sqrt{-y^{2} + 5}}{y^{2} - 4}\\right)\n",
       "\\end{math}"
      ],
      "text/plain": [
       "phi == pi - arccos(-y/(y^2 - 4) + 2*sqrt(-y^2 + 5)/(y^2 - 4))"
      ]
     },
     "execution_count": 32,
     "metadata": {},
     "output_type": "execute_result"
    }
   ],
   "source": [
    "sol[0]"
   ]
  },
  {
   "cell_type": "code",
   "execution_count": 33,
   "metadata": {
    "slideshow": {
     "slide_type": "fragment"
    }
   },
   "outputs": [
    {
     "data": {
      "text/html": [
       "<html><script type=\"math/tex; mode=display\">\\newcommand{\\Bold}[1]{\\mathbf{#1}}\\pi - \\arccos\\left(-\\frac{y}{y^{2} - 4} + \\frac{2 \\, \\sqrt{-y^{2} + 5}}{y^{2} - 4}\\right)</script></html>"
      ],
      "text/latex": [
       "\\begin{math}\n",
       "\\newcommand{\\Bold}[1]{\\mathbf{#1}}\\pi - \\arccos\\left(-\\frac{y}{y^{2} - 4} + \\frac{2 \\, \\sqrt{-y^{2} + 5}}{y^{2} - 4}\\right)\n",
       "\\end{math}"
      ],
      "text/plain": [
       "pi - arccos(-y/(y^2 - 4) + 2*sqrt(-y^2 + 5)/(y^2 - 4))"
      ]
     },
     "execution_count": 33,
     "metadata": {},
     "output_type": "execute_result"
    }
   ],
   "source": [
    "sol[0].rhs()"
   ]
  },
  {
   "cell_type": "code",
   "execution_count": 34,
   "metadata": {
    "slideshow": {
     "slide_type": "fragment"
    }
   },
   "outputs": [
    {
     "name": "stdout",
     "output_type": "stream",
     "text": [
      "\\pi - \\arccos\\left(-\\frac{y}{y^{2} - 4} + \\frac{2 \\, \\sqrt{-y^{2} + 5}}{y^{2} - 4}\\right)\n"
     ]
    }
   ],
   "source": [
    "print(latex(sol[0].rhs()))"
   ]
  },
  {
   "cell_type": "markdown",
   "metadata": {},
   "source": [
    "Você pode assumir expressões simbólicas que serão usadas nos cálculos simbólicos internamente com a função `assume(expressão)`"
   ]
  },
  {
   "cell_type": "code",
   "execution_count": 35,
   "metadata": {},
   "outputs": [],
   "source": [
    "assume(phi^2<20)"
   ]
  },
  {
   "cell_type": "code",
   "execution_count": 36,
   "metadata": {},
   "outputs": [
    {
     "data": {
      "text/html": [
       "<html><script type=\"math/tex; mode=display\">\\newcommand{\\Bold}[1]{\\mathbf{#1}}\\left[\\verb|alp_bar|\\phantom{\\verb!x!}\\verb|is|\\phantom{\\verb!x!}\\verb|real|, \\phi^{2} < 20\\right]</script></html>"
      ],
      "text/latex": [
       "\\begin{math}\n",
       "\\newcommand{\\Bold}[1]{\\mathbf{#1}}\\left[\\verb|alp_bar|\\phantom{\\verb!x!}\\verb|is|\\phantom{\\verb!x!}\\verb|real|, \\phi^{2} < 20\\right]\n",
       "\\end{math}"
      ],
      "text/plain": [
       "[alp_bar is real, phi^2 < 20]"
      ]
     },
     "execution_count": 36,
     "metadata": {},
     "output_type": "execute_result"
    }
   ],
   "source": [
    "assumptions()"
   ]
  },
  {
   "cell_type": "markdown",
   "metadata": {
    "slideshow": {
     "slide_type": "slide"
    }
   },
   "source": [
    "### 5.1 Sistemas de equações e inequações"
   ]
  },
  {
   "cell_type": "markdown",
   "metadata": {
    "slideshow": {
     "slide_type": "fragment"
    }
   },
   "source": [
    "O `solve` também resolve sistemas de equações ou inequações "
   ]
  },
  {
   "cell_type": "code",
   "execution_count": 37,
   "metadata": {
    "slideshow": {
     "slide_type": "fragment"
    }
   },
   "outputs": [
    {
     "data": {
      "text/html": [
       "<html><script type=\"math/tex; mode=display\">\\newcommand{\\Bold}[1]{\\mathbf{#1}}\\left(x^{2} + x y + 2 = 0, y^{2} = {\\left(x + y\\right)} x\\right)</script></html>"
      ],
      "text/latex": [
       "\\begin{math}\n",
       "\\newcommand{\\Bold}[1]{\\mathbf{#1}}\\left(x^{2} + x y + 2 = 0, y^{2} = {\\left(x + y\\right)} x\\right)\n",
       "\\end{math}"
      ],
      "text/plain": [
       "(x^2 + x*y + 2 == 0, y^2 == (x + y)*x)"
      ]
     },
     "execution_count": 37,
     "metadata": {},
     "output_type": "execute_result"
    }
   ],
   "source": [
    "eq2 = x^2 + x*y + 2 == 0\n",
    "eq3 = y^2 == x*(x+y)\n",
    "(eq2, eq3)"
   ]
  },
  {
   "cell_type": "code",
   "execution_count": 38,
   "metadata": {
    "slideshow": {
     "slide_type": "subslide"
    }
   },
   "outputs": [
    {
     "data": {
      "text/html": [
       "<html><script type=\"math/tex; mode=display\">\\newcommand{\\Bold}[1]{\\mathbf{#1}}\\left[\\left[x = -\\frac{1}{2} i \\, \\sqrt{10} + \\frac{1}{2} i \\, \\sqrt{2}, y = -i \\, \\sqrt{2}\\right], \\left[x = \\frac{1}{2} i \\, \\sqrt{10} + \\frac{1}{2} i \\, \\sqrt{2}, y = -i \\, \\sqrt{2}\\right], \\left[x = -\\frac{1}{2} i \\, \\sqrt{10} - \\frac{1}{2} i \\, \\sqrt{2}, y = i \\, \\sqrt{2}\\right], \\left[x = \\frac{1}{2} i \\, \\sqrt{10} - \\frac{1}{2} i \\, \\sqrt{2}, y = i \\, \\sqrt{2}\\right]\\right]</script></html>"
      ],
      "text/latex": [
       "\\begin{math}\n",
       "\\newcommand{\\Bold}[1]{\\mathbf{#1}}\\left[\\left[x = -\\frac{1}{2} i \\, \\sqrt{10} + \\frac{1}{2} i \\, \\sqrt{2}, y = -i \\, \\sqrt{2}\\right], \\left[x = \\frac{1}{2} i \\, \\sqrt{10} + \\frac{1}{2} i \\, \\sqrt{2}, y = -i \\, \\sqrt{2}\\right], \\left[x = -\\frac{1}{2} i \\, \\sqrt{10} - \\frac{1}{2} i \\, \\sqrt{2}, y = i \\, \\sqrt{2}\\right], \\left[x = \\frac{1}{2} i \\, \\sqrt{10} - \\frac{1}{2} i \\, \\sqrt{2}, y = i \\, \\sqrt{2}\\right]\\right]\n",
       "\\end{math}"
      ],
      "text/plain": [
       "[[x == -1/2*I*sqrt(10) + 1/2*I*sqrt(2), y == -I*sqrt(2)], [x == 1/2*I*sqrt(10) + 1/2*I*sqrt(2), y == -I*sqrt(2)], [x == -1/2*I*sqrt(10) - 1/2*I*sqrt(2), y == I*sqrt(2)], [x == 1/2*I*sqrt(10) - 1/2*I*sqrt(2), y == I*sqrt(2)]]"
      ]
     },
     "execution_count": 38,
     "metadata": {},
     "output_type": "execute_result"
    }
   ],
   "source": [
    "sols = solve((eq2, eq3), x, y)\n",
    "sols"
   ]
  },
  {
   "cell_type": "code",
   "execution_count": 39,
   "metadata": {
    "slideshow": {
     "slide_type": "fragment"
    }
   },
   "outputs": [
    {
     "data": {
      "text/html": [
       "<html><script type=\"math/tex; mode=display\">\\newcommand{\\Bold}[1]{\\mathbf{#1}}\\left[x = -\\frac{1}{2} i \\, \\sqrt{10} + \\frac{1}{2} i \\, \\sqrt{2}, y = -i \\, \\sqrt{2}\\right]</script></html>"
      ],
      "text/latex": [
       "\\begin{math}\n",
       "\\newcommand{\\Bold}[1]{\\mathbf{#1}}\\left[x = -\\frac{1}{2} i \\, \\sqrt{10} + \\frac{1}{2} i \\, \\sqrt{2}, y = -i \\, \\sqrt{2}\\right]\n",
       "\\end{math}"
      ],
      "text/plain": [
       "[x == -1/2*I*sqrt(10) + 1/2*I*sqrt(2), y == -I*sqrt(2)]"
      ]
     },
     "execution_count": 39,
     "metadata": {},
     "output_type": "execute_result"
    }
   ],
   "source": [
    "sols[0]"
   ]
  },
  {
   "cell_type": "code",
   "execution_count": 40,
   "metadata": {
    "slideshow": {
     "slide_type": "fragment"
    }
   },
   "outputs": [
    {
     "data": {
      "text/html": [
       "<html><script type=\"math/tex; mode=display\">\\newcommand{\\Bold}[1]{\\mathbf{#1}}x = -\\frac{1}{2} i \\, \\sqrt{10} + \\frac{1}{2} i \\, \\sqrt{2}</script></html>"
      ],
      "text/latex": [
       "\\begin{math}\n",
       "\\newcommand{\\Bold}[1]{\\mathbf{#1}}x = -\\frac{1}{2} i \\, \\sqrt{10} + \\frac{1}{2} i \\, \\sqrt{2}\n",
       "\\end{math}"
      ],
      "text/plain": [
       "x == -1/2*I*sqrt(10) + 1/2*I*sqrt(2)"
      ]
     },
     "execution_count": 40,
     "metadata": {},
     "output_type": "execute_result"
    }
   ],
   "source": [
    "sols[0][0]"
   ]
  },
  {
   "cell_type": "code",
   "execution_count": 41,
   "metadata": {
    "slideshow": {
     "slide_type": "subslide"
    }
   },
   "outputs": [
    {
     "data": {
      "text/html": [
       "<html><script type=\"math/tex; mode=display\">\\newcommand{\\Bold}[1]{\\mathbf{#1}}\\left[\\left[x < -\\frac{1}{2} \\, \\sqrt{5} - \\frac{1}{2}\\right], \\left[x > \\frac{1}{2} \\, \\sqrt{5} - \\frac{1}{2}\\right]\\right]</script></html>"
      ],
      "text/latex": [
       "\\begin{math}\n",
       "\\newcommand{\\Bold}[1]{\\mathbf{#1}}\\left[\\left[x < -\\frac{1}{2} \\, \\sqrt{5} - \\frac{1}{2}\\right], \\left[x > \\frac{1}{2} \\, \\sqrt{5} - \\frac{1}{2}\\right]\\right]\n",
       "\\end{math}"
      ],
      "text/plain": [
       "[[x < -1/2*sqrt(5) - 1/2], [x > 1/2*sqrt(5) - 1/2]]"
      ]
     },
     "execution_count": 41,
     "metadata": {},
     "output_type": "execute_result"
    }
   ],
   "source": [
    "solve(x^2+x-1 > 0, x)"
   ]
  },
  {
   "cell_type": "markdown",
   "metadata": {
    "slideshow": {
     "slide_type": "slide"
    }
   },
   "source": [
    "### 5.2 Solução numérica"
   ]
  },
  {
   "cell_type": "markdown",
   "metadata": {
    "slideshow": {
     "slide_type": "fragment"
    }
   },
   "source": [
    "Em alguns casos o solve não consegue encontar uma solução para a equação."
   ]
  },
  {
   "cell_type": "code",
   "execution_count": 42,
   "metadata": {
    "slideshow": {
     "slide_type": "subslide"
    }
   },
   "outputs": [
    {
     "data": {
      "text/html": [
       "<html><script type=\"math/tex; mode=display\">\\newcommand{\\Bold}[1]{\\mathbf{#1}}\\sin\\left(3 \\, x\\right) + \\sin\\left(2 \\, x\\right) + \\sin\\left(x\\right) = 0</script></html>"
      ],
      "text/latex": [
       "\\begin{math}\n",
       "\\newcommand{\\Bold}[1]{\\mathbf{#1}}\\sin\\left(3 \\, x\\right) + \\sin\\left(2 \\, x\\right) + \\sin\\left(x\\right) = 0\n",
       "\\end{math}"
      ],
      "text/plain": [
       "sin(3*x) + sin(2*x) + sin(x) == 0"
      ]
     },
     "execution_count": 42,
     "metadata": {},
     "output_type": "execute_result"
    }
   ],
   "source": [
    "expr = sin(x) + sin(2 * x) + sin(3 * x)==0;expr"
   ]
  },
  {
   "cell_type": "code",
   "execution_count": 43,
   "metadata": {
    "slideshow": {
     "slide_type": "fragment"
    }
   },
   "outputs": [
    {
     "data": {
      "text/html": [
       "<html><script type=\"math/tex; mode=display\">\\newcommand{\\Bold}[1]{\\mathbf{#1}}\\left[\\sin\\left(3 \\, x\\right) = -\\sin\\left(2 \\, x\\right) - \\sin\\left(x\\right)\\right]</script></html>"
      ],
      "text/latex": [
       "\\begin{math}\n",
       "\\newcommand{\\Bold}[1]{\\mathbf{#1}}\\left[\\sin\\left(3 \\, x\\right) = -\\sin\\left(2 \\, x\\right) - \\sin\\left(x\\right)\\right]\n",
       "\\end{math}"
      ],
      "text/plain": [
       "[sin(3*x) == -sin(2*x) - sin(x)]"
      ]
     },
     "execution_count": 43,
     "metadata": {},
     "output_type": "execute_result"
    }
   ],
   "source": [
    "solve(expr, x)"
   ]
  },
  {
   "cell_type": "markdown",
   "metadata": {
    "slideshow": {
     "slide_type": "slide"
    }
   },
   "source": [
    "Nesses casos podemos usar a função `find_root`"
   ]
  },
  {
   "cell_type": "markdown",
   "metadata": {
    "slideshow": {
     "slide_type": "fragment"
    }
   },
   "source": [
    "A função `find_root(equação, min, max)` procura solução numérica para a equação no intervalo entre min e max. "
   ]
  },
  {
   "cell_type": "code",
   "execution_count": 44,
   "metadata": {
    "slideshow": {
     "slide_type": "fragment"
    }
   },
   "outputs": [
    {
     "data": {
      "text/html": [
       "<html><script type=\"math/tex; mode=display\">\\newcommand{\\Bold}[1]{\\mathbf{#1}}2.0943951023931957</script></html>"
      ],
      "text/latex": [
       "\\begin{math}\n",
       "\\newcommand{\\Bold}[1]{\\mathbf{#1}}2.0943951023931957\n",
       "\\end{math}"
      ],
      "text/plain": [
       "2.0943951023931957"
      ]
     },
     "execution_count": 44,
     "metadata": {},
     "output_type": "execute_result"
    }
   ],
   "source": [
    "find_root(expr,.1,pi)"
   ]
  },
  {
   "cell_type": "markdown",
   "metadata": {
    "slideshow": {
     "slide_type": "subslide"
    }
   },
   "source": [
    "Nesse caso particular, uma solução analítica poderia ser obtida simplificando a equação"
   ]
  },
  {
   "cell_type": "code",
   "execution_count": 45,
   "metadata": {
    "slideshow": {
     "slide_type": "fragment"
    }
   },
   "outputs": [
    {
     "data": {
      "text/html": [
       "<html><script type=\"math/tex; mode=display\">\\newcommand{\\Bold}[1]{\\mathbf{#1}}2 \\, {\\left(2 \\, \\cos\\left(x\\right) + 1\\right)} \\cos\\left(x\\right) \\sin\\left(x\\right) = 0</script></html>"
      ],
      "text/latex": [
       "\\begin{math}\n",
       "\\newcommand{\\Bold}[1]{\\mathbf{#1}}2 \\, {\\left(2 \\, \\cos\\left(x\\right) + 1\\right)} \\cos\\left(x\\right) \\sin\\left(x\\right) = 0\n",
       "\\end{math}"
      ],
      "text/plain": [
       "2*(2*cos(x) + 1)*cos(x)*sin(x) == 0"
      ]
     },
     "execution_count": 45,
     "metadata": {},
     "output_type": "execute_result"
    }
   ],
   "source": [
    "expr2 = expr.simplify_trig().factor(); expr2"
   ]
  },
  {
   "cell_type": "code",
   "execution_count": 46,
   "metadata": {
    "slideshow": {
     "slide_type": "fragment"
    }
   },
   "outputs": [
    {
     "data": {
      "text/html": [
       "<html><script type=\"math/tex; mode=display\">\\newcommand{\\Bold}[1]{\\mathbf{#1}}\\left[x = 0, x = \\frac{2}{3} \\, \\pi, x = \\frac{1}{2} \\, \\pi\\right]</script></html>"
      ],
      "text/latex": [
       "\\begin{math}\n",
       "\\newcommand{\\Bold}[1]{\\mathbf{#1}}\\left[x = 0, x = \\frac{2}{3} \\, \\pi, x = \\frac{1}{2} \\, \\pi\\right]\n",
       "\\end{math}"
      ],
      "text/plain": [
       "[x == 0, x == 2/3*pi, x == 1/2*pi]"
      ]
     },
     "execution_count": 46,
     "metadata": {},
     "output_type": "execute_result"
    }
   ],
   "source": [
    "solve(expr2, x)"
   ]
  },
  {
   "cell_type": "code",
   "execution_count": 47,
   "metadata": {
    "slideshow": {
     "slide_type": "skip"
    }
   },
   "outputs": [
    {
     "data": {
      "text/html": [
       "<html><script type=\"math/tex; mode=display\">\\newcommand{\\Bold}[1]{\\mathbf{#1}}\\sin\\left(3 \\, x\\right) + \\sin\\left(2 \\, x\\right) + \\sin\\left(x\\right)</script></html>"
      ],
      "text/latex": [
       "\\begin{math}\n",
       "\\newcommand{\\Bold}[1]{\\mathbf{#1}}\\sin\\left(3 \\, x\\right) + \\sin\\left(2 \\, x\\right) + \\sin\\left(x\\right)\n",
       "\\end{math}"
      ],
      "text/plain": [
       "sin(3*x) + sin(2*x) + sin(x)"
      ]
     },
     "execution_count": 47,
     "metadata": {},
     "output_type": "execute_result"
    }
   ],
   "source": [
    "expr.lhs()"
   ]
  },
  {
   "cell_type": "code",
   "execution_count": 48,
   "metadata": {
    "slideshow": {
     "slide_type": "subslide"
    }
   },
   "outputs": [
    {
     "data": {
      "image/png": "[encoded data removed]",
      "text/plain": [
       "Graphics object consisting of 1 graphics primitive"
      ]
     },
     "execution_count": 48,
     "metadata": {},
     "output_type": "execute_result"
    }
   ],
   "source": [
    "plot(expr.lhs(),(x,0,pi), gridlines=True)"
   ]
  },
  {
   "cell_type": "markdown",
   "metadata": {
    "slideshow": {
     "slide_type": "slide"
    }
   },
   "source": [
    "Note que existem mais sluções do que o que o `find_root` encontrou. Ele mostra a primeira que encontra. "
   ]
  },
  {
   "cell_type": "markdown",
   "metadata": {
    "slideshow": {
     "slide_type": "fragment"
    }
   },
   "source": [
    "Poderíamos encontar a outra restringindo o intervalo (min, max)"
   ]
  },
  {
   "cell_type": "code",
   "execution_count": 49,
   "metadata": {
    "slideshow": {
     "slide_type": "fragment"
    }
   },
   "outputs": [
    {
     "data": {
      "text/html": [
       "<html><script type=\"math/tex; mode=display\">\\newcommand{\\Bold}[1]{\\mathbf{#1}}1.570796326794898</script></html>"
      ],
      "text/latex": [
       "\\begin{math}\n",
       "\\newcommand{\\Bold}[1]{\\mathbf{#1}}1.570796326794898\n",
       "\\end{math}"
      ],
      "text/plain": [
       "1.570796326794898"
      ]
     },
     "execution_count": 49,
     "metadata": {},
     "output_type": "execute_result"
    }
   ],
   "source": [
    "find_root(expr,.1,pi/2+.1)"
   ]
  },
  {
   "cell_type": "markdown",
   "metadata": {
    "slideshow": {
     "slide_type": "slide"
    }
   },
   "source": [
    "Função | Sintáxe\n",
    ":--- | ---\n",
    "Solução simbólica | `solve(equação, variável)`\n",
    "Solução numérica | `find_root(equação, min, manx)`"
   ]
  },
  {
   "cell_type": "markdown",
   "metadata": {},
   "source": [
    "## Exercícios"
   ]
  },
  {
   "cell_type": "markdown",
   "metadata": {},
   "source": [
    "1. Defina um polinômio de grau 2 na forma $p(x) = ax^2+bx+c$. Lembre-se de definir as variáveis simbólicas antes. Agora use o solve para encontrar as soluções $p(x)=0$."
   ]
  },
  {
   "cell_type": "code",
   "execution_count": null,
   "metadata": {},
   "outputs": [],
   "source": []
  },
  {
   "cell_type": "code",
   "execution_count": null,
   "metadata": {},
   "outputs": [],
   "source": []
  },
  {
   "cell_type": "markdown",
   "metadata": {
    "slideshow": {
     "slide_type": "slide"
    }
   },
   "source": [
    "## 6. Ferramentas de cálculo"
   ]
  },
  {
   "cell_type": "markdown",
   "metadata": {
    "slideshow": {
     "slide_type": "slide"
    }
   },
   "source": [
    "### 6.1 Derivadas"
   ]
  },
  {
   "cell_type": "markdown",
   "metadata": {},
   "source": [
    "Simples"
   ]
  },
  {
   "cell_type": "code",
   "execution_count": 50,
   "metadata": {
    "slideshow": {
     "slide_type": "fragment"
    }
   },
   "outputs": [
    {
     "data": {
      "text/html": [
       "<html><script type=\"math/tex; mode=display\">\\newcommand{\\Bold}[1]{\\mathbf{#1}}2 \\, x \\cos\\left(x^{2}\\right)</script></html>"
      ],
      "text/latex": [
       "\\begin{math}\n",
       "\\newcommand{\\Bold}[1]{\\mathbf{#1}}2 \\, x \\cos\\left(x^{2}\\right)\n",
       "\\end{math}"
      ],
      "text/plain": [
       "2*x*cos(x^2)"
      ]
     },
     "execution_count": 50,
     "metadata": {},
     "output_type": "execute_result"
    }
   ],
   "source": [
    "diff(sin(x^2),x)"
   ]
  },
  {
   "cell_type": "markdown",
   "metadata": {
    "slideshow": {
     "slide_type": "subslide"
    }
   },
   "source": [
    "de ordem superior"
   ]
  },
  {
   "cell_type": "code",
   "execution_count": 51,
   "metadata": {
    "slideshow": {
     "slide_type": "fragment"
    }
   },
   "outputs": [
    {
     "data": {
      "text/html": [
       "<html><script type=\"math/tex; mode=display\">\\newcommand{\\Bold}[1]{\\mathbf{#1}}-8 \\, x^{3} \\cos\\left(x^{2}\\right) - 12 \\, x \\sin\\left(x^{2}\\right)</script></html>"
      ],
      "text/latex": [
       "\\begin{math}\n",
       "\\newcommand{\\Bold}[1]{\\mathbf{#1}}-8 \\, x^{3} \\cos\\left(x^{2}\\right) - 12 \\, x \\sin\\left(x^{2}\\right)\n",
       "\\end{math}"
      ],
      "text/plain": [
       "-8*x^3*cos(x^2) - 12*x*sin(x^2)"
      ]
     },
     "execution_count": 51,
     "metadata": {},
     "output_type": "execute_result"
    }
   ],
   "source": [
    "diff(sin(x^2), x,3)"
   ]
  },
  {
   "cell_type": "markdown",
   "metadata": {
    "slideshow": {
     "slide_type": "subslide"
    }
   },
   "source": [
    "parcial"
   ]
  },
  {
   "cell_type": "code",
   "execution_count": 52,
   "metadata": {
    "slideshow": {
     "slide_type": "fragment"
    }
   },
   "outputs": [
    {
     "data": {
      "text/html": [
       "<html><script type=\"math/tex; mode=display\">\\newcommand{\\Bold}[1]{\\mathbf{#1}}x y^{2} + e^{\\left(-x\\right)} + \\sin\\left(x^{2}\\right)</script></html>"
      ],
      "text/latex": [
       "\\begin{math}\n",
       "\\newcommand{\\Bold}[1]{\\mathbf{#1}}x y^{2} + e^{\\left(-x\\right)} + \\sin\\left(x^{2}\\right)\n",
       "\\end{math}"
      ],
      "text/plain": [
       "x*y^2 + e^(-x) + sin(x^2)"
      ]
     },
     "execution_count": 52,
     "metadata": {},
     "output_type": "execute_result"
    }
   ],
   "source": [
    "h(x,y) = x*y^2 + sin(x^2) + e^(-x); h(x,y)"
   ]
  },
  {
   "cell_type": "code",
   "execution_count": 53,
   "metadata": {
    "slideshow": {
     "slide_type": "fragment"
    }
   },
   "outputs": [
    {
     "data": {
      "text/html": [
       "<html><script type=\"math/tex; mode=display\">\\newcommand{\\Bold}[1]{\\mathbf{#1}}y^{2} + 2 \\, x \\cos\\left(x^{2}\\right) - e^{\\left(-x\\right)}</script></html>"
      ],
      "text/latex": [
       "\\begin{math}\n",
       "\\newcommand{\\Bold}[1]{\\mathbf{#1}}y^{2} + 2 \\, x \\cos\\left(x^{2}\\right) - e^{\\left(-x\\right)}\n",
       "\\end{math}"
      ],
      "text/plain": [
       "y^2 + 2*x*cos(x^2) - e^(-x)"
      ]
     },
     "execution_count": 53,
     "metadata": {},
     "output_type": "execute_result"
    }
   ],
   "source": [
    "diff(h(x,y), x)"
   ]
  },
  {
   "cell_type": "code",
   "execution_count": 54,
   "metadata": {
    "slideshow": {
     "slide_type": "fragment"
    }
   },
   "outputs": [
    {
     "data": {
      "text/html": [
       "<html><script type=\"math/tex; mode=display\">\\newcommand{\\Bold}[1]{\\mathbf{#1}}2 \\, x y</script></html>"
      ],
      "text/latex": [
       "\\begin{math}\n",
       "\\newcommand{\\Bold}[1]{\\mathbf{#1}}2 \\, x y\n",
       "\\end{math}"
      ],
      "text/plain": [
       "2*x*y"
      ]
     },
     "execution_count": 54,
     "metadata": {},
     "output_type": "execute_result"
    }
   ],
   "source": [
    "diff(h(x,y), y)"
   ]
  },
  {
   "cell_type": "markdown",
   "metadata": {
    "slideshow": {
     "slide_type": "slide"
    }
   },
   "source": [
    "### 6.2 Integrais"
   ]
  },
  {
   "cell_type": "code",
   "execution_count": 55,
   "metadata": {},
   "outputs": [],
   "source": [
    "g(x) = 1/(1+x^2)"
   ]
  },
  {
   "cell_type": "code",
   "execution_count": 56,
   "metadata": {
    "slideshow": {
     "slide_type": "fragment"
    }
   },
   "outputs": [
    {
     "data": {
      "text/html": [
       "<html><script type=\"math/tex; mode=display\">\\newcommand{\\Bold}[1]{\\mathbf{#1}}\\int_{-\\infty}^{+\\infty} \\frac{1}{x^{2} + 1}\\,{d x}</script></html>"
      ],
      "text/latex": [
       "\\begin{math}\n",
       "\\newcommand{\\Bold}[1]{\\mathbf{#1}}\\int_{-\\infty}^{+\\infty} \\frac{1}{x^{2} + 1}\\,{d x}\n",
       "\\end{math}"
      ],
      "text/plain": [
       "integrate(1/(x^2 + 1), x, -Infinity, +Infinity)"
      ]
     },
     "execution_count": 56,
     "metadata": {},
     "output_type": "execute_result"
    }
   ],
   "source": [
    "integral(g(x),x, -infinity, infinity,hold=True)"
   ]
  },
  {
   "cell_type": "code",
   "execution_count": 57,
   "metadata": {
    "slideshow": {
     "slide_type": "fragment"
    }
   },
   "outputs": [
    {
     "data": {
      "text/html": [
       "<html><script type=\"math/tex; mode=display\">\\newcommand{\\Bold}[1]{\\mathbf{#1}}\\pi</script></html>"
      ],
      "text/latex": [
       "\\begin{math}\n",
       "\\newcommand{\\Bold}[1]{\\mathbf{#1}}\\pi\n",
       "\\end{math}"
      ],
      "text/plain": [
       "pi"
      ]
     },
     "execution_count": 57,
     "metadata": {},
     "output_type": "execute_result"
    }
   ],
   "source": [
    "integral(g(x),x, -infinity, infinity)"
   ]
  },
  {
   "cell_type": "code",
   "execution_count": 58,
   "metadata": {
    "slideshow": {
     "slide_type": "subslide"
    }
   },
   "outputs": [
    {
     "data": {
      "text/html": [
       "<html><script type=\"math/tex; mode=display\">\\newcommand{\\Bold}[1]{\\mathbf{#1}}r - \\frac{2 \\, G M \\log\\left(r\\right)}{c^{2}}</script></html>"
      ],
      "text/latex": [
       "\\begin{math}\n",
       "\\newcommand{\\Bold}[1]{\\mathbf{#1}}r - \\frac{2 \\, G M \\log\\left(r\\right)}{c^{2}}\n",
       "\\end{math}"
      ],
      "text/plain": [
       "r - 2*G*M*log(r)/c^2"
      ]
     },
     "execution_count": 58,
     "metadata": {},
     "output_type": "execute_result"
    }
   ],
   "source": [
    "var('G M r c')\n",
    "integrate(1-2*G*M/(c^2*r), r)"
   ]
  },
  {
   "cell_type": "code",
   "execution_count": 59,
   "metadata": {
    "slideshow": {
     "slide_type": "fragment"
    }
   },
   "outputs": [
    {
     "data": {
      "text/html": [
       "<html><script type=\"math/tex; mode=display\">\\newcommand{\\Bold}[1]{\\mathbf{#1}}-\\frac{2 \\, G M}{c^{2} r} + 1</script></html>"
      ],
      "text/latex": [
       "\\begin{math}\n",
       "\\newcommand{\\Bold}[1]{\\mathbf{#1}}-\\frac{2 \\, G M}{c^{2} r} + 1\n",
       "\\end{math}"
      ],
      "text/plain": [
       "-2*G*M/(c^2*r) + 1"
      ]
     },
     "execution_count": 59,
     "metadata": {},
     "output_type": "execute_result"
    }
   ],
   "source": [
    "diff(_,r)"
   ]
  },
  {
   "cell_type": "markdown",
   "metadata": {
    "slideshow": {
     "slide_type": "slide"
    }
   },
   "source": [
    "### 6.3 Integração numérica"
   ]
  },
  {
   "cell_type": "markdown",
   "metadata": {
    "slideshow": {
     "slide_type": "fragment"
    }
   },
   "source": [
    "Para calcular numericamente uma integral usamos a função `integral_numerical`."
   ]
  },
  {
   "cell_type": "markdown",
   "metadata": {
    "slideshow": {
     "slide_type": "fragment"
    }
   },
   "source": [
    "Essa função  retorna um par: "
   ]
  },
  {
   "cell_type": "markdown",
   "metadata": {
    "slideshow": {
     "slide_type": "fragment"
    }
   },
   "source": [
    "   * o primeiro valor é a aproximação da integral;"
   ]
  },
  {
   "cell_type": "markdown",
   "metadata": {
    "slideshow": {
     "slide_type": "fragment"
    }
   },
   "source": [
    "   * o segundo uma estimativa do erro correspondente."
   ]
  },
  {
   "cell_type": "code",
   "execution_count": 60,
   "metadata": {
    "slideshow": {
     "slide_type": "subslide"
    }
   },
   "outputs": [
    {
     "data": {
      "text/html": [
       "<html><script type=\"math/tex; mode=display\">\\newcommand{\\Bold}[1]{\\mathbf{#1}}\\left(0.946083070367183, 1.0503632079297087 \\times 10^{-14}\\right)</script></html>"
      ],
      "text/latex": [
       "\\begin{math}\n",
       "\\newcommand{\\Bold}[1]{\\mathbf{#1}}\\left(0.946083070367183, 1.0503632079297087 \\times 10^{-14}\\right)\n",
       "\\end{math}"
      ],
      "text/plain": [
       "(0.946083070367183, 1.0503632079297087e-14)"
      ]
     },
     "execution_count": 60,
     "metadata": {},
     "output_type": "execute_result"
    }
   ],
   "source": [
    "integral_numerical(sin(x)/x, 0, 1)"
   ]
  },
  {
   "cell_type": "code",
   "execution_count": 61,
   "metadata": {
    "slideshow": {
     "slide_type": "fragment"
    }
   },
   "outputs": [
    {
     "data": {
      "text/html": [
       "<html><script type=\"math/tex; mode=display\">\\newcommand{\\Bold}[1]{\\mathbf{#1}}\\operatorname{Si}\\left(1\\right)</script></html>"
      ],
      "text/latex": [
       "\\begin{math}\n",
       "\\newcommand{\\Bold}[1]{\\mathbf{#1}}\\operatorname{Si}\\left(1\\right)\n",
       "\\end{math}"
      ],
      "text/plain": [
       "sin_integral(1)"
      ]
     },
     "execution_count": 61,
     "metadata": {},
     "output_type": "execute_result"
    }
   ],
   "source": [
    "integral(sin(x)/x,x, 0, 1)"
   ]
  },
  {
   "cell_type": "code",
   "execution_count": 62,
   "metadata": {},
   "outputs": [
    {
     "data": {
      "text/html": [
       "<html><script type=\"math/tex; mode=display\">\\newcommand{\\Bold}[1]{\\mathbf{#1}}0.946083070367183</script></html>"
      ],
      "text/latex": [
       "\\begin{math}\n",
       "\\newcommand{\\Bold}[1]{\\mathbf{#1}}0.946083070367183\n",
       "\\end{math}"
      ],
      "text/plain": [
       "0.946083070367183"
      ]
     },
     "execution_count": 62,
     "metadata": {},
     "output_type": "execute_result"
    }
   ],
   "source": [
    "integral(sin(x)/x,x, 0, 1).n()"
   ]
  },
  {
   "cell_type": "code",
   "execution_count": 63,
   "metadata": {
    "jupyter": {
     "outputs_hidden": true
    }
   },
   "outputs": [],
   "source": [
    "sin_integral?"
   ]
  },
  {
   "cell_type": "markdown",
   "metadata": {
    "slideshow": {
     "slide_type": "slide"
    }
   },
   "source": [
    "### 6.4 Séries de Taylor"
   ]
  },
  {
   "cell_type": "code",
   "execution_count": 64,
   "metadata": {
    "slideshow": {
     "slide_type": "fragment"
    }
   },
   "outputs": [
    {
     "data": {
      "text/html": [
       "<html><script type=\"math/tex; mode=display\">\\newcommand{\\Bold}[1]{\\mathbf{#1}}1</script></html>"
      ],
      "text/latex": [
       "\\begin{math}\n",
       "\\newcommand{\\Bold}[1]{\\mathbf{#1}}1\n",
       "\\end{math}"
      ],
      "text/plain": [
       "1"
      ]
     },
     "execution_count": 64,
     "metadata": {},
     "output_type": "execute_result"
    }
   ],
   "source": [
    "taylor(f(x), x, 0, 3)"
   ]
  },
  {
   "cell_type": "code",
   "execution_count": null,
   "metadata": {},
   "outputs": [],
   "source": []
  },
  {
   "cell_type": "markdown",
   "metadata": {
    "slideshow": {
     "slide_type": "slide"
    }
   },
   "source": [
    "Função | Sintáxe\n",
    ":-- |:--\n",
    "Limite | `lim(f(x),x=a)` ou `limit(f(x),x=a)`\n",
    "Derivada | `diff(f(x), x)` ou `f(x).diff()`\n",
    "n-ésima derivada | `diff(f(x), x, n)`\n",
    "Integral indefinida | `integral(f(x), x)`\n",
    "Integral definida | `integral(f(x), x, lim_inf, lim_sup)`\n",
    "Integral numérica | `integral_numerical(f(x), lim_inf, lim_sup)`\n",
    "Série de Taylor | `taylor(f(x), x, x_0, ordem)`"
   ]
  },
  {
   "cell_type": "markdown",
   "metadata": {},
   "source": [
    "## 7. Substituições em expressões simbólicas"
   ]
  },
  {
   "cell_type": "markdown",
   "metadata": {},
   "source": [
    "Uma funcionalidade muito útil em cálculos simbólicos é a substituição de exprssões com o método `.subs()`."
   ]
  },
  {
   "cell_type": "code",
   "execution_count": 65,
   "metadata": {},
   "outputs": [
    {
     "data": {
      "text/html": [
       "<html><script type=\"math/tex; mode=display\">\\newcommand{\\Bold}[1]{\\mathbf{#1}}A + B</script></html>"
      ],
      "text/latex": [
       "\\begin{math}\n",
       "\\newcommand{\\Bold}[1]{\\mathbf{#1}}A + B\n",
       "\\end{math}"
      ],
      "text/plain": [
       "A + B"
      ]
     },
     "execution_count": 65,
     "metadata": {},
     "output_type": "execute_result"
    }
   ],
   "source": [
    "var('A B C D')\n",
    "a = A+B;a"
   ]
  },
  {
   "cell_type": "code",
   "execution_count": 66,
   "metadata": {},
   "outputs": [
    {
     "data": {
      "text/html": [
       "<html><script type=\"math/tex; mode=display\">\\newcommand{\\Bold}[1]{\\mathbf{#1}}B + D</script></html>"
      ],
      "text/latex": [
       "\\begin{math}\n",
       "\\newcommand{\\Bold}[1]{\\mathbf{#1}}B + D\n",
       "\\end{math}"
      ],
      "text/plain": [
       "B + D"
      ]
     },
     "execution_count": 66,
     "metadata": {},
     "output_type": "execute_result"
    }
   ],
   "source": [
    "a.subs(A==D)"
   ]
  },
  {
   "cell_type": "code",
   "execution_count": 67,
   "metadata": {},
   "outputs": [
    {
     "data": {
      "text/html": [
       "<html><script type=\"math/tex; mode=display\">\\newcommand{\\Bold}[1]{\\mathbf{#1}}A x^{2} + B x + C</script></html>"
      ],
      "text/latex": [
       "\\begin{math}\n",
       "\\newcommand{\\Bold}[1]{\\mathbf{#1}}A x^{2} + B x + C\n",
       "\\end{math}"
      ],
      "text/plain": [
       "A*x^2 + B*x + C"
      ]
     },
     "execution_count": 67,
     "metadata": {},
     "output_type": "execute_result"
    }
   ],
   "source": [
    "f(x) = A*x^2+B*x+C;f(x)"
   ]
  },
  {
   "cell_type": "code",
   "execution_count": 68,
   "metadata": {},
   "outputs": [
    {
     "data": {
      "text/html": [
       "<html><script type=\"math/tex; mode=display\">\\newcommand{\\Bold}[1]{\\mathbf{#1}}x^{2} + 5 \\, x + 9</script></html>"
      ],
      "text/latex": [
       "\\begin{math}\n",
       "\\newcommand{\\Bold}[1]{\\mathbf{#1}}x^{2} + 5 \\, x + 9\n",
       "\\end{math}"
      ],
      "text/plain": [
       "x^2 + 5*x + 9"
      ]
     },
     "execution_count": 68,
     "metadata": {},
     "output_type": "execute_result"
    }
   ],
   "source": [
    "f(x).subs(A==1,B==5,C==9)"
   ]
  },
  {
   "cell_type": "code",
   "execution_count": 69,
   "metadata": {},
   "outputs": [
    {
     "data": {
      "text/html": [
       "<html><script type=\"math/tex; mode=display\">\\newcommand{\\Bold}[1]{\\mathbf{#1}}2 \\, A x + B + \\cos\\left(x\\right)</script></html>"
      ],
      "text/latex": [
       "\\begin{math}\n",
       "\\newcommand{\\Bold}[1]{\\mathbf{#1}}2 \\, A x + B + \\cos\\left(x\\right)\n",
       "\\end{math}"
      ],
      "text/plain": [
       "2*A*x + B + cos(x)"
      ]
     },
     "execution_count": 69,
     "metadata": {},
     "output_type": "execute_result"
    }
   ],
   "source": [
    "b = diff(f(x),x)+cos(x);b"
   ]
  },
  {
   "cell_type": "code",
   "execution_count": 70,
   "metadata": {},
   "outputs": [
    {
     "data": {
      "text/html": [
       "<html><script type=\"math/tex; mode=display\">\\newcommand{\\Bold}[1]{\\mathbf{#1}}2 \\, A x + B + 2</script></html>"
      ],
      "text/latex": [
       "\\begin{math}\n",
       "\\newcommand{\\Bold}[1]{\\mathbf{#1}}2 \\, A x + B + 2\n",
       "\\end{math}"
      ],
      "text/plain": [
       "2*A*x + B + 2"
      ]
     },
     "execution_count": 70,
     "metadata": {},
     "output_type": "execute_result"
    }
   ],
   "source": [
    "b.subs(cos(x)==2)"
   ]
  },
  {
   "cell_type": "markdown",
   "metadata": {},
   "source": [
    "Podemos introduzir funções com expressão não definida"
   ]
  },
  {
   "cell_type": "code",
   "execution_count": 71,
   "metadata": {},
   "outputs": [
    {
     "data": {
      "text/html": [
       "<html><script type=\"math/tex; mode=display\">\\newcommand{\\Bold}[1]{\\mathbf{#1}}h\\left(x\\right)</script></html>"
      ],
      "text/latex": [
       "\\begin{math}\n",
       "\\newcommand{\\Bold}[1]{\\mathbf{#1}}h\\left(x\\right)\n",
       "\\end{math}"
      ],
      "text/plain": [
       "h(x)"
      ]
     },
     "execution_count": 71,
     "metadata": {},
     "output_type": "execute_result"
    }
   ],
   "source": [
    "h = function('h')(x);h"
   ]
  },
  {
   "cell_type": "code",
   "execution_count": 72,
   "metadata": {},
   "outputs": [
    {
     "data": {
      "text/html": [
       "<html><script type=\"math/tex; mode=display\">\\newcommand{\\Bold}[1]{\\mathbf{#1}}2 \\, {\\left(9 \\, A x^{2} + 3 \\, B x + C\\right)}^{2} + \\frac{\\partial^{2}}{(\\partial x)^{2}}h\\left(x\\right)</script></html>"
      ],
      "text/latex": [
       "\\begin{math}\n",
       "\\newcommand{\\Bold}[1]{\\mathbf{#1}}2 \\, {\\left(9 \\, A x^{2} + 3 \\, B x + C\\right)}^{2} + \\frac{\\partial^{2}}{(\\partial x)^{2}}h\\left(x\\right)\n",
       "\\end{math}"
      ],
      "text/plain": [
       "2*(9*A*x^2 + 3*B*x + C)^2 + diff(h(x), x, x)"
      ]
     },
     "execution_count": 72,
     "metadata": {},
     "output_type": "execute_result"
    }
   ],
   "source": [
    "c = diff(h(x),x,2)+2*f(3*x)^2;c"
   ]
  },
  {
   "cell_type": "code",
   "execution_count": 73,
   "metadata": {},
   "outputs": [
    {
     "data": {
      "text/html": [
       "<html><script type=\"math/tex; mode=display\">\\newcommand{\\Bold}[1]{\\mathbf{#1}}2 \\, {\\left(9 \\, A x^{2} + 3 \\, B x + C\\right)}^{2} + \\frac{x}{\\pi}</script></html>"
      ],
      "text/latex": [
       "\\begin{math}\n",
       "\\newcommand{\\Bold}[1]{\\mathbf{#1}}2 \\, {\\left(9 \\, A x^{2} + 3 \\, B x + C\\right)}^{2} + \\frac{x}{\\pi}\n",
       "\\end{math}"
      ],
      "text/plain": [
       "2*(9*A*x^2 + 3*B*x + C)^2 + x/pi"
      ]
     },
     "execution_count": 73,
     "metadata": {},
     "output_type": "execute_result"
    }
   ],
   "source": [
    "c.subs(diff(h(x),x,2)==x/pi)"
   ]
  },
  {
   "cell_type": "markdown",
   "metadata": {},
   "source": [
    "## 8. Equações diferenciais ordinárias"
   ]
  },
  {
   "cell_type": "code",
   "execution_count": 74,
   "metadata": {},
   "outputs": [
    {
     "data": {
      "text/html": [
       "<html><script type=\"math/tex; mode=display\">\\newcommand{\\Bold}[1]{\\mathbf{#1}}y\\left(x\\right)</script></html>"
      ],
      "text/latex": [
       "\\begin{math}\n",
       "\\newcommand{\\Bold}[1]{\\mathbf{#1}}y\\left(x\\right)\n",
       "\\end{math}"
      ],
      "text/plain": [
       "y(x)"
      ]
     },
     "execution_count": 74,
     "metadata": {},
     "output_type": "execute_result"
    }
   ],
   "source": [
    "y = function('y')(x);y"
   ]
  },
  {
   "cell_type": "code",
   "execution_count": 75,
   "metadata": {},
   "outputs": [
    {
     "data": {
      "text/html": [
       "<html><script type=\"math/tex; mode=display\">\\newcommand{\\Bold}[1]{\\mathbf{#1}}\\frac{\\partial}{\\partial x}y\\left(x\\right) = -\\frac{2 \\, x - \\cos\\left(y\\left(x\\right)\\right)}{x \\sin\\left(y\\left(x\\right)\\right) + y\\left(x\\right)}</script></html>"
      ],
      "text/latex": [
       "\\begin{math}\n",
       "\\newcommand{\\Bold}[1]{\\mathbf{#1}}\\frac{\\partial}{\\partial x}y\\left(x\\right) = -\\frac{2 \\, x - \\cos\\left(y\\left(x\\right)\\right)}{x \\sin\\left(y\\left(x\\right)\\right) + y\\left(x\\right)}\n",
       "\\end{math}"
      ],
      "text/plain": [
       "diff(y(x), x) == -(2*x - cos(y(x)))/(x*sin(y(x)) + y(x))"
      ]
     },
     "execution_count": 75,
     "metadata": {},
     "output_type": "execute_result"
    }
   ],
   "source": [
    "ed_1 = diff(y,x) == (cos(y)-2*x)/(y+x*sin(y)); ed_1"
   ]
  },
  {
   "cell_type": "markdown",
   "metadata": {},
   "source": [
    "Lembrando que para resolver equações diferenciais usamos `desolve(equação, dvar, ivar=t)`, onde `dvar` é a variável dependente e `ivar=t` indica que a variável independente e $t$"
   ]
  },
  {
   "cell_type": "code",
   "execution_count": 76,
   "metadata": {},
   "outputs": [
    {
     "data": {
      "text/html": [
       "<html><script type=\"math/tex; mode=display\">\\newcommand{\\Bold}[1]{\\mathbf{#1}}x^{2} - x \\cos\\left(y\\left(x\\right)\\right) + \\frac{1}{2} \\, y\\left(x\\right)^{2} = C</script></html>"
      ],
      "text/latex": [
       "\\begin{math}\n",
       "\\newcommand{\\Bold}[1]{\\mathbf{#1}}x^{2} - x \\cos\\left(y\\left(x\\right)\\right) + \\frac{1}{2} \\, y\\left(x\\right)^{2} = C\n",
       "\\end{math}"
      ],
      "text/plain": [
       "x^2 - x*cos(y(x)) + 1/2*y(x)^2 == _C"
      ]
     },
     "execution_count": 76,
     "metadata": {},
     "output_type": "execute_result"
    }
   ],
   "source": [
    "sol_ed = desolve(ed_1, y); sol_ed"
   ]
  },
  {
   "cell_type": "markdown",
   "metadata": {},
   "source": [
    "Podemos plotar a função usando o `implicit_plot`"
   ]
  },
  {
   "cell_type": "markdown",
   "metadata": {},
   "source": [
    "O comando `implicit_plot` recebe uma função de duas variáveis como entrada, $f(x, y)$, e plota a curva $f(x, y) = 0$ sobre os intervalo de $x$ e  y especificados. Sintáxe `implicit_plot(f(x,y),(x,xmin,xmax),(y,ymin,ymax), *opções)`"
   ]
  },
  {
   "cell_type": "code",
   "execution_count": 77,
   "metadata": {},
   "outputs": [
    {
     "data": {
      "text/html": [
       "<html><script type=\"math/tex; mode=display\">\\newcommand{\\Bold}[1]{\\mathbf{#1}}\\frac{1}{2} \\, u^{2} + x^{2} - x \\cos\\left(u\\right)</script></html>"
      ],
      "text/latex": [
       "\\begin{math}\n",
       "\\newcommand{\\Bold}[1]{\\mathbf{#1}}\\frac{1}{2} \\, u^{2} + x^{2} - x \\cos\\left(u\\right)\n",
       "\\end{math}"
      ],
      "text/plain": [
       "1/2*u^2 + x^2 - x*cos(u)"
      ]
     },
     "execution_count": 77,
     "metadata": {},
     "output_type": "execute_result"
    }
   ],
   "source": [
    "var('u')\n",
    "sol_ed2 = sol_ed.lhs().subs(y(x)==u);sol_ed2"
   ]
  },
  {
   "cell_type": "code",
   "execution_count": 78,
   "metadata": {},
   "outputs": [
    {
     "data": {
      "image/png": "[encoded data removed]",
      "text/plain": [
       "Graphics object consisting of 1 graphics primitive"
      ]
     },
     "execution_count": 78,
     "metadata": {},
     "output_type": "execute_result"
    }
   ],
   "source": [
    "plot_sol = implicit_plot(sol_ed2, (x,-.5,1), (u,-.7,.7), color=(0,.5,1), axes_labels=['$x$','$u$']); plot_sol"
   ]
  },
  {
   "cell_type": "markdown",
   "metadata": {},
   "source": [
    "Com campo"
   ]
  },
  {
   "cell_type": "code",
   "execution_count": 79,
   "metadata": {},
   "outputs": [
    {
     "data": {
      "image/png": "[encoded data removed]",
      "text/plain": [
       "Graphics object consisting of 1 graphics primitive"
      ]
     },
     "execution_count": 79,
     "metadata": {},
     "output_type": "execute_result"
    }
   ],
   "source": [
    "plot_campos = plot_slope_field(ed_1.rhs().subs({y(x):u}), (x,-1.5,2), (u,-1.5,1.5));plot_campos"
   ]
  },
  {
   "cell_type": "code",
   "execution_count": 80,
   "metadata": {},
   "outputs": [
    {
     "data": {
      "image/png": "[encoded data removed]",
      "text/plain": [
       "Graphics object consisting of 2 graphics primitives"
      ]
     },
     "execution_count": 80,
     "metadata": {},
     "output_type": "execute_result"
    }
   ],
   "source": [
    "plot_sol+plot_campos"
   ]
  },
  {
   "cell_type": "markdown",
   "metadata": {},
   "source": [
    "## Exercícios"
   ]
  },
  {
   "cell_type": "markdown",
   "metadata": {},
   "source": [
    "2. Determine o valor de $\\frac{\\partial f}{\\partial u}(0,1,1)$, para \n",
    "$$\n",
    "f(s,t,u)=\\frac{s+tu}{\\sqrt{s^2+t^2+u^2}}\n",
    "$$"
   ]
  },
  {
   "cell_type": "code",
   "execution_count": null,
   "metadata": {},
   "outputs": [],
   "source": []
  },
  {
   "cell_type": "code",
   "execution_count": null,
   "metadata": {},
   "outputs": [],
   "source": []
  },
  {
   "cell_type": "code",
   "execution_count": null,
   "metadata": {},
   "outputs": [],
   "source": []
  },
  {
   "cell_type": "markdown",
   "metadata": {},
   "source": [
    "3. Dadas as equações de transformação de coordenadas cartesianas para esféficas, já definidas abaixo, manipule simbolicamente estas equações de modo a transformação inversa. Isto é, $r(x,y,z), \\theta(x,y,z)$ e $\\phi(x,y,z)$."
   ]
  },
  {
   "cell_type": "code",
   "execution_count": 81,
   "metadata": {},
   "outputs": [],
   "source": [
    "var('y z r theta phi')\n",
    "eqx = x == r*sin(theta)*cos(phi)\n",
    "eqy = y == r*sin(theta)*sin(phi)\n",
    "eqz = z == r*cos(theta)"
   ]
  },
  {
   "cell_type": "code",
   "execution_count": null,
   "metadata": {},
   "outputs": [],
   "source": []
  },
  {
   "cell_type": "code",
   "execution_count": null,
   "metadata": {},
   "outputs": [],
   "source": []
  },
  {
   "cell_type": "code",
   "execution_count": null,
   "metadata": {},
   "outputs": [],
   "source": []
  },
  {
   "cell_type": "code",
   "execution_count": null,
   "metadata": {},
   "outputs": [],
   "source": []
  },
  {
   "cell_type": "markdown",
   "metadata": {},
   "source": [
    "4. Seja $g$ a aceleração da gravidade na superfície da Terra. Em termos da teoria de Newton, se $R$ é o raio da terra e $M$ sua massa, \n",
    "$$g = \\frac{GM}{R^2}.$$ \n",
    "Determine a expansão de até terceira ordem para a modificação em $g$ a uma altura $h$ acima da superfície da terra."
   ]
  },
  {
   "cell_type": "code",
   "execution_count": null,
   "metadata": {},
   "outputs": [],
   "source": []
  },
  {
   "cell_type": "code",
   "execution_count": null,
   "metadata": {},
   "outputs": [],
   "source": []
  },
  {
   "cell_type": "code",
   "execution_count": null,
   "metadata": {},
   "outputs": [],
   "source": []
  }
 ],
 "metadata": {
  "kernelspec": {
   "display_name": "SageMath 9.2",
   "language": "sage",
   "name": "sagemath"
  },
  "language_info": {
   "codemirror_mode": {
    "name": "ipython",
    "version": 3
   },
   "file_extension": ".py",
   "mimetype": "text/x-python",
   "name": "python",
   "nbconvert_exporter": "python",
   "pygments_lexer": "ipython3",
   "version": "3.8.5"
  }
 },
 "nbformat": 4,
 "nbformat_minor": 4
}
